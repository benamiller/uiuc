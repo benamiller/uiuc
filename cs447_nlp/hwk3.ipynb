{
  "cells": [
    {
      "cell_type": "markdown",
      "metadata": {
        "id": "gau9xEXMGY8s"
      },
      "source": [
        "# CS 447 Homework 3 $-$ Neural Machine Translation\n",
        "In this homework we are going to perform machine translation using two deep learning approaches: a Recurrent Neural Network (RNN) and Transformer.\n",
        "\n",
        "Specifically, we are going to train sequence to sequence models for Spanish to English translation. In this assignment you only need to implement the neural network models, we implement all the data loading for you. Please **refer** to the following resources for more details:\n",
        "\n",
        "1.   https://papers.nips.cc/paper/5346-sequence-to-sequence-learning-with-neural-networks.pdf\n",
        "2.   https://pytorch.org/tutorials/intermediate/seq2seq_translation_tutorial.html\n",
        "3. https://arxiv.org/pdf/1409.0473.pdf\n",
        "\n",
        "<font color='green'><b>Hint:</b> We suggest that you work on this homework in <b>CPU</b> until you are ready to train. At that point, you should switch your runtime to <b>GPU</b>. You can do this by going to <TT>Runtime > Change Runtime Type</TT> and select \"GPU\" from the dropdown menu.\n",
        "* You will find it easier to debug on CPU, and the error messages will be more understandable.\n",
        "* Google monitors your GPU usage and will occasionally restrict GPU access if you use it too much. In these cases, you can either switch to a different Google account or wait for your access to be restored.</font>\n",
        "\n",
        "We have imported all the libraries you need to do this homework. <b>You should not import any extra libraries. Furthermore, you should not write any code outside of TODO sections.</b> If you do, the autograder will fail to run your code.\n",
        "\n"
      ]
    },
    {
      "cell_type": "code",
      "execution_count": null,
      "metadata": {
        "colab": {
          "base_uri": "https://localhost:8080/"
        },
        "id": "OF-5Ml1jz1HG",
        "outputId": "f66276ec-3644-46df-85fc-46f5a591a21a"
      },
      "outputs": [
        {
          "name": "stdout",
          "output_type": "stream",
          "text": [
            "Using device: cuda\n"
          ]
        }
      ],
      "source": [
        "### DO NOT EDIT ###\n",
        "\n",
        "import pandas as pd\n",
        "import unicodedata\n",
        "import re, math, random, os\n",
        "from torch.utils.data import Dataset\n",
        "import torch\n",
        "rnn_encoder, rnn_encoder, transformer_encoder, transformer_decoder = None, None, None, None\n",
        "DEVICE = torch.device('cuda' if torch.cuda.is_available() else 'cpu')\n",
        "if __name__=='__main__':\n",
        "    print('Using device:', DEVICE)"
      ]
    },
    {
      "cell_type": "markdown",
      "metadata": {
        "id": "KiXPRWasyIj1"
      },
      "source": [
        "# Helper Functions\n",
        "This cell contains helper functions for the notebook."
      ]
    },
    {
      "cell_type": "code",
      "execution_count": null,
      "metadata": {
        "id": "k_WR8vEGMQyS"
      },
      "outputs": [],
      "source": [
        "### DO NOT EDIT ###\n",
        "\n",
        "# Converts the unicode file to ascii\n",
        "def unicode_to_ascii(s):\n",
        "    \"\"\"Normalizes latin chars with accent to their canonical decomposition\"\"\"\n",
        "    return ''.join(c for c in unicodedata.normalize('NFD', s) if unicodedata.category(c) != 'Mn')\n",
        "\n",
        "\n",
        "def preprocess_sentence(w):\n",
        "    '''\n",
        "    Preprocess the sentence to add the start, end tokens and make them lower-case\n",
        "    '''\n",
        "    w = unicode_to_ascii(w.lower().strip())\n",
        "    w = re.sub(r'([?.!,¿])', r' \\1 ', w)\n",
        "    w = re.sub(r'[\" \"]+', ' ', w)\n",
        "\n",
        "    w = re.sub(r'[^a-zA-Z?.!,¿]+', ' ', w)\n",
        "\n",
        "    w = w.rstrip().strip()\n",
        "    w = '<start> ' + w + ' <end>'\n",
        "    return w\n",
        "\n",
        "\n",
        "def pad_sequences(x, max_len):\n",
        "    padded = np.zeros((max_len), dtype=np.int64)\n",
        "    if len(x) > max_len:\n",
        "        padded[:] = x[:max_len]\n",
        "    else:\n",
        "        padded[:len(x)] = x\n",
        "    return padded\n",
        "\n",
        "\n",
        "def preprocess_data_to_tensor(dataframe, src_vocab, trg_vocab):\n",
        "    # Vectorize the input and target languages\n",
        "    src_tensor = [[src_vocab.word2idx[s if s in src_vocab.vocab else '<unk>'] for s in es.split(' ')] for es in dataframe['es'].values.tolist()]\n",
        "    trg_tensor = [[trg_vocab.word2idx[s if s in trg_vocab.vocab else '<unk>'] for s in eng.split(' ')] for eng in dataframe['eng'].values.tolist()]\n",
        "\n",
        "    # Calculate the max_length of input and output tensor for padding\n",
        "    max_length_src, max_length_trg = max(len(t) for t in src_tensor), max(len(t) for t in trg_tensor)\n",
        "    print('max_length_src: {}, max_length_trg: {}'.format(max_length_src, max_length_trg))\n",
        "\n",
        "    # Pad all the sentences in the dataset with the max_length\n",
        "    src_tensor = [pad_sequences(x, max_length_src) for x in src_tensor]\n",
        "    trg_tensor = [pad_sequences(x, max_length_trg) for x in trg_tensor]\n",
        "\n",
        "    return src_tensor, trg_tensor, max_length_src, max_length_trg\n",
        "\n",
        "\n",
        "def train_test_split(src_tensor, trg_tensor):\n",
        "    '''\n",
        "    Create training and test sets.\n",
        "    '''\n",
        "    total_num_examples = len(src_tensor) - int(0.2*len(src_tensor))\n",
        "    src_tensor_train, src_tensor_test = src_tensor[:int(0.75*total_num_examples)], src_tensor[int(0.75*total_num_examples):total_num_examples]\n",
        "    trg_tensor_train, trg_tensor_test = trg_tensor[:int(0.75*total_num_examples)], trg_tensor[int(0.75*total_num_examples):total_num_examples]\n",
        "\n",
        "    return src_tensor_train, src_tensor_test, trg_tensor_train, trg_tensor_test"
      ]
    },
    {
      "cell_type": "markdown",
      "metadata": {
        "id": "8ssom6vKO7Ra"
      },
      "source": [
        "## Sanity Check Function\n",
        "\n",
        "The code below will be used to perform a sanity check on both the RNN and transformer later in the homework"
      ]
    },
    {
      "cell_type": "code",
      "execution_count": null,
      "metadata": {
        "id": "YkelDym0Ow3b"
      },
      "outputs": [],
      "source": [
        "### DO NOT EDIT ###\n",
        "\n",
        "count_parameters = lambda model: sum(p.numel() for p in model.parameters() if p.requires_grad)\n",
        "\n",
        "def sanityCheckModel(all_test_params, NN, expected_outputs, init_or_forward):\n",
        "    print('--- TEST: ' + ('Number of Model Parameters (tests __init__(...))' if init_or_forward=='init' else 'Output shape of forward(...)') + ' ---')\n",
        "    if init_or_forward == \"forward\":\n",
        "        # Creating random texts and lables batches\n",
        "        texts_batch = torch.randint(low=0, high=len(all_test_params[0]['src_vocab']), size=(10,16))\n",
        "        labels_batch = torch.randint(low=0, high=len(all_test_params[0]['src_vocab']), size=(10,12))\n",
        "\n",
        "    for tp_idx, (test_params, expected_output) in enumerate(zip(all_test_params, expected_outputs)):\n",
        "        if init_or_forward == \"forward\":\n",
        "            batch_size = test_params['batch_size']\n",
        "            texts = texts_batch[:batch_size]\n",
        "            # if NN.__name__ == \"RnnEncoder\":\n",
        "            texts = texts.transpose(0,1)\n",
        "\n",
        "        # Construct the student model\n",
        "        tps = {k:v for k, v in test_params.items() if k != 'batch_size'}\n",
        "        stu_nn = NN(**tps)\n",
        "\n",
        "        input_rep = str({k:v for k,v in tps.items()})\n",
        "\n",
        "        if init_or_forward == \"forward\":\n",
        "            with torch.no_grad():\n",
        "                if NN.__name__ == \"TransformerEncoder\":\n",
        "                    stu_out = stu_nn(texts)\n",
        "                else:\n",
        "                    stu_out, _ = stu_nn(texts)\n",
        "                    expected_output = torch.rand(expected_output).size()\n",
        "            ref_out_shape = expected_output\n",
        "\n",
        "            has_passed = torch.is_tensor(stu_out)\n",
        "            if not has_passed: msg = 'Output must be a torch.Tensor; received ' + str(type(stu_out))\n",
        "            else:\n",
        "                has_passed = stu_out.shape == ref_out_shape\n",
        "                msg = 'Your Output Shape: ' + str(stu_out.shape)\n",
        "\n",
        "\n",
        "            status = 'PASSED' if has_passed else 'FAILED'\n",
        "            message = '\\t' + status + \"\\t Init Input: \" + input_rep + '\\tForward Input Shape: ' + str(texts.shape) + '\\tExpected Output Shape: ' + str(ref_out_shape) + '\\t' + msg\n",
        "            print(message)\n",
        "        else:\n",
        "            stu_num_params = count_parameters(stu_nn)\n",
        "            ref_num_params = expected_output\n",
        "            comparison_result = (stu_num_params == ref_num_params)\n",
        "\n",
        "            status = 'PASSED' if comparison_result else 'FAILED'\n",
        "            message = '\\t' + status + \"\\tInput: \" + input_rep + ('\\tExpected Num. Params: ' + str(ref_num_params) + '\\tYour Num. Params: '+ str(stu_num_params))\n",
        "            print(message)\n",
        "\n",
        "        del stu_nn"
      ]
    },
    {
      "cell_type": "markdown",
      "metadata": {
        "id": "fxHs2mWsx2lI"
      },
      "source": [
        "## Evaluation Functions\n",
        "\n",
        "These functions will be used to evaluate both the RNN and Transformer Models."
      ]
    },
    {
      "cell_type": "code",
      "execution_count": null,
      "metadata": {
        "id": "Jn7loRHZx-ZE"
      },
      "outputs": [],
      "source": [
        "### DO NOT EDIT ###\n",
        "\n",
        "def get_reference_candidate(target, pred, trg_vocab):\n",
        "    def _to_token(sentence):\n",
        "        lis = []\n",
        "        for s in sentence[1:]:\n",
        "            x = trg_vocab.idx2word[s]\n",
        "            if x == \"<end>\": break\n",
        "            lis.append(x)\n",
        "        return lis\n",
        "    reference = _to_token(target)\n",
        "    candidate = _to_token(pred)\n",
        "    return reference, candidate\n",
        "\n",
        "def compute_bleu_scores(target_output, final_output, trg_vocab):\n",
        "    assert len(target_output) == len(final_output)\n",
        "    bleu_1 = 0.0\n",
        "    bleu_2 = 0.0\n",
        "    bleu_3 = 0.0\n",
        "    bleu_4 = 0.0\n",
        "\n",
        "    smoother = SmoothingFunction()\n",
        "    save_reference = []\n",
        "    save_candidate = []\n",
        "    for i in range(len(target_output)):\n",
        "        reference, candidate = get_reference_candidate(target_output[i], final_output[i], trg_vocab)\n",
        "\n",
        "        bleu_1 += sentence_bleu(reference, candidate, weights=(1,), smoothing_function=smoother.method1)\n",
        "        bleu_2 += sentence_bleu(reference, candidate, weights=(1/2, 1/2), smoothing_function=smoother.method1)\n",
        "        bleu_3 += sentence_bleu(reference, candidate, weights=(1/3, 1/3, 1/3), smoothing_function=smoother.method1)\n",
        "        bleu_4 += sentence_bleu(reference, candidate, weights=(1/4, 1/4, 1/4, 1/4), smoothing_function=smoother.method1)\n",
        "\n",
        "        save_reference.append(reference)\n",
        "        save_candidate.append(candidate)\n",
        "\n",
        "    bleu_1 = bleu_1/len(target_output)\n",
        "    bleu_2 = bleu_2/len(target_output)\n",
        "    bleu_3 = bleu_3/len(target_output)\n",
        "    bleu_4 = bleu_4/len(target_output)\n",
        "\n",
        "    scores = {\"bleu_1\": bleu_1, \"bleu_2\": bleu_2, \"bleu_3\": bleu_3, \"bleu_4\": bleu_4}\n",
        "    print('BLEU 1-gram: %f' % (bleu_1))\n",
        "    print('BLEU 2-gram: %f' % (bleu_2))\n",
        "    print('BLEU 3-gram: %f' % (bleu_3))\n",
        "    print('BLEU 4-gram: %f' % (bleu_4))\n",
        "\n",
        "    return save_candidate, scores"
      ]
    },
    {
      "cell_type": "markdown",
      "metadata": {
        "id": "yvR1U28i6Itb"
      },
      "source": [
        "# Step 1: Download & Prepare the Data"
      ]
    },
    {
      "cell_type": "markdown",
      "metadata": {
        "id": "-XH8nu0ojQpt"
      },
      "source": [
        "## Download and Visualize the Data\n",
        "\n",
        "Here we will download the translation data. We will learn a model to translate Spanish to English."
      ]
    },
    {
      "cell_type": "code",
      "execution_count": null,
      "metadata": {
        "id": "KtyBFlMKIg7g"
      },
      "outputs": [],
      "source": [
        "### DO NOT EDIT ###\n",
        "\n",
        "if __name__ == '__main__':\n",
        "    os.system(\"wget http://www.manythings.org/anki/spa-eng.zip\")\n",
        "    os.system(\"unzip -o spa-eng.zip\")"
      ]
    },
    {
      "cell_type": "markdown",
      "metadata": {
        "id": "q3PqS2IJx0pt"
      },
      "source": [
        "Now we view the data."
      ]
    },
    {
      "cell_type": "code",
      "execution_count": null,
      "metadata": {
        "colab": {
          "base_uri": "https://localhost:8080/"
        },
        "id": "4WNjizED6eFI",
        "outputId": "0ed33a93-0e70-4d9b-b0c4-ac4bacb21a1e"
      },
      "outputs": [
        {
          "name": "stdout",
          "output_type": "stream",
          "text": [
            "                           eng                               es\n",
            "0                 You know me.                      Me conoces.\n",
            "1          We need a response.       Necesitamos una respuesta.\n",
            "2              Tom is missing.                     Falta Tomás.\n",
            "3                      No way!                         ¡Mangos!\n",
            "4                 Don't do it.                    ¡No lo hagas!\n",
            "...                        ...                              ...\n",
            "49995    I'm just making sure.        Sólo me estoy asegurando.\n",
            "49996   I'm going to kiss you.                       Te besaré.\n",
            "49997    What's the plan, Tom?           ¿Cuál es el plan, Tom?\n",
            "49998  I don't mind the smell.           No me importa el olor.\n",
            "49999   I was sure you'd come.  Estaba seguro de que vendríais.\n",
            "\n",
            "[50000 rows x 2 columns]\n"
          ]
        }
      ],
      "source": [
        "### DO NOT EDIT ###\n",
        "\n",
        "if __name__ == '__main__':\n",
        "\n",
        "    total_num_examples = 50000\n",
        "    dat = pd.read_csv(\"spa.txt\",\n",
        "                    sep=\"\\t\",\n",
        "                    header=None,\n",
        "                    usecols=[0,1],\n",
        "                    names=['eng', 'es'],\n",
        "                    nrows=total_num_examples,\n",
        "                    encoding=\"UTF-8\"\n",
        "    ).sample(frac=1).reset_index().drop(['index'], axis=1)\n",
        "\n",
        "    print(dat) # Visualize the data"
      ]
    },
    {
      "cell_type": "markdown",
      "metadata": {
        "id": "v-fp16WlI7D_"
      },
      "source": [
        "Next we preprocess the data."
      ]
    },
    {
      "cell_type": "code",
      "execution_count": null,
      "metadata": {
        "colab": {
          "base_uri": "https://localhost:8080/"
        },
        "id": "Mud7HbQUMUHB",
        "outputId": "557f7ab3-2b76-41fd-cf92-18cf212047a6"
      },
      "outputs": [
        {
          "name": "stdout",
          "output_type": "stream",
          "text": [
            "                                          eng  \\\n",
            "0                 <start> you know me . <end>   \n",
            "1          <start> we need a response . <end>   \n",
            "2              <start> tom is missing . <end>   \n",
            "3                      <start> no way ! <end>   \n",
            "4                 <start> don t do it . <end>   \n",
            "...                                       ...   \n",
            "49995    <start> i m just making sure . <end>   \n",
            "49996   <start> i m going to kiss you . <end>   \n",
            "49997   <start> what s the plan , tom ? <end>   \n",
            "49998  <start> i don t mind the smell . <end>   \n",
            "49999   <start> i was sure you d come . <end>   \n",
            "\n",
            "                                                   es  \n",
            "0                          <start> me conoces . <end>  \n",
            "1           <start> necesitamos una respuesta . <end>  \n",
            "2                         <start> falta tomas . <end>  \n",
            "3                              <start> mangos ! <end>  \n",
            "4                         <start> no lo hagas ! <end>  \n",
            "...                                               ...  \n",
            "49995        <start> solo me estoy asegurando . <end>  \n",
            "49996                       <start> te besare . <end>  \n",
            "49997         <start> ¿ cual es el plan , tom ? <end>  \n",
            "49998           <start> no me importa el olor . <end>  \n",
            "49999  <start> estaba seguro de que vendriais . <end>  \n",
            "\n",
            "[50000 rows x 2 columns]\n"
          ]
        }
      ],
      "source": [
        "### DO NOT EDIT ###\n",
        "\n",
        "if __name__ == '__main__':\n",
        "    data = dat.copy()\n",
        "    data['eng'] = dat.eng.apply(lambda w: preprocess_sentence(w))\n",
        "    data['es'] = dat.es.apply(lambda w: preprocess_sentence(w))\n",
        "    print(data) # Visualizing the data"
      ]
    },
    {
      "cell_type": "markdown",
      "metadata": {
        "id": "IHJw_CyykmMp"
      },
      "source": [
        "## Vocabulary & Dataloader\n",
        "\n",
        "First we create a class for managing our vocabulary as we did in Homework 2. In this homework, we have a separate class for the vocabulary as we need 2 different vocabularies $-$ one for English and one for Spanish.\n",
        "\n",
        "Then we prepare the dataloader and make sure it returns the source sentence and target sentence."
      ]
    },
    {
      "cell_type": "code",
      "execution_count": null,
      "metadata": {
        "id": "1h4Q21azMW-T"
      },
      "outputs": [],
      "source": [
        "### DO NOT EDIT ###\n",
        "\n",
        "class Vocab_Lang():\n",
        "    def __init__(self, vocab):\n",
        "        self.word2idx = {'<pad>': 0, '<unk>': 1}\n",
        "        self.idx2word = {0: '<pad>', 1: '<unk>'}\n",
        "        self.vocab = vocab\n",
        "\n",
        "        for index, word in enumerate(vocab):\n",
        "            self.word2idx[word] = index + 2 # +2 because of <pad> and <unk> token\n",
        "            self.idx2word[index + 2] = word\n",
        "\n",
        "    def __len__(self):\n",
        "        return len(self.word2idx)\n",
        "\n",
        "    def __repr__(self):\n",
        "        if len(self.vocab) <= 5:\n",
        "            return str(self.vocab)\n",
        "        else:\n",
        "            return f'Vocab_Lang object with {len(self.vocab)} words'\n",
        "\n",
        "class MyData(Dataset):\n",
        "    def __init__(self, X, y):\n",
        "        self.length = torch.LongTensor([np.sum(1 - np.equal(x, 0)) for x in X])\n",
        "        self.data = torch.LongTensor(X)\n",
        "        self.target = torch.LongTensor(y)\n",
        "\n",
        "    def __getitem__(self, index):\n",
        "        x = self.data[index]\n",
        "        y = self.target[index]\n",
        "        return x, y\n",
        "\n",
        "    def __len__(self):\n",
        "        return len(self.data)"
      ]
    },
    {
      "cell_type": "code",
      "execution_count": null,
      "metadata": {
        "id": "BA4lG_4fqL9U"
      },
      "outputs": [],
      "source": [
        "### DO NOT EDIT ###\n",
        "\n",
        "import numpy as np\n",
        "import random\n",
        "from torch.utils.data import DataLoader"
      ]
    },
    {
      "cell_type": "code",
      "execution_count": null,
      "metadata": {
        "id": "BrgMtGxHoqFi"
      },
      "outputs": [],
      "source": [
        "### DO NOT EDIT ###\n",
        "\n",
        "if __name__ == '__main__':\n",
        "    # HYPERPARAMETERS (You may change these if you want, though you shouldn't need to)\n",
        "    BATCH_SIZE = 64\n",
        "    EMBEDDING_DIM = 256"
      ]
    },
    {
      "cell_type": "code",
      "execution_count": null,
      "metadata": {
        "id": "WrXOzSbAWrkT"
      },
      "outputs": [],
      "source": [
        "### DO NOT EDIT ###\n",
        "\n",
        "def build_vocabulary(pd_dataframe):\n",
        "    sentences = [sen.split() for sen in pd_dataframe]\n",
        "    vocab = {}\n",
        "    for sen in sentences:\n",
        "        for word in sen:\n",
        "            if word not in vocab:\n",
        "                vocab[word] = 1\n",
        "    return list(vocab.keys())\n",
        "\n",
        "if __name__ == '__main__':\n",
        "    src_vocab_list = build_vocabulary(data['es'])\n",
        "    trg_vocab_list = build_vocabulary(data['eng'])"
      ]
    },
    {
      "cell_type": "markdown",
      "metadata": {
        "id": "46wvdhg_17bG"
      },
      "source": [
        "We instantiate our training and validation datasets."
      ]
    },
    {
      "cell_type": "code",
      "execution_count": null,
      "metadata": {
        "colab": {
          "base_uri": "https://localhost:8080/"
        },
        "id": "k6UsDOA2c-G6",
        "outputId": "b0789484-f408-406f-f2a3-b1dbaf8e5b60"
      },
      "outputs": [
        {
          "name": "stdout",
          "output_type": "stream",
          "text": [
            "max_length_src: 16, max_length_trg: 12\n"
          ]
        },
        {
          "name": "stderr",
          "output_type": "stream",
          "text": [
            "<ipython-input-8-fb8a73e5f1e1>:25: UserWarning: Creating a tensor from a list of numpy.ndarrays is extremely slow. Please consider converting the list to a single numpy.ndarray with numpy.array() before converting to a tensor. (Triggered internally at /pytorch/torch/csrc/utils/tensor_new.cpp:254.)\n",
            "  self.data = torch.LongTensor(X)\n"
          ]
        }
      ],
      "source": [
        "### DO NOT EDIT ###\n",
        "\n",
        "if __name__ == '__main__':\n",
        "    src_vocab = Vocab_Lang(src_vocab_list)\n",
        "    trg_vocab = Vocab_Lang(trg_vocab_list)\n",
        "\n",
        "    src_tensor, trg_tensor, max_length_src, max_length_trg = preprocess_data_to_tensor(data, src_vocab, trg_vocab)\n",
        "    src_tensor_train, src_tensor_val, trg_tensor_train, trg_tensor_val = train_test_split(src_tensor, trg_tensor)\n",
        "\n",
        "    # Create train and val datasets\n",
        "    train_dataset = MyData(src_tensor_train, trg_tensor_train)\n",
        "    train_dataset = DataLoader(train_dataset, batch_size=BATCH_SIZE, drop_last=True, shuffle=True)\n",
        "\n",
        "    test_dataset = MyData(src_tensor_val, trg_tensor_val)\n",
        "    test_dataset = DataLoader(test_dataset, batch_size=BATCH_SIZE, drop_last=True, shuffle=False)"
      ]
    },
    {
      "cell_type": "code",
      "execution_count": null,
      "metadata": {
        "colab": {
          "base_uri": "https://localhost:8080/"
        },
        "id": "zWO5ptloc-HL",
        "outputId": "c0b11132-faba-4936-ec37-7aa13ca4afdf"
      },
      "outputs": [
        {
          "name": "stdout",
          "output_type": "stream",
          "text": [
            "Source: tensor([[   2,   14,    3, 6143,  164,   77,  163,    5,    6,    0,    0,    0,\n",
            "            0,    0,    0,    0],\n",
            "        [   2, 1426,  116, 2420,    5,    6,    0,    0,    0,    0,    0,    0,\n",
            "            0,    0,    0,    0],\n",
            "        [   2,   14, 1812,  259,    5,    6,    0,    0,    0,    0,    0,    0,\n",
            "            0,    0,    0,    0],\n",
            "        [   2,   29,   15, 5334,  319,    5,    6,    0,    0,    0,    0,    0,\n",
            "            0,    0,    0,    0],\n",
            "        [   2,   32,   14,   42,  387,    5,    6,    0,    0,    0,    0,    0,\n",
            "            0,    0,    0,    0]])\n",
            "Source Dimensions:  torch.Size([5, 16])\n",
            "Target: tensor([[   2,  147,   18,   19,  136,    5,    6,    7,    0,    0,    0,    0],\n",
            "        [   2, 1071,   87, 1698,    6,    7,    0,    0,    0,    0,    0,    0],\n",
            "        [   2,   23,  437,   19,  768,  388,    6,    7,    0,    0,    0,    0],\n",
            "        [   2,   23,   31,  218,    3,  499,    6,    7,    0,    0,    0,    0],\n",
            "        [   2,   12,  659,   19,  684,    6,    7,    0,    0,    0,    0,    0]])\n",
            "Target Dimensions:  torch.Size([5, 12])\n"
          ]
        }
      ],
      "source": [
        "### DO NOT EDIT ###\n",
        "\n",
        "if __name__ == '__main__':\n",
        "    idxes = random.choices(range(len(train_dataset.dataset)), k=5)\n",
        "    src, trg =  train_dataset.dataset[idxes]\n",
        "    print('Source:', src)\n",
        "    print('Source Dimensions: ', src.size())\n",
        "    print('Target:', trg)\n",
        "    print('Target Dimensions: ', trg.size())"
      ]
    },
    {
      "cell_type": "markdown",
      "metadata": {
        "id": "amI0Dl7p64TI"
      },
      "source": [
        "# Step 2: Train a Recurrent Neural Network (RNN) [25 points]\n",
        "\n",
        "Here you will write a recurrent model for machine translation, and then train and evaluate its results.\n",
        "\n",
        "Here are some links that you may find helpful:\n",
        "1. Attention paper: https://arxiv.org/pdf/1409.0473.pdf\n",
        "2. Explanation of LSTM's & GRU's: https://towardsdatascience.com/illustrated-guide-to-lstms-and-gru-s-a-step-by-step-explanation-44e9eb85bf21\n",
        "3. Attention explanation: https://towardsdatascience.com/attention-in-neural-networks-e66920838742\n",
        "4. Another attention explanation: https://towardsdatascience.com/attention-and-its-different-forms-7fc3674d14dc\n"
      ]
    },
    {
      "cell_type": "code",
      "execution_count": null,
      "metadata": {
        "id": "KSHdxD658EzI"
      },
      "outputs": [],
      "source": [
        "### DO NOT EDIT ###\n",
        "\n",
        "import torch.nn as nn\n",
        "import torch.nn.functional as F\n",
        "import time\n",
        "from tqdm.notebook import tqdm\n",
        "import nltk\n",
        "from nltk.translate.bleu_score import sentence_bleu, SmoothingFunction, corpus_bleu"
      ]
    },
    {
      "cell_type": "markdown",
      "metadata": {
        "id": "ENeT1fj_2f8t"
      },
      "source": [
        "## <font color='red'>TODO:</font> Encoder Model [10 points]\n",
        "\n",
        "First we build a recurrent encoder model, which will be very similar to what you did in Homework 2. However, instead of using a fully connected layer as the output, you should the return a sequence of outputs of your GRU as well as the final hidden state. These will be used in the decoder.\n",
        "\n",
        "In this cell, you should implement the `__init(...)` and `forward(...)` functions, each of which is <b>5 points</b>."
      ]
    },
    {
      "cell_type": "code",
      "execution_count": null,
      "metadata": {
        "id": "_Sx4QQd3M4XK"
      },
      "outputs": [],
      "source": [
        "class RnnEncoder(nn.Module):\n",
        "    def __init__(self, src_vocab, embedding_dim, hidden_units):\n",
        "        super(RnnEncoder, self).__init__()\n",
        "        \"\"\"\n",
        "        Args:\n",
        "            src_vocab: Vocab_Lang, the source vocabulary\n",
        "            embedding_dim: the dimension of the embedding\n",
        "            hidden_units: The number of features in the GRU hidden state\n",
        "        \"\"\"\n",
        "        self.src_vocab = src_vocab # Do not change\n",
        "        vocab_size = len(src_vocab)\n",
        "\n",
        "        ### TODO ###\n",
        "\n",
        "        # Initialize embedding layer\n",
        "        # (see: https://pytorch.org/docs/stable/generated/torch.nn.Embedding.html)\n",
        "\n",
        "        # Initialize a single directional GRU with 1 layer and batch_first=False\n",
        "        self.embedding = nn.Embedding(vocab_size, embedding_dim)\n",
        "        self.gru = nn.GRU(embedding_dim, hidden_units, num_layers=1, batch_first=False)\n",
        "\n",
        "    def forward(self, x):\n",
        "        \"\"\"\n",
        "        Args:\n",
        "            x: source texts, [max_len, batch_size]\n",
        "\n",
        "        Returns:\n",
        "            output: [max_len, batch_size, hidden_units]\n",
        "            hidden_state: [1, batch_size, hidden_units]\n",
        "\n",
        "        Pseudo-code:\n",
        "        - Pass x through an embedding layer and pass the results through the recurrent net\n",
        "        - Return output and hidden states from the recurrent net\n",
        "        \"\"\"\n",
        "        output, hidden_state = None, None\n",
        "\n",
        "        ### TODO ###\n",
        "        embedded = self.embedding(x)\n",
        "        output, hidden_state = self.gru(embedded)\n",
        "\n",
        "        return output, hidden_state"
      ]
    },
    {
      "cell_type": "markdown",
      "metadata": {
        "id": "u1L7SPREkFvu"
      },
      "source": [
        "The code below runs a sanity check for your `RnnEncoder` class. The tests are similar to the hidden ones in Gradescope. However, note that passing the sanity check does <b>not</b> guarantee that you will pass the autograder; it is intended to help you debug."
      ]
    },
    {
      "cell_type": "code",
      "execution_count": null,
      "metadata": {
        "colab": {
          "base_uri": "https://localhost:8080/"
        },
        "id": "OZFuambIkWaD",
        "outputId": "0e6caf63-4a68-42ac-d880-b8fbd6bfa34f"
      },
      "outputs": [
        {
          "name": "stdout",
          "output_type": "stream",
          "text": [
            "--- TEST: Number of Model Parameters (tests __init__(...)) ---\n",
            "\tPASSED\tInput: {'src_vocab': ['a', 'aa', 'aaa'], 'embedding_dim': 2, 'hidden_units': 50}\tExpected Num. Params: 8110\tYour Num. Params: 8110\n",
            "\tPASSED\tInput: {'src_vocab': ['a', 'aa', 'aaa'], 'embedding_dim': 2, 'hidden_units': 100}\tExpected Num. Params: 31210\tYour Num. Params: 31210\n",
            "\tPASSED\tInput: {'src_vocab': ['a', 'aa', 'aaa'], 'embedding_dim': 2, 'hidden_units': 200}\tExpected Num. Params: 122410\tYour Num. Params: 122410\n",
            "\tPASSED\tInput: {'src_vocab': ['a', 'aa', 'aaa'], 'embedding_dim': 5, 'hidden_units': 50}\tExpected Num. Params: 8575\tYour Num. Params: 8575\n",
            "\tPASSED\tInput: {'src_vocab': ['a', 'aa', 'aaa'], 'embedding_dim': 5, 'hidden_units': 100}\tExpected Num. Params: 32125\tYour Num. Params: 32125\n",
            "\tPASSED\tInput: {'src_vocab': ['a', 'aa', 'aaa'], 'embedding_dim': 5, 'hidden_units': 200}\tExpected Num. Params: 124225\tYour Num. Params: 124225\n",
            "\tPASSED\tInput: {'src_vocab': ['a', 'aa', 'aaa'], 'embedding_dim': 8, 'hidden_units': 50}\tExpected Num. Params: 9040\tYour Num. Params: 9040\n",
            "\tPASSED\tInput: {'src_vocab': ['a', 'aa', 'aaa'], 'embedding_dim': 8, 'hidden_units': 100}\tExpected Num. Params: 33040\tYour Num. Params: 33040\n",
            "\tPASSED\tInput: {'src_vocab': ['a', 'aa', 'aaa'], 'embedding_dim': 8, 'hidden_units': 200}\tExpected Num. Params: 126040\tYour Num. Params: 126040\n",
            "\n",
            "--- TEST: Output shape of forward(...) ---\n",
            "\tPASSED\t Init Input: {'embedding_dim': 256, 'src_vocab': ['a', 'aa', 'aaa'], 'hidden_units': 50}\tForward Input Shape: torch.Size([16, 1])\tExpected Output Shape: torch.Size([16, 1, 50])\tYour Output Shape: torch.Size([16, 1, 50])\n",
            "\tPASSED\t Init Input: {'embedding_dim': 256, 'src_vocab': ['a', 'aa', 'aaa'], 'hidden_units': 50}\tForward Input Shape: torch.Size([16, 2])\tExpected Output Shape: torch.Size([16, 2, 50])\tYour Output Shape: torch.Size([16, 2, 50])\n",
            "\tPASSED\t Init Input: {'embedding_dim': 256, 'src_vocab': ['a', 'aa', 'aaa'], 'hidden_units': 100}\tForward Input Shape: torch.Size([16, 1])\tExpected Output Shape: torch.Size([16, 1, 100])\tYour Output Shape: torch.Size([16, 1, 100])\n",
            "\tPASSED\t Init Input: {'embedding_dim': 256, 'src_vocab': ['a', 'aa', 'aaa'], 'hidden_units': 100}\tForward Input Shape: torch.Size([16, 2])\tExpected Output Shape: torch.Size([16, 2, 100])\tYour Output Shape: torch.Size([16, 2, 100])\n",
            "\tPASSED\t Init Input: {'embedding_dim': 256, 'src_vocab': ['a', 'aa', 'aaa'], 'hidden_units': 200}\tForward Input Shape: torch.Size([16, 1])\tExpected Output Shape: torch.Size([16, 1, 200])\tYour Output Shape: torch.Size([16, 1, 200])\n",
            "\tPASSED\t Init Input: {'embedding_dim': 256, 'src_vocab': ['a', 'aa', 'aaa'], 'hidden_units': 200}\tForward Input Shape: torch.Size([16, 2])\tExpected Output Shape: torch.Size([16, 2, 200])\tYour Output Shape: torch.Size([16, 2, 200])\n"
          ]
        }
      ],
      "source": [
        "### DO NOT EDIT ###\n",
        "\n",
        "if __name__ == '__main__':\n",
        "    # Set random seed\n",
        "    torch.manual_seed(42)\n",
        "    # Create test inputs\n",
        "    embedding_dim = [2, 5, 8]\n",
        "    hidden_units = [50, 100, 200]\n",
        "    sanity_vocab = Vocab_Lang(vocab=[\"a\", \"aa\", \"aaa\"])\n",
        "    params = []\n",
        "    inputs = []\n",
        "    for ed in embedding_dim:\n",
        "        for hu in hidden_units:\n",
        "            inp = {}\n",
        "            inp['src_vocab'] = sanity_vocab\n",
        "            inp['embedding_dim'] = ed\n",
        "            inp['hidden_units'] = hu\n",
        "            inputs.append(inp)\n",
        "    # Test init\n",
        "    expected_outputs = [8110, 31210, 122410, 8575, 32125, 124225, 9040, 33040, 126040]\n",
        "\n",
        "    sanityCheckModel(inputs, RnnEncoder, expected_outputs, \"init\")\n",
        "    print()\n",
        "\n",
        "    # Test forward\n",
        "    inputs = []\n",
        "    batch_sizes = [1, 2]\n",
        "    for hu in hidden_units:\n",
        "        for b in batch_sizes:\n",
        "            inp = {}\n",
        "            inp['embedding_dim'] = EMBEDDING_DIM\n",
        "            inp['src_vocab'] = sanity_vocab\n",
        "            inp[\"batch_size\"] = b\n",
        "            inp['hidden_units'] = hu\n",
        "            inputs.append(inp)\n",
        "    expected_outputs = [torch.Size([16, 1, 50]), torch.Size([16, 2, 50]), torch.Size([16, 1, 100]), torch.Size([16, 2, 100]), torch.Size([16, 1, 200]), torch.Size([16, 2, 200])]\n",
        "\n",
        "    sanityCheckModel(inputs, RnnEncoder, expected_outputs, \"forward\")"
      ]
    },
    {
      "cell_type": "markdown",
      "metadata": {
        "id": "vKwsEWpK2mcT"
      },
      "source": [
        "## <font color='red'>TODO:</font> Decoder Model [15 points]\n",
        "We will implement a Decoder model that uses an attention mechanism, as provided in https://arxiv.org/pdf/1409.0473.pdf. We have broken this up into three functions that you need to implement: `__init__(self, ...)`, `compute_attention(self, dec_hs, enc_output)`, and `forward(self, x, dec_hs, enc_output)`:\n",
        "\n",
        "* <b>`__init__(self, ...)`: [5 points]</b> Instantiate the parameters of your model, and store them in `self` variables.\n",
        "\n",
        "* <b>`compute_attention(self, dec_hs, enc_output)` [5 points]</b>: Compute the <b>context vector</b>, which is a weighted sum of the encoder output states. Suppose the decoder hidden state at time $t$ is $\\mathbf{h}_t$, and the encoder hidden state at time $s$ is $\\mathbf{\\bar h}_s$. The pseudocode is as follows:\n",
        "\n",
        "  1. <b>Attention scores:</b> Compute real-valued scores for the decoder hidden state $\\mathbf{h}_t$ and each encoder hidden state $\\mathbf{\\bar h}_s$: $$\\mathrm{score}(\\mathbf{h}_t, \\mathbf{\\bar h}_s)=\n",
        "      \\mathbf{v}_a^T \\tanh(\\mathbf{W}_1 \\mathbf{h}_t +\\mathbf{W}_2 \\mathbf{\\bar h}_s)\n",
        "$$\n",
        "   Here you should implement the scoring function. A higher score indicates a stronger \"affinity\" between the decoder state and a specific encoder state.\n",
        "   \n",
        "   <font color='green'><b>Hint:</b> the matrices $\\mathbf{W}_1$, $\\mathbf{W}_2$ and the vector $\\mathbf{v_a}$ can all be implemented with `nn.Linear(...)` in Pytorch.</font>\n",
        "\n",
        "   Note that in theory, $\\mathbf{v_a}$ could have a different dimension than $\\mathbf{h}_t$ and $\\mathbf{\\bar h}_s$, but you should use the same hidden size for this vector.\n",
        "\n",
        " 2. <b>Attention weights:</b> Normalize the attention scores to obtain a valid probability distribution: $$\\alpha_{ts} = \\frac{\\exp \\big (\\mathrm{score}(\\mathbf{h}_t, \\mathbf{\\bar h}_s) \\big)}{\\sum_{s'=1}^S \\exp \\big (\\mathrm{score}(\\mathbf{h}_t, \\mathbf{\\bar h}_{s'}) \\big)}$$ Notice that this is just the softmax function, and can be implemented with `F.softmax(...)` in Pytorch.\n",
        "\n",
        " 3. <b>Context vector:</b> Compute a context vector $\\mathbf{c}_t$ that is a weighted average of the encoder hidden states, where the weights are given by the attention weights you just computed: $$\\mathbf{c}_t=\\sum_{s=1}^S \\alpha_{ts} \\mathbf{\\bar h}_s$$\n",
        "\n",
        " You should return this context vector, along with the attention weights.\n",
        "\n",
        "\n",
        "\n",
        "* <b>`forward(self, x, dec_hs, enc_output)`: [5 points]</b> Run a <b>single</b> decoding step, resulting in a distribution over the vocabulary for the next token in the sequence. Pseudocode can be found in the docstrings below.\n",
        "\n",
        "<font color='green'><b>Hint:</b> You should be able to implement all of this <b>without any for loops</b> using the Pytorch library. Also, remember that these operations should operate in parallel for each item in your batch.</font>"
      ]
    },
    {
      "cell_type": "code",
      "execution_count": null,
      "metadata": {
        "id": "cw84M2LPM-PC"
      },
      "outputs": [],
      "source": [
        "class RnnDecoder(nn.Module):\n",
        "    def __init__(self, trg_vocab, embedding_dim, hidden_units):\n",
        "        super(RnnDecoder, self).__init__()\n",
        "        \"\"\"\n",
        "        Args:\n",
        "            trg_vocab: Vocab_Lang, the target vocabulary\n",
        "            embedding_dim: The dimension of the embedding\n",
        "            hidden_units: The number of features in the GRU hidden state\n",
        "        \"\"\"\n",
        "        self.trg_vocab = trg_vocab # Do not change\n",
        "        vocab_size = len(trg_vocab)\n",
        "\n",
        "        ### TODO ###\n",
        "\n",
        "        # Initialize embedding layer\n",
        "\n",
        "        # Initialize layers to compute attention score\n",
        "\n",
        "        # Initialize a single directional GRU with 1 layer and batch_first=True\n",
        "        # NOTE: Input to your RNN will be the concatenation of your embedding vector and the context vector\n",
        "\n",
        "        # Initialize fully connected layer\n",
        "        self.embedding = nn.Embedding(vocab_size, embedding_dim)\n",
        "\n",
        "        self.W1 = nn.Linear(hidden_units, hidden_units)\n",
        "        self.W2 = nn.Linear(hidden_units, hidden_units)\n",
        "        self.v_a = nn.Linear(hidden_units, 1)\n",
        "\n",
        "        self.gru = nn.GRU(embedding_dim + hidden_units, hidden_units, num_layers=1, batch_first=True)\n",
        "\n",
        "        self.fc = nn.Linear(hidden_units, vocab_size)\n",
        "\n",
        "    def compute_attention(self, dec_hs, enc_output):\n",
        "        '''\n",
        "        This function computes the context vector and attention weights.\n",
        "\n",
        "        Args:\n",
        "            dec_hs: Decoder hidden state; [1, batch_size, hidden_units]\n",
        "            enc_output: Encoder outputs; [max_len_src, batch_size, hidden_units]\n",
        "\n",
        "        Returns:\n",
        "            context_vector: Context vector, according to formula; [batch_size, hidden_units]\n",
        "            attention_weights: The attention weights you have calculated; [batch_size, max_len_src, 1]\n",
        "\n",
        "        Pseudo-code:\n",
        "            (1) Compute the attention scores for dec_hs & enc_output\n",
        "                    - Hint: You may need to permute the dimensions of the tensors in order to pass them through linear layers\n",
        "                    - Output size: [batch_size, max_len_src, 1]\n",
        "            (2) Compute attention_weights by taking a softmax over your scores to normalize the distribution (Make sure that after softmax the normalized scores add up to 1)\n",
        "                    - Output size: [batch_size, max_len_src, 1]\n",
        "            (3) Compute context_vector from attention_weights & enc_output\n",
        "                    - Hint: You may find it helpful to use torch.sum & element-wise multiplication (* operator)\n",
        "            (4) Return context_vector & attention_weights\n",
        "        '''\n",
        "        context_vector, attention_weights = None, None\n",
        "\n",
        "        ### TODO ###\n",
        "        dec_hs_permuted = dec_hs.permute(1, 0, 2)\n",
        "        enc_output_permuted = enc_output.permute(1, 0, 2)\n",
        "\n",
        "        score_part1 = self.W1(dec_hs_permuted)\n",
        "        score_part2 = self.W2(enc_output_permuted)\n",
        "\n",
        "        tanh_output = torch.tanh(score_part1 + score_part2)\n",
        "\n",
        "        attention_scores = self.v_a(tanh_output)\n",
        "\n",
        "        attention_weights = F.softmax(attention_scores, dim=1)\n",
        "\n",
        "        weighted_enc_output = attention_weights * enc_output_permuted\n",
        "\n",
        "        context_vector = torch.sum(weighted_enc_output, dim=1)\n",
        "\n",
        "        return context_vector, attention_weights\n",
        "\n",
        "    def forward(self, x, dec_hs, enc_output):\n",
        "        '''\n",
        "        This function runs the decoder for a **single** time step.\n",
        "\n",
        "        Args:\n",
        "            x: Input token; [batch_size, 1]\n",
        "            dec_hs: Decoder hidden state; [1, batch_size, hidden_units]\n",
        "            enc_output: Encoder outputs; [max_len_src, batch_size, hidden_units]\n",
        "\n",
        "        Returns:\n",
        "            fc_out: (Unnormalized) output distribution [batch_size, vocab_size]\n",
        "            dec_hs: Decoder hidden state; [1, batch_size, hidden_units]\n",
        "            attention_weights: The attention weights you have learned; [batch_size, max_len_src, 1]\n",
        "\n",
        "        Pseudo-code:\n",
        "            (1) Compute the context vector & attention weights by calling self.compute_attention(...) on the appropriate input\n",
        "            (2) Obtain embedding vectors for your input x\n",
        "                    - Output size: [batch_size, 1, embedding_dim]\n",
        "            (3) Concatenate the context vector & the embedding vectors along the appropriate dimension\n",
        "            (4) Feed this result through your RNN (along with the current hidden state) to get output and new hidden state\n",
        "                    - Output sizes: [batch_size, 1, hidden_units] & [1, batch_size, hidden_units]\n",
        "            (5) Feed the output of your RNN through linear layer to get (unnormalized) output distribution (don't call softmax!)\n",
        "            (6) Return this output, the new decoder hidden state, & the attention weights\n",
        "        '''\n",
        "        fc_out, attention_weights = None, None\n",
        "\n",
        "        ### TODO ###\n",
        "        context_vector, attention_weights = self.compute_attention(dec_hs, enc_output)\n",
        "\n",
        "        embedded = self.embedding(x)\n",
        "\n",
        "        context_vector_unsqueezed = context_vector.unsqueeze(1)\n",
        "        rnn_input = torch.cat((embedded, context_vector_unsqueezed), dim=2)\n",
        "\n",
        "        gru_output, new_dec_hs = self.gru(rnn_input, dec_hs)\n",
        "\n",
        "        gru_output_squeezed = gru_output.squeeze(1)\n",
        "        fc_out = self.fc(gru_output_squeezed)\n",
        "\n",
        "        dec_hs = new_dec_hs\n",
        "\n",
        "        return fc_out, dec_hs, attention_weights\n",
        "\n",
        "    def decode_step(self, inputs, enc_output, dec_hs):\n",
        "        '''\n",
        "        Call one step of the decoder.\n",
        "\n",
        "        Args:\n",
        "            inputs: Input tokens; [batch_size, sequence length]\n",
        "            enc_output: Encoder outputs; [max_len_src, batch_size, hidden_units]\n",
        "            dec_hs: Decoder hidden state; [1, batch_size, hidden_units]\n",
        "\n",
        "        Returns:\n",
        "            fc_out: (Unnormalized) output distribution [batch_size, vocab_size]\n",
        "            dec_hs: Decoder hidden state; [1, batch_size, hidden_units]\n",
        "        '''\n",
        "        assert inputs.shape[0] == enc_output.shape[1] == dec_hs.shape[1], 'batch_size must be the same across tensors'\n",
        "        fc_out, dec_hs, attention_weights = self(inputs[:,-1].unsqueeze(1), dec_hs, enc_output)\n",
        "        return fc_out, dec_hs"
      ]
    },
    {
      "cell_type": "markdown",
      "metadata": {
        "id": "rG72ATfy1Pjf"
      },
      "source": [
        "The code below runs a sanity check for your `RnnDecoder` class. The tests are similar to the hidden ones in Gradescope. However, note that passing the sanity check does <b>not</b> guarantee that you will pass the autograder; it is intended to help you debug."
      ]
    },
    {
      "cell_type": "code",
      "execution_count": null,
      "metadata": {
        "id": "Tc4r19oiq4YE"
      },
      "outputs": [],
      "source": [
        "### DO NOT EDIT ###\n",
        "\n",
        "def sanityCheckDecoderModelForward(inputs, NN, expected_outputs):\n",
        "    print('--- TEST: Output shape of forward(...) ---\\n')\n",
        "    expected_fc_outs = expected_outputs[0]\n",
        "    expected_dec_hs = expected_outputs[1]\n",
        "    expected_attention_weights = expected_outputs[2]\n",
        "    msg = ''\n",
        "    for i, inp in enumerate(inputs):\n",
        "        input_rep = '{'\n",
        "        for k,v in inp.items():\n",
        "            if torch.is_tensor(v):\n",
        "                input_rep += str(k) + ': ' + 'Tensor with shape ' + str(v.size()) + ', '\n",
        "            else:\n",
        "                input_rep += str(k) + ': ' + str(v) + ', '\n",
        "        input_rep += '}'\n",
        "        dec = RnnDecoder(trg_vocab=inp['trg_vocab'],embedding_dim=inp['embedding_dim'],hidden_units=inp['hidden_units'])\n",
        "        dec_hs = torch.rand(1, inp[\"batch_size\"], inp['hidden_units'])\n",
        "        x = torch.randint(low=0,high=len(inp[\"trg_vocab\"]),size=(inp[\"batch_size\"], 1))\n",
        "        with torch.no_grad():\n",
        "            dec_out = dec(x=x, dec_hs=dec_hs,enc_output=inp['encoder_outputs'])\n",
        "            if not isinstance(dec_out, tuple):\n",
        "                msg = '\\tFAILED\\tYour RnnDecoder.forward() output must be a tuple; received ' + str(type(dec_out))\n",
        "                print(msg)\n",
        "                continue\n",
        "            elif len(dec_out)!=3:\n",
        "                msg = '\\tFAILED\\tYour RnnDecoder.forward() output must be a tuple of size 3; received tuple of size ' + str(len(dec_out))\n",
        "                print(msg)\n",
        "                continue\n",
        "            stu_fc_out, stu_dec_hs, stu_attention_weights = dec_out\n",
        "        del dec\n",
        "        has_passed = True\n",
        "        msg = \"\"\n",
        "        if not torch.is_tensor(stu_fc_out):\n",
        "            has_passed = False\n",
        "            msg += '\\tFAILED\\tOutput must be a torch.Tensor; received ' + str(type(stu_fc_out)) + \" \"\n",
        "        if not torch.is_tensor(stu_dec_hs):\n",
        "            has_passed = False\n",
        "            msg += '\\tFAILED\\tDecoder Hidden State must be a torch.Tensor; received ' + str(type(stu_dec_hs)) + \" \"\n",
        "        if not torch.is_tensor(stu_attention_weights):\n",
        "            has_passed = False\n",
        "            msg += '\\tFAILED\\tAttention Weights must be a torch.Tensor; received ' + str(type(stu_attention_weights)) + \" \"\n",
        "\n",
        "        status = 'PASSED' if has_passed else 'FAILED'\n",
        "        if not has_passed:\n",
        "            message = '\\t' + status + \"\\t Init Input: \" + input_rep + '\\tForward Input Shape (x): ' + str(os.XATTR_REPLACE.shape) + '\\tExpected Output Shape: ' + str(expected_fc_outs[i]) + '\\t' + msg\n",
        "            print(message)\n",
        "            continue\n",
        "\n",
        "        has_passed = stu_fc_out.size() == expected_fc_outs[i]\n",
        "        msg = 'Your Output Shape: ' + str(stu_fc_out.size())\n",
        "        status = 'PASSED' if has_passed else 'FAILED'\n",
        "        message = '\\t' + status + \"\\t Init Input: \" + input_rep + '\\tForward Input Shape (x): ' + str(x.shape) + '\\tExpected Output Shape: ' + str(expected_fc_outs[i]) + '\\t' + msg\n",
        "        print(message)\n",
        "\n",
        "        has_passed = stu_dec_hs.size() == expected_dec_hs[i]\n",
        "        msg = 'Your Hidden State Shape: ' + str(stu_dec_hs.size())\n",
        "        status = 'PASSED' if has_passed else 'FAILED'\n",
        "        message = '\\t' + status + \"\\t Init Input: \" + input_rep + '\\tForward Input Shape (x): ' + str(x.shape) + '\\tExpected Hidden State Shape: ' + str(expected_dec_hs[i]) + '\\t' + msg\n",
        "        print(message)\n",
        "\n",
        "        has_passed = stu_attention_weights.size() == expected_attention_weights[i]\n",
        "        msg = 'Your Attention Weights Shape: ' + str(stu_attention_weights.size())\n",
        "        status = 'PASSED' if has_passed else 'FAILED'\n",
        "        message = '\\t' + status + \"\\t Init Input: \" + input_rep + '\\tForward Input Shape (x): ' + str(x.shape) + '\\tExpected Attention Weights Shape: ' + str(expected_attention_weights[i]) + '\\t' + msg\n",
        "        print(message)\n",
        "\n",
        "        stu_sum = stu_attention_weights.sum(dim=1).squeeze()\n",
        "        if torch.allclose(stu_sum, torch.ones_like(stu_sum), atol=1e-5):\n",
        "            print('\\tPASSED\\t The sum of your attention_weights along dim 1 is 1.')\n",
        "        else:\n",
        "            print('\\tFAILED\\t The sum of your attention_weights along dim 1 is not 1.')\n",
        "        print()"
      ]
    },
    {
      "cell_type": "code",
      "execution_count": null,
      "metadata": {
        "colab": {
          "base_uri": "https://localhost:8080/"
        },
        "id": "oUplFvOw1O_f",
        "outputId": "db51259b-6f52-477a-f435-2b14654c6d4a"
      },
      "outputs": [
        {
          "name": "stdout",
          "output_type": "stream",
          "text": [
            "--- TEST: Number of Model Parameters (tests __init__(...)) ---\n",
            "\tPASSED\tInput: {'trg_vocab': ['a', 'aa', 'aaa'], 'embedding_dim': 2, 'hidden_units': 50}\tExpected Num. Params: 21016\tYour Num. Params: 21016\n",
            "\tPASSED\tInput: {'trg_vocab': ['a', 'aa', 'aaa'], 'embedding_dim': 2, 'hidden_units': 100}\tExpected Num. Params: 82016\tYour Num. Params: 82016\n",
            "\tPASSED\tInput: {'trg_vocab': ['a', 'aa', 'aaa'], 'embedding_dim': 2, 'hidden_units': 200}\tExpected Num. Params: 324016\tYour Num. Params: 324016\n",
            "\tPASSED\tInput: {'trg_vocab': ['a', 'aa', 'aaa'], 'embedding_dim': 5, 'hidden_units': 50}\tExpected Num. Params: 21481\tYour Num. Params: 21481\n",
            "\tPASSED\tInput: {'trg_vocab': ['a', 'aa', 'aaa'], 'embedding_dim': 5, 'hidden_units': 100}\tExpected Num. Params: 82931\tYour Num. Params: 82931\n",
            "\tPASSED\tInput: {'trg_vocab': ['a', 'aa', 'aaa'], 'embedding_dim': 5, 'hidden_units': 200}\tExpected Num. Params: 325831\tYour Num. Params: 325831\n",
            "\tPASSED\tInput: {'trg_vocab': ['a', 'aa', 'aaa'], 'embedding_dim': 8, 'hidden_units': 50}\tExpected Num. Params: 21946\tYour Num. Params: 21946\n",
            "\tPASSED\tInput: {'trg_vocab': ['a', 'aa', 'aaa'], 'embedding_dim': 8, 'hidden_units': 100}\tExpected Num. Params: 83846\tYour Num. Params: 83846\n",
            "\tPASSED\tInput: {'trg_vocab': ['a', 'aa', 'aaa'], 'embedding_dim': 8, 'hidden_units': 200}\tExpected Num. Params: 327646\tYour Num. Params: 327646\n",
            "\n",
            "--- TEST: Output shape of forward(...) ---\n",
            "\n",
            "\tPASSED\t Init Input: {embedding_dim: 50, trg_vocab: ['a', 'aa', 'aaa'], batch_size: 1, hidden_units: 50, encoder_outputs: Tensor with shape torch.Size([16, 1, 50]), }\tForward Input Shape (x): torch.Size([1, 1])\tExpected Output Shape: torch.Size([1, 5])\tYour Output Shape: torch.Size([1, 5])\n",
            "\tPASSED\t Init Input: {embedding_dim: 50, trg_vocab: ['a', 'aa', 'aaa'], batch_size: 1, hidden_units: 50, encoder_outputs: Tensor with shape torch.Size([16, 1, 50]), }\tForward Input Shape (x): torch.Size([1, 1])\tExpected Hidden State Shape: torch.Size([1, 1, 50])\tYour Hidden State Shape: torch.Size([1, 1, 50])\n",
            "\tPASSED\t Init Input: {embedding_dim: 50, trg_vocab: ['a', 'aa', 'aaa'], batch_size: 1, hidden_units: 50, encoder_outputs: Tensor with shape torch.Size([16, 1, 50]), }\tForward Input Shape (x): torch.Size([1, 1])\tExpected Attention Weights Shape: torch.Size([1, 16, 1])\tYour Attention Weights Shape: torch.Size([1, 16, 1])\n",
            "\tPASSED\t The sum of your attention_weights along dim 1 is 1.\n",
            "\n",
            "\tPASSED\t Init Input: {embedding_dim: 80, trg_vocab: ['a', 'aa', 'aaa'], batch_size: 2, hidden_units: 50, encoder_outputs: Tensor with shape torch.Size([16, 2, 50]), }\tForward Input Shape (x): torch.Size([2, 1])\tExpected Output Shape: torch.Size([2, 5])\tYour Output Shape: torch.Size([2, 5])\n",
            "\tPASSED\t Init Input: {embedding_dim: 80, trg_vocab: ['a', 'aa', 'aaa'], batch_size: 2, hidden_units: 50, encoder_outputs: Tensor with shape torch.Size([16, 2, 50]), }\tForward Input Shape (x): torch.Size([2, 1])\tExpected Hidden State Shape: torch.Size([1, 2, 50])\tYour Hidden State Shape: torch.Size([1, 2, 50])\n",
            "\tPASSED\t Init Input: {embedding_dim: 80, trg_vocab: ['a', 'aa', 'aaa'], batch_size: 2, hidden_units: 50, encoder_outputs: Tensor with shape torch.Size([16, 2, 50]), }\tForward Input Shape (x): torch.Size([2, 1])\tExpected Attention Weights Shape: torch.Size([2, 16, 1])\tYour Attention Weights Shape: torch.Size([2, 16, 1])\n",
            "\tPASSED\t The sum of your attention_weights along dim 1 is 1.\n",
            "\n",
            "\tPASSED\t Init Input: {embedding_dim: 100, trg_vocab: ['a', 'aa', 'aaa'], batch_size: 4, hidden_units: 50, encoder_outputs: Tensor with shape torch.Size([16, 4, 50]), }\tForward Input Shape (x): torch.Size([4, 1])\tExpected Output Shape: torch.Size([4, 5])\tYour Output Shape: torch.Size([4, 5])\n",
            "\tPASSED\t Init Input: {embedding_dim: 100, trg_vocab: ['a', 'aa', 'aaa'], batch_size: 4, hidden_units: 50, encoder_outputs: Tensor with shape torch.Size([16, 4, 50]), }\tForward Input Shape (x): torch.Size([4, 1])\tExpected Hidden State Shape: torch.Size([1, 4, 50])\tYour Hidden State Shape: torch.Size([1, 4, 50])\n",
            "\tPASSED\t Init Input: {embedding_dim: 100, trg_vocab: ['a', 'aa', 'aaa'], batch_size: 4, hidden_units: 50, encoder_outputs: Tensor with shape torch.Size([16, 4, 50]), }\tForward Input Shape (x): torch.Size([4, 1])\tExpected Attention Weights Shape: torch.Size([4, 16, 1])\tYour Attention Weights Shape: torch.Size([4, 16, 1])\n",
            "\tPASSED\t The sum of your attention_weights along dim 1 is 1.\n",
            "\n",
            "\tPASSED\t Init Input: {embedding_dim: 120, trg_vocab: ['a', 'aa', 'aaa'], batch_size: 1, hidden_units: 100, encoder_outputs: Tensor with shape torch.Size([16, 1, 100]), }\tForward Input Shape (x): torch.Size([1, 1])\tExpected Output Shape: torch.Size([1, 5])\tYour Output Shape: torch.Size([1, 5])\n",
            "\tPASSED\t Init Input: {embedding_dim: 120, trg_vocab: ['a', 'aa', 'aaa'], batch_size: 1, hidden_units: 100, encoder_outputs: Tensor with shape torch.Size([16, 1, 100]), }\tForward Input Shape (x): torch.Size([1, 1])\tExpected Hidden State Shape: torch.Size([1, 1, 100])\tYour Hidden State Shape: torch.Size([1, 1, 100])\n",
            "\tPASSED\t Init Input: {embedding_dim: 120, trg_vocab: ['a', 'aa', 'aaa'], batch_size: 1, hidden_units: 100, encoder_outputs: Tensor with shape torch.Size([16, 1, 100]), }\tForward Input Shape (x): torch.Size([1, 1])\tExpected Attention Weights Shape: torch.Size([1, 16, 1])\tYour Attention Weights Shape: torch.Size([1, 16, 1])\n",
            "\tPASSED\t The sum of your attention_weights along dim 1 is 1.\n",
            "\n",
            "\tPASSED\t Init Input: {embedding_dim: 150, trg_vocab: ['a', 'aa', 'aaa'], batch_size: 2, hidden_units: 100, encoder_outputs: Tensor with shape torch.Size([16, 2, 100]), }\tForward Input Shape (x): torch.Size([2, 1])\tExpected Output Shape: torch.Size([2, 5])\tYour Output Shape: torch.Size([2, 5])\n",
            "\tPASSED\t Init Input: {embedding_dim: 150, trg_vocab: ['a', 'aa', 'aaa'], batch_size: 2, hidden_units: 100, encoder_outputs: Tensor with shape torch.Size([16, 2, 100]), }\tForward Input Shape (x): torch.Size([2, 1])\tExpected Hidden State Shape: torch.Size([1, 2, 100])\tYour Hidden State Shape: torch.Size([1, 2, 100])\n",
            "\tPASSED\t Init Input: {embedding_dim: 150, trg_vocab: ['a', 'aa', 'aaa'], batch_size: 2, hidden_units: 100, encoder_outputs: Tensor with shape torch.Size([16, 2, 100]), }\tForward Input Shape (x): torch.Size([2, 1])\tExpected Attention Weights Shape: torch.Size([2, 16, 1])\tYour Attention Weights Shape: torch.Size([2, 16, 1])\n",
            "\tPASSED\t The sum of your attention_weights along dim 1 is 1.\n",
            "\n",
            "\tPASSED\t Init Input: {embedding_dim: 200, trg_vocab: ['a', 'aa', 'aaa'], batch_size: 4, hidden_units: 100, encoder_outputs: Tensor with shape torch.Size([16, 4, 100]), }\tForward Input Shape (x): torch.Size([4, 1])\tExpected Output Shape: torch.Size([4, 5])\tYour Output Shape: torch.Size([4, 5])\n",
            "\tPASSED\t Init Input: {embedding_dim: 200, trg_vocab: ['a', 'aa', 'aaa'], batch_size: 4, hidden_units: 100, encoder_outputs: Tensor with shape torch.Size([16, 4, 100]), }\tForward Input Shape (x): torch.Size([4, 1])\tExpected Hidden State Shape: torch.Size([1, 4, 100])\tYour Hidden State Shape: torch.Size([1, 4, 100])\n",
            "\tPASSED\t Init Input: {embedding_dim: 200, trg_vocab: ['a', 'aa', 'aaa'], batch_size: 4, hidden_units: 100, encoder_outputs: Tensor with shape torch.Size([16, 4, 100]), }\tForward Input Shape (x): torch.Size([4, 1])\tExpected Attention Weights Shape: torch.Size([4, 16, 1])\tYour Attention Weights Shape: torch.Size([4, 16, 1])\n",
            "\tPASSED\t The sum of your attention_weights along dim 1 is 1.\n",
            "\n",
            "\tPASSED\t Init Input: {embedding_dim: 300, trg_vocab: ['a', 'aa', 'aaa'], batch_size: 1, hidden_units: 200, encoder_outputs: Tensor with shape torch.Size([16, 1, 200]), }\tForward Input Shape (x): torch.Size([1, 1])\tExpected Output Shape: torch.Size([1, 5])\tYour Output Shape: torch.Size([1, 5])\n",
            "\tPASSED\t Init Input: {embedding_dim: 300, trg_vocab: ['a', 'aa', 'aaa'], batch_size: 1, hidden_units: 200, encoder_outputs: Tensor with shape torch.Size([16, 1, 200]), }\tForward Input Shape (x): torch.Size([1, 1])\tExpected Hidden State Shape: torch.Size([1, 1, 200])\tYour Hidden State Shape: torch.Size([1, 1, 200])\n",
            "\tPASSED\t Init Input: {embedding_dim: 300, trg_vocab: ['a', 'aa', 'aaa'], batch_size: 1, hidden_units: 200, encoder_outputs: Tensor with shape torch.Size([16, 1, 200]), }\tForward Input Shape (x): torch.Size([1, 1])\tExpected Attention Weights Shape: torch.Size([1, 16, 1])\tYour Attention Weights Shape: torch.Size([1, 16, 1])\n",
            "\tPASSED\t The sum of your attention_weights along dim 1 is 1.\n",
            "\n",
            "\tPASSED\t Init Input: {embedding_dim: 400, trg_vocab: ['a', 'aa', 'aaa'], batch_size: 2, hidden_units: 200, encoder_outputs: Tensor with shape torch.Size([16, 2, 200]), }\tForward Input Shape (x): torch.Size([2, 1])\tExpected Output Shape: torch.Size([2, 5])\tYour Output Shape: torch.Size([2, 5])\n",
            "\tPASSED\t Init Input: {embedding_dim: 400, trg_vocab: ['a', 'aa', 'aaa'], batch_size: 2, hidden_units: 200, encoder_outputs: Tensor with shape torch.Size([16, 2, 200]), }\tForward Input Shape (x): torch.Size([2, 1])\tExpected Hidden State Shape: torch.Size([1, 2, 200])\tYour Hidden State Shape: torch.Size([1, 2, 200])\n",
            "\tPASSED\t Init Input: {embedding_dim: 400, trg_vocab: ['a', 'aa', 'aaa'], batch_size: 2, hidden_units: 200, encoder_outputs: Tensor with shape torch.Size([16, 2, 200]), }\tForward Input Shape (x): torch.Size([2, 1])\tExpected Attention Weights Shape: torch.Size([2, 16, 1])\tYour Attention Weights Shape: torch.Size([2, 16, 1])\n",
            "\tPASSED\t The sum of your attention_weights along dim 1 is 1.\n",
            "\n",
            "\tPASSED\t Init Input: {embedding_dim: 500, trg_vocab: ['a', 'aa', 'aaa'], batch_size: 4, hidden_units: 200, encoder_outputs: Tensor with shape torch.Size([16, 4, 200]), }\tForward Input Shape (x): torch.Size([4, 1])\tExpected Output Shape: torch.Size([4, 5])\tYour Output Shape: torch.Size([4, 5])\n",
            "\tPASSED\t Init Input: {embedding_dim: 500, trg_vocab: ['a', 'aa', 'aaa'], batch_size: 4, hidden_units: 200, encoder_outputs: Tensor with shape torch.Size([16, 4, 200]), }\tForward Input Shape (x): torch.Size([4, 1])\tExpected Hidden State Shape: torch.Size([1, 4, 200])\tYour Hidden State Shape: torch.Size([1, 4, 200])\n",
            "\tPASSED\t Init Input: {embedding_dim: 500, trg_vocab: ['a', 'aa', 'aaa'], batch_size: 4, hidden_units: 200, encoder_outputs: Tensor with shape torch.Size([16, 4, 200]), }\tForward Input Shape (x): torch.Size([4, 1])\tExpected Attention Weights Shape: torch.Size([4, 16, 1])\tYour Attention Weights Shape: torch.Size([4, 16, 1])\n",
            "\tPASSED\t The sum of your attention_weights along dim 1 is 1.\n",
            "\n"
          ]
        }
      ],
      "source": [
        "### DO NOT EDIT ###\n",
        "\n",
        "if __name__ == '__main__':\n",
        "    # Set random seed\n",
        "    torch.manual_seed(42)\n",
        "    # Create test inputs\n",
        "    embedding_dim = [2, 5, 8]\n",
        "    hidden_units = [50, 100, 200]\n",
        "    sanity_vocab = Vocab_Lang(vocab=[\"a\", \"aa\", \"aaa\"])\n",
        "    params = []\n",
        "    inputs = []\n",
        "    for ed in embedding_dim:\n",
        "        for hu in hidden_units:\n",
        "            inp = {}\n",
        "            inp['trg_vocab'] = sanity_vocab\n",
        "            inp['embedding_dim'] = ed\n",
        "            inp['hidden_units'] = hu\n",
        "            inputs.append(inp)\n",
        "    # Test init\n",
        "    expected_outputs = [21016, 82016, 324016, 21481, 82931, 325831, 21946, 83846, 327646]\n",
        "    sanityCheckModel(inputs, RnnDecoder, expected_outputs, \"init\")\n",
        "    print()\n",
        "\n",
        "    # Test forward\n",
        "    inputs = []\n",
        "    hidden_units = [50, 100, 200]\n",
        "    batch_sizes = [1, 2, 4]\n",
        "    embedding_dims = iter([50,80,100,120,150,200,300,400,500])\n",
        "    encoder_outputs = iter([torch.rand([16, 1, 50]), torch.rand([16, 2, 50]), torch.rand([16, 4, 50]), torch.rand([16, 1, 100]), torch.rand([16, 2, 100]), torch.rand([16, 4, 100]), torch.rand([16, 1, 200]), torch.rand([16, 2, 200]),torch.rand([16, 4, 200])])\n",
        "    expected_fc_outs = [torch.Size([1, 5]),torch.Size([2, 5]),torch.Size([4, 5]),torch.Size([1, 5]),torch.Size([2, 5]),torch.Size([4, 5]),torch.Size([1, 5]),torch.Size([2, 5]),torch.Size([4, 5])]\n",
        "    expected_dec_hs = [torch.Size([1, 1, 50]), torch.Size([1, 2, 50]), torch.Size([1, 4, 50]), torch.Size([1, 1, 100]), torch.Size([1, 2, 100]), torch.Size([1, 4, 100]), torch.Size([1, 1, 200]), torch.Size([1, 2, 200]), torch.Size([1, 4, 200])]\n",
        "    expected_attention_weights = [torch.Size([1, 16, 1]), torch.Size([2, 16, 1]), torch.Size([4, 16, 1]), torch.Size([1, 16, 1]), torch.Size([2, 16, 1]), torch.Size([4, 16, 1]), torch.Size([1, 16, 1]), torch.Size([2, 16, 1]), torch.Size([4, 16, 1])]\n",
        "    expected_outputs = (expected_fc_outs, expected_dec_hs, expected_attention_weights)\n",
        "\n",
        "    for hu in hidden_units:\n",
        "        for b in batch_sizes:\n",
        "            inp = {}\n",
        "            edim = next(embedding_dims)\n",
        "            inp['embedding_dim'] = edim\n",
        "            inp['trg_vocab'] = sanity_vocab\n",
        "            inp[\"batch_size\"] = b\n",
        "            inp['hidden_units'] = hu\n",
        "            inp['encoder_outputs'] = next(encoder_outputs)\n",
        "            inputs.append(inp)\n",
        "\n",
        "    sanityCheckDecoderModelForward(inputs, RnnDecoder, expected_outputs)\n"
      ]
    },
    {
      "cell_type": "markdown",
      "metadata": {
        "id": "VQKYT5w3n82V"
      },
      "source": [
        "## Train RNN Model\n",
        "\n",
        "We will train the encoder and decoder using cross-entropy loss."
      ]
    },
    {
      "cell_type": "code",
      "execution_count": null,
      "metadata": {
        "id": "IyPi_PfkFtSr"
      },
      "outputs": [],
      "source": [
        "### DO NOT EDIT ###\n",
        "\n",
        "def loss_function(real, pred):\n",
        "    mask = real.ge(1).float() # Only consider non-zero inputs in the loss\n",
        "\n",
        "    loss_ = F.cross_entropy(pred, real) * mask\n",
        "    return torch.mean(loss_)\n",
        "\n",
        "def train_rnn_model(encoder, decoder, dataset, optimizer, trg_vocab, device, n_epochs):\n",
        "    batch_size = dataset.batch_size\n",
        "    for epoch in range(n_epochs):\n",
        "        start = time.time()\n",
        "        n_batch = 0\n",
        "        total_loss = 0\n",
        "\n",
        "        encoder.train()\n",
        "        decoder.train()\n",
        "\n",
        "        for src, trg in tqdm(dataset):\n",
        "            n_batch += 1\n",
        "            loss = 0\n",
        "\n",
        "            enc_output, enc_hidden = encoder(src.transpose(0,1).to(device))\n",
        "            dec_hidden = enc_hidden\n",
        "\n",
        "            # use teacher forcing - feeding the target as the next input (via dec_input)\n",
        "            dec_input = torch.tensor([[trg_vocab.word2idx['<start>']]] * batch_size)\n",
        "\n",
        "            # run code below for every timestep in the ys batch\n",
        "            for t in range(1, trg.size(1)):\n",
        "                predictions, dec_hidden, _ = decoder(dec_input.to(device), dec_hidden.to(device), enc_output.to(device))\n",
        "                assert len(predictions.shape) == 2 and predictions.shape[0] == dec_input.shape[0] and predictions.shape[1] == len(trg_vocab.word2idx), \"First output of decoder must have shape [batch_size, vocab_size], you returned shape \" + str(predictions.shape)\n",
        "                loss += loss_function(trg[:, t].to(device), predictions.to(device))\n",
        "                dec_input = trg[:, t].unsqueeze(1)\n",
        "\n",
        "            batch_loss = (loss / int(trg.size(1)))\n",
        "            total_loss += batch_loss.item()\n",
        "\n",
        "            optimizer.zero_grad()\n",
        "\n",
        "            batch_loss.backward()\n",
        "\n",
        "            ### update model parameters\n",
        "            optimizer.step()\n",
        "\n",
        "        ### TODO: Save checkpoint for model (optional)\n",
        "        print('Epoch:{:2d}/{}\\t Loss: {:.4f} \\t({:.2f}s)'.format(epoch + 1, n_epochs, total_loss / n_batch, time.time() - start))\n",
        "\n",
        "    print('Model trained!')"
      ]
    },
    {
      "cell_type": "code",
      "execution_count": null,
      "metadata": {
        "colab": {
          "base_uri": "https://localhost:8080/"
        },
        "id": "IjbsUkcpNK9W",
        "outputId": "54cc89c5-c8bc-4d66-b5a1-6a018f7d0ee4"
      },
      "outputs": [
        {
          "name": "stdout",
          "output_type": "stream",
          "text": [
            "Encoder and Decoder models initialized!\n"
          ]
        }
      ],
      "source": [
        "### DO NOT EDIT ###\n",
        "\n",
        "if __name__ == '__main__':\n",
        "    # HYPERPARAMETERS - feel free to change\n",
        "    LEARNING_RATE = 0.001\n",
        "    HIDDEN_UNITS=256\n",
        "    N_EPOCHS=10\n",
        "\n",
        "    rnn_encoder = RnnEncoder(src_vocab, EMBEDDING_DIM, HIDDEN_UNITS).to(DEVICE)\n",
        "    rnn_decoder = RnnDecoder(trg_vocab, EMBEDDING_DIM, HIDDEN_UNITS).to(DEVICE)\n",
        "\n",
        "    rnn_model_params = list(rnn_encoder.parameters()) + list(rnn_decoder.parameters())\n",
        "    optimizer = torch.optim.Adam(rnn_model_params, lr=LEARNING_RATE)\n",
        "\n",
        "    print('Encoder and Decoder models initialized!')"
      ]
    },
    {
      "cell_type": "code",
      "execution_count": null,
      "metadata": {
        "colab": {
          "background_save": true,
          "base_uri": "https://localhost:8080/",
          "height": 528,
          "referenced_widgets": [
            "4b2c02417b32420f9b0e64b7c2b3242e",
            "624773fe7ffe4b6498fa9f1f234aa134",
            "1933e661d76f485d99790abadb7a88cc",
            "f785f3514abf4258bf03b4772035aec7",
            "adf5a01834c74dc798d1e85cb24b7ef8",
            "3f9d1c6a98904f1a94826796c3e5e689",
            "d574b1e395364a1682b34a908221ca8d",
            "0486027b2e324a49a5beafd8c2db81fa",
            "d9637b3e491e46af80541883dd7a5926",
            "2418f249755944fb805f53f76660726a"
          ]
        },
        "id": "OPosimvgdx_O",
        "outputId": "1e5436b9-8247-4db9-a8eb-7e606015379f"
      },
      "outputs": [
        {
          "data": {
            "application/vnd.jupyter.widget-view+json": {
              "model_id": "4b2c02417b32420f9b0e64b7c2b3242e",
              "version_major": 2,
              "version_minor": 0
            },
            "text/plain": [
              "  0%|          | 0/468 [00:00<?, ?it/s]"
            ]
          },
          "metadata": {},
          "output_type": "display_data"
        },
        {
          "name": "stdout",
          "output_type": "stream",
          "text": [
            "Epoch: 1/10\t Loss: 1.7187 \t(263.87s)\n"
          ]
        },
        {
          "data": {
            "application/vnd.jupyter.widget-view+json": {
              "model_id": "624773fe7ffe4b6498fa9f1f234aa134",
              "version_major": 2,
              "version_minor": 0
            },
            "text/plain": [
              "  0%|          | 0/468 [00:00<?, ?it/s]"
            ]
          },
          "metadata": {},
          "output_type": "display_data"
        },
        {
          "name": "stdout",
          "output_type": "stream",
          "text": [
            "Epoch: 2/10\t Loss: 1.0484 \t(285.65s)\n"
          ]
        },
        {
          "data": {
            "application/vnd.jupyter.widget-view+json": {
              "model_id": "1933e661d76f485d99790abadb7a88cc",
              "version_major": 2,
              "version_minor": 0
            },
            "text/plain": [
              "  0%|          | 0/468 [00:00<?, ?it/s]"
            ]
          },
          "metadata": {},
          "output_type": "display_data"
        },
        {
          "name": "stdout",
          "output_type": "stream",
          "text": [
            "Epoch: 3/10\t Loss: 0.7347 \t(255.55s)\n"
          ]
        },
        {
          "data": {
            "application/vnd.jupyter.widget-view+json": {
              "model_id": "f785f3514abf4258bf03b4772035aec7",
              "version_major": 2,
              "version_minor": 0
            },
            "text/plain": [
              "  0%|          | 0/468 [00:00<?, ?it/s]"
            ]
          },
          "metadata": {},
          "output_type": "display_data"
        },
        {
          "name": "stdout",
          "output_type": "stream",
          "text": [
            "Epoch: 4/10\t Loss: 0.5196 \t(257.02s)\n"
          ]
        },
        {
          "data": {
            "application/vnd.jupyter.widget-view+json": {
              "model_id": "adf5a01834c74dc798d1e85cb24b7ef8",
              "version_major": 2,
              "version_minor": 0
            },
            "text/plain": [
              "  0%|          | 0/468 [00:00<?, ?it/s]"
            ]
          },
          "metadata": {},
          "output_type": "display_data"
        },
        {
          "name": "stdout",
          "output_type": "stream",
          "text": [
            "Epoch: 5/10\t Loss: 0.3679 \t(256.89s)\n"
          ]
        },
        {
          "data": {
            "application/vnd.jupyter.widget-view+json": {
              "model_id": "3f9d1c6a98904f1a94826796c3e5e689",
              "version_major": 2,
              "version_minor": 0
            },
            "text/plain": [
              "  0%|          | 0/468 [00:00<?, ?it/s]"
            ]
          },
          "metadata": {},
          "output_type": "display_data"
        },
        {
          "name": "stdout",
          "output_type": "stream",
          "text": [
            "Epoch: 6/10\t Loss: 0.2617 \t(255.48s)\n"
          ]
        },
        {
          "data": {
            "application/vnd.jupyter.widget-view+json": {
              "model_id": "d574b1e395364a1682b34a908221ca8d",
              "version_major": 2,
              "version_minor": 0
            },
            "text/plain": [
              "  0%|          | 0/468 [00:00<?, ?it/s]"
            ]
          },
          "metadata": {},
          "output_type": "display_data"
        },
        {
          "name": "stdout",
          "output_type": "stream",
          "text": [
            "Epoch: 7/10\t Loss: 0.1896 \t(256.04s)\n"
          ]
        },
        {
          "data": {
            "application/vnd.jupyter.widget-view+json": {
              "model_id": "0486027b2e324a49a5beafd8c2db81fa",
              "version_major": 2,
              "version_minor": 0
            },
            "text/plain": [
              "  0%|          | 0/468 [00:00<?, ?it/s]"
            ]
          },
          "metadata": {},
          "output_type": "display_data"
        },
        {
          "name": "stdout",
          "output_type": "stream",
          "text": [
            "Epoch: 8/10\t Loss: 0.1415 \t(255.96s)\n"
          ]
        },
        {
          "data": {
            "application/vnd.jupyter.widget-view+json": {
              "model_id": "d9637b3e491e46af80541883dd7a5926",
              "version_major": 2,
              "version_minor": 0
            },
            "text/plain": [
              "  0%|          | 0/468 [00:00<?, ?it/s]"
            ]
          },
          "metadata": {},
          "output_type": "display_data"
        },
        {
          "name": "stdout",
          "output_type": "stream",
          "text": [
            "Epoch: 9/10\t Loss: 0.1102 \t(257.74s)\n"
          ]
        },
        {
          "data": {
            "application/vnd.jupyter.widget-view+json": {
              "model_id": "2418f249755944fb805f53f76660726a",
              "version_major": 2,
              "version_minor": 0
            },
            "text/plain": [
              "  0%|          | 0/468 [00:00<?, ?it/s]"
            ]
          },
          "metadata": {},
          "output_type": "display_data"
        },
        {
          "name": "stdout",
          "output_type": "stream",
          "text": [
            "Epoch:10/10\t Loss: 0.0887 \t(257.87s)\n",
            "Model trained!\n"
          ]
        }
      ],
      "source": [
        "### DO NOT EDIT ###\n",
        "\n",
        "if __name__ == '__main__':\n",
        "    train_rnn_model(rnn_encoder, rnn_decoder, train_dataset, optimizer, trg_vocab, DEVICE, N_EPOCHS)"
      ]
    },
    {
      "cell_type": "markdown",
      "metadata": {
        "id": "vOKT1peUxUYR"
      },
      "source": [
        "# Step 3: Inference Functions [40 points]\n",
        "\n",
        "Now that we have trained the model, we can use it on test data. But first, you must *decode* from the model: given an input (Spanish sentence), what is the most likely output (English sentence)?\n",
        "\n",
        "Recall that sequence-to-sequence models like RNN's factorize the probability distribution of output sequence $\\mathbf{y}$ given input sequence $\\mathbf{x}$ as $$P(\\mathbf{y} \\mid \\mathbf{x})=\\prod _{t=1}^{|\\mathbf{y}|}P(y_t\\mid y_0 \\cdots y_{t-1}, \\mathbf{x})$$\n",
        "\n",
        "where $y_0$ is the start-of-sentence token.\n",
        "\n",
        "First, you will explore how to *sample* from this distribution. Then, you will implement a decoding method, which aims to find $\\mathrm{argmax}_\\mathbf{y} P(\\mathbf{y} \\mid \\mathbf{x})$. Because there are infinitely many sequences $\\mathbf{y}$, it is not possible to directly optimize this quantity; thus we resort to *beam search decoding*, a heuristic method."
      ]
    },
    {
      "cell_type": "markdown",
      "metadata": {
        "id": "szVF1Yn-yoZP"
      },
      "source": [
        "## <font color='red'>TODO:</font> Temperature Sampling [10 points]\n",
        "\n",
        "Temperature sampling is a method to sample from $P(\\mathbf{y}\\mid \\mathbf{x})$. Recall that at each timestep, the softmax function $\\sigma(\\mathbf{z})$ transforms the output logits $\\mathbf{z}$ of the final layer of the transformer to a probability distribution. To apply temperature $T$, we use a modified softmax function to produce the distribution: $$P(z_i)=\\frac{\\exp (z_i\\,/\\,T)}{\\sum _j \\exp (z_j\\,/\\,T)}$$ What is the effect of applying temperature?\n",
        "* If $T=1$, then this is equivalent to the softmax function $-$ hence, the unmodified probability distributon learned by the transformer.\n",
        "* As $T \\rightarrow \\infty$, this approaches the uniform distribution.\n",
        "* As $T \\rightarrow 0$, the distribution becomes increasingly \"peaked\": that is, the probability of the most likely token increases to $1$.\n",
        "\n",
        "Implement temperature sampling in the following cell by following the instructions in the docstrings."
      ]
    },
    {
      "cell_type": "code",
      "execution_count": 41,
      "metadata": {
        "id": "B76wtwJDyoZP"
      },
      "outputs": [],
      "source": [
        "def sample_model(encoder, decoder, src, max_decode_len, temperature):\n",
        "    \"\"\"\n",
        "    Perform temperature sampling of the target sentence for each source sentence in src based on the trained encoder and decoder.\n",
        "\n",
        "    Args:\n",
        "        encoder: Your RnnEncoder object\n",
        "        decoder: Your RnnDecoder object\n",
        "        src: [max_src_length, batch_size] the source sentences you wish to translate\n",
        "        max_decode_len: The maximum desired length (int) of your target translated sentences\n",
        "        temperature: The temperature in temperature sampling\n",
        "\n",
        "    Returns:\n",
        "        sentences: A list of length batch_size, where sentences[i] is a list containing vocab indexes of the sampled\n",
        "            trg sentence for the ith item in the src batch.\n",
        "\n",
        "    Pseudo-code:\n",
        "    - Obtain encoder output and hidden state by encoding src sentences\n",
        "    - For 1 ≤ t < max_decode_len:\n",
        "        - Obtain dec_input as the best words so far for previous time steps (you can get this from curr_output)\n",
        "        - Obtain your prediction logits and hidden state by feeding dec_input, enc_output, and dec_hidden to decoder\n",
        "        - Sample from the distribution over tokens (consider using torch.distributions.Categorical) with temperature\n",
        "        - Save result in curr_output at index t\n",
        "    - Truncate each sentence in the batch at EOS before returning them as a list of lists of vocab indexes\n",
        "\n",
        "    Hints:\n",
        "    - You should interact with the decoder using its decode_step function.\n",
        "    \"\"\"\n",
        "\n",
        "    # Initialize variables\n",
        "    trg_vocab = decoder.trg_vocab\n",
        "    batch_size = src.size(1)\n",
        "    curr_output = torch.zeros((batch_size, max_decode_len))\n",
        "    eos_idx = trg_vocab.word2idx['<end>']\n",
        "    device = src.device\n",
        "    is_rnn = 'Rnn' in encoder.__class__.__name__\n",
        "    sentences = []\n",
        "\n",
        "    # We start the decoding with the start token for each example\n",
        "    dec_input = torch.tensor([[trg_vocab.word2idx['<start>']]] * batch_size, device=device)\n",
        "    curr_output[:, 0] = dec_input.squeeze(1)\n",
        "\n",
        "    # Obtain encoder outputs\n",
        "    if is_rnn: enc_output, dec_hidden = encoder(src)\n",
        "    else: enc_output, dec_hidden = encoder(src), None\n",
        "    enc_output, dec_hidden = enc_output.to(device), dec_hidden.to(device) if dec_hidden is not None else None\n",
        "\n",
        "    ### TODO ###\n",
        "    #   At each time step, sample the next token and save it in curr_output\n",
        "    for t in range(1, max_decode_len):\n",
        "        # --- Start of loop iteration ---\n",
        "\n",
        "        # Get the target device from the input src tensor\n",
        "        target_device = src.device # This should be 'cuda:0' based on the error\n",
        "\n",
        "        # 1. Determine the input for this step based on model type\n",
        "        if is_rnn:\n",
        "            step_input_before_cast = curr_output[:, t-1].unsqueeze(1)\n",
        "        else:\n",
        "            step_input_before_cast = curr_output[:, :t]\n",
        "        # --- End of if/else block ---\n",
        "\n",
        "        # *** Ensure the input is LongTensor AND on the correct device ***\n",
        "        step_input = step_input_before_cast.long().to(target_device)\n",
        "\n",
        "        # 2. Get logits from the decoder\n",
        "        # Ensure enc_output and dec_hidden are also on the target_device (should be, but good practice)\n",
        "        enc_output = enc_output.to(target_device)\n",
        "        if dec_hidden is not None:\n",
        "             dec_hidden = dec_hidden.to(target_device)\n",
        "\n",
        "        # step_input is now guaranteed LongTensor on target_device\n",
        "        logits, dec_hidden = decoder.decode_step(step_input, enc_output, dec_hidden) # Logits will be on target_device\n",
        "\n",
        "        # 3. Apply temperature and sample\n",
        "        if temperature <= 1e-9:\n",
        "             scaled_logits = logits\n",
        "             next_token = torch.argmax(scaled_logits, dim=1) # next_token will be on target_device\n",
        "        else:\n",
        "            scaled_logits = logits / temperature\n",
        "            probabilities = F.softmax(scaled_logits, dim=1)\n",
        "            dist = torch.distributions.Categorical(probabilities)\n",
        "            next_token = dist.sample() # next_token will be on target_device\n",
        "\n",
        "        # 4. Save the sampled token\n",
        "        # Make sure next_token is on the same device as curr_output (which should be target_device)\n",
        "        curr_output[:, t] = next_token.to(curr_output.device) # Add .to() for safety\n",
        "\n",
        "    ### TODO ###\n",
        "    #   For each item in the batch, truncate the sentence to EOS; if EOS was not predicted, choose sentence up to max_decode_len\n",
        "    for i in range(batch_size):\n",
        "        full_generated_indices = curr_output[i, :].tolist() # Get the full generated sequence for this batch item\n",
        "\n",
        "        # Find the position of the first EOS token, if it exists\n",
        "        try:\n",
        "            eos_position = full_generated_indices.index(eos_idx)\n",
        "            # If EOS is found, take the sequence up to and including EOS\n",
        "            final_indices = full_generated_indices[:eos_position + 1]\n",
        "        except ValueError:\n",
        "            # If EOS is not found, take the entire generated sequence\n",
        "            final_indices = full_generated_indices\n",
        "            # Optional: Remove trailing padding tokens if necessary, though shouldn't occur often here\n",
        "            # while final_indices and final_indices[-1] == pad_idx:\n",
        "            #     final_indices.pop()\n",
        "\n",
        "        sentences.append(final_indices)\n",
        "\n",
        "    return sentences"
      ]
    },
    {
      "cell_type": "markdown",
      "metadata": {
        "id": "VSbHm2Ua1PW6"
      },
      "source": [
        "You can run the cell below to qualitatively compare some of the sentences your model generates with the some of the correct translations."
      ]
    },
    {
      "cell_type": "code",
      "execution_count": 42,
      "metadata": {
        "colab": {
          "base_uri": "https://localhost:8080/"
        },
        "id": "YwQXVMEE1Chr",
        "outputId": "3ef74088-5b40-4e7d-99a1-79fce29f8583"
      },
      "outputs": [
        {
          "name": "stdout",
          "output_type": "stream",
          "text": [
            "Source sentence:\t\t <start> ¿ tom esta bien ? <end>\n",
            "Target sentence:\t\t <start> is tom all right ? <end>\n",
            "Sampled sentence (T=0.01):\t <start> is tom ok ? <end>\n",
            "Sampled sentence (T=1.0):\t <start> is tom ok ? <end>\n",
            "Sampled sentence (T=2.0):\t <start> is tom truth ? <end>\n",
            "----------------\n",
            "Source sentence:\t\t <start> ¿ donde esta la estacion ? <end>\n",
            "Target sentence:\t\t <start> where is the station ? <end>\n",
            "Sampled sentence (T=0.01):\t <start> where is the station ? <end>\n",
            "Sampled sentence (T=1.0):\t <start> where is the station ? <end>\n",
            "Sampled sentence (T=2.0):\t <start> where do the mailbox road ? <end>\n",
            "----------------\n",
            "Source sentence:\t\t <start> coged solo uno . <end>\n",
            "Target sentence:\t\t <start> just take one . <end>\n",
            "Sampled sentence (T=0.01):\t <start> just take one . <end>\n",
            "Sampled sentence (T=1.0):\t <start> just take one . <end>\n",
            "Sampled sentence (T=2.0):\t <start> just stop informed . <end>\n",
            "----------------\n",
            "Source sentence:\t\t <start> no tengo miedo . <end>\n",
            "Target sentence:\t\t <start> i m not afraid . <end>\n",
            "Sampled sentence (T=0.01):\t <start> i m not afraid . <end>\n",
            "Sampled sentence (T=1.0):\t <start> i m not afraid . <end>\n",
            "Sampled sentence (T=2.0):\t <start> i m not afraid . <end>\n",
            "----------------\n",
            "Source sentence:\t\t <start> estas no son palabras . <end>\n",
            "Target sentence:\t\t <start> these aren t words . <end>\n",
            "Sampled sentence (T=0.01):\t <start> these are not words . <end>\n",
            "Sampled sentence (T=1.0):\t <start> these are not words . <end>\n",
            "Sampled sentence (T=2.0):\t <start> these are pockets mall . <end>\n",
            "----------------\n"
          ]
        }
      ],
      "source": [
        "### DO NOT EDIT ###\n",
        "\n",
        "if __name__ == '__main__':\n",
        "    rnn_encoder.eval()\n",
        "    rnn_decoder.eval()\n",
        "    idxes = random.choices(range(len(test_dataset.dataset)), k=5)\n",
        "    src, trg =  train_dataset.dataset[idxes]\n",
        "    results = {}\n",
        "    for temp in [0.01, 1.0, 2.0]:\n",
        "        results[temp] = sample_model(rnn_encoder, rnn_decoder, src.transpose(0,1).to(DEVICE), trg.size(1), temp)\n",
        "    for i in range(len(src)):\n",
        "        print(\"Source sentence:\\t\\t\", ' '.join([x for x in [src_vocab.idx2word[j.item()] for j in src[i]] if x != '<pad>']))\n",
        "        print(\"Target sentence:\\t\\t\", ' '.join([x for x in [trg_vocab.idx2word[j.item()] for j in trg[i]] if x != '<pad>']))\n",
        "        for temp in results:\n",
        "            print(\"Sampled sentence (T=\"+str(temp)+\"):\\t\", ' '.join([x for x in [trg_vocab.idx2word[j] for j in results[temp][i]] if x != '<pad>']))\n",
        "        print(\"----------------\")"
      ]
    },
    {
      "cell_type": "markdown",
      "metadata": {
        "id": "2mqLidH62lJh"
      },
      "source": [
        "## <font color='red'>TODO:</font> Beam Search Decoding [24 points]\n",
        "\n",
        "Here, instead of sampling sequences from $P(\\mathbf{y}\\mid \\mathbf{x})$, you will find the maximum *a-posteriori* estimate $\\mathbf{\\hat y} = \\mathrm{argmax}_{\\mathbf{y}} P(\\mathbf{y}\\mid \\mathbf{x})$. Because it is not possible to search over all sequences $\\mathbf{y}$, we use a heuristic method called beam search decoding.\n",
        "\n",
        "The idea is as follows: at each timestep, you keep track of the $K$ best hypotheses (in terms of probability) seen up to that time that have not terminated; all terminated hypotheses (those that have predicted the end-of-sentence token) that are encountered should be saved along with their log probability. Once you have proceeded for the maximum number of timesteps, the final hypothesis is the one among the terminated hypotheses that has highest probability.\n",
        "\n",
        "However, to avoid bias toward shorter hypotheses, we apply a length penalty (described on page 12 of [this paper](https://arxiv.org/pdf/1609.08144)) when selecting the final hypothesis. Specifically, out of the hypotheses that have terminated, we select the one that maximizes the score $$\\frac{\\log P(\\mathbf{y}\\mid \\mathbf{x})}{lp}$$ where the length penalty $lp$ is defined as $$lp = \\Big (\\frac{5+t}{5+1}\\Big )^\\alpha $$ The higher the hyperparameter $\\alpha$ is, the more short hypotheses are penalized.\n",
        "\n",
        "See this [blog post](https://cjlovering.github.io/posts/beam-search/index.html) for a useful description of the algorithm along with visualizations; we encourage you to understand this before attempting to implement it.\n",
        "\n",
        "You will first implement three helper functions, each of which is worth **5 points**."
      ]
    },
    {
      "cell_type": "code",
      "execution_count": 43,
      "metadata": {
        "id": "6GiQasDuV9Db"
      },
      "outputs": [],
      "source": [
        "def sort_predictions(predictions):\n",
        "    '''\n",
        "    Sort prediction probabilities in descending order, and keep track of which hypothesis and vocab index produced each.\n",
        "\n",
        "    Args:\n",
        "        predictions: A tensor of size [beam_size, trg_vocab_size] containing log probabilities.\n",
        "\n",
        "    Returns:\n",
        "        probs: A tensor of size beam_size*trg_vocab_size containing all log probabilities sorted in descending order. Each row correponds to a separate\n",
        "           hypothesis.\n",
        "        idxes: A tensor of size beam_size*trg_vocab_size, where idxes[i] indicates which index in the vocabulary probs[i] corresponds\n",
        "           to. Thus, 0 ≤ idxes[i] < trg_vocab_size.\n",
        "        hypothesis_ids: A tensor of size beam_size*trg_vocab_size where hypothesis_ids[i] indicates which hypothesis probs[i]\n",
        "           corresonds to. Thus, 0 ≤ hypothesis_ids[i] < beam_size.\n",
        "    '''\n",
        "    assert len(predictions.shape) == 2, 'predictions should be a 2d tensor'\n",
        "    beam_size, trg_vocab_size = predictions.shape[0], predictions.shape[1]\n",
        "    probs = torch.zeros(beam_size * trg_vocab_size, device=predictions.device)\n",
        "    idxes = torch.zeros(beam_size * trg_vocab_size, device=predictions.device)\n",
        "    hypothesis_ids = torch.zeros(beam_size * trg_vocab_size, device=predictions.device)\n",
        "\n",
        "    ### TODO ###\n",
        "    flat_predictions = predictions.view(-1)\n",
        "\n",
        "    probs, flat_indices = torch.sort(flat_predictions, descending=True)\n",
        "\n",
        "    hypothesis_ids = torch.div(flat_indices, trg_vocab_size, rounding_mode='floor').long()\n",
        "    idxes = torch.remainder(flat_indices, trg_vocab_size).long()\n",
        "\n",
        "    return probs, idxes, hypothesis_ids"
      ]
    },
    {
      "cell_type": "markdown",
      "metadata": {
        "id": "5gsfQwW6bNGT"
      },
      "source": [
        "The cell below will provide a sanity check for this function."
      ]
    },
    {
      "cell_type": "code",
      "execution_count": 44,
      "metadata": {
        "colab": {
          "base_uri": "https://localhost:8080/"
        },
        "id": "YMykJqAiayyQ",
        "outputId": "3254e7fb-306d-4154-c9a2-d0e65f82ebfc"
      },
      "outputs": [
        {
          "name": "stdout",
          "output_type": "stream",
          "text": [
            "--- TEST: sort_predictions() outputs ---\n",
            "\n",
            "\tPASSED\tInput: Tensor of shape torch.Size([3, 2])\tExpected probs: tensor([ -5.2810,  -6.2810,  -7.4104,  -8.4154,  -9.3672, -10.1368])\tYour probs: tensor([ -5.2810,  -6.2810,  -7.4104,  -8.4154,  -9.3672, -10.1368])\n",
            "\tPASSED\tInput: Tensor of shape torch.Size([3, 2])\tExpected idxes: tensor([0, 0, 1, 1, 0, 1])\tYour idxes: tensor([0, 0, 1, 1, 0, 1])\n",
            "\tPASSED\tInput: Tensor of shape torch.Size([3, 2])\tExpected hypotheses_ids: tensor([1, 2, 1, 2, 0, 0])\tYour hypotheses_ids: tensor([1, 2, 1, 2, 0, 0])\n",
            "\n",
            "\tPASSED\tInput: Tensor of shape torch.Size([3, 2])\tExpected probs: tensor([ -5.2810,  -6.2810,  -7.4104,  -8.4154,  -9.3672, -10.1368])\tYour probs: tensor([ -5.2810,  -6.2810,  -7.4104,  -8.4154,  -9.3672, -10.1368])\n",
            "\tPASSED\tInput: Tensor of shape torch.Size([3, 2])\tExpected idxes: tensor([0, 0, 1, 1, 0, 1])\tYour idxes: tensor([0, 0, 1, 1, 0, 1])\n",
            "\tPASSED\tInput: Tensor of shape torch.Size([3, 2])\tExpected hypotheses_ids: tensor([0, 2, 0, 2, 1, 1])\tYour hypotheses_ids: tensor([0, 2, 0, 2, 1, 1])\n",
            "\n",
            "\tPASSED\tInput: Tensor of shape torch.Size([3, 2])\tExpected probs: tensor([ -5.2810,  -6.2810,  -7.4104,  -8.4154,  -9.3672, -10.1368])\tYour probs: tensor([ -5.2810,  -6.2810,  -7.4104,  -8.4154,  -9.3672, -10.1368])\n",
            "\tPASSED\tInput: Tensor of shape torch.Size([3, 2])\tExpected idxes: tensor([0, 0, 1, 1, 0, 1])\tYour idxes: tensor([0, 0, 1, 1, 0, 1])\n",
            "\tPASSED\tInput: Tensor of shape torch.Size([3, 2])\tExpected hypotheses_ids: tensor([1, 0, 1, 0, 2, 2])\tYour hypotheses_ids: tensor([1, 0, 1, 0, 2, 2])\n",
            "\n",
            "\tPASSED\tInput: Tensor of shape torch.Size([3, 2])\tExpected probs: tensor([ -4.9818,  -5.0244,  -6.3092,  -7.2406,  -8.7471, -10.4256])\tYour probs: tensor([ -4.9818,  -5.0244,  -6.3092,  -7.2406,  -8.7471, -10.4256])\n",
            "\tPASSED\tInput: Tensor of shape torch.Size([3, 2])\tExpected idxes: tensor([1, 0, 1, 0, 1, 0])\tYour idxes: tensor([1, 0, 1, 0, 1, 0])\n",
            "\tPASSED\tInput: Tensor of shape torch.Size([3, 2])\tExpected hypotheses_ids: tensor([0, 1, 2, 2, 1, 0])\tYour hypotheses_ids: tensor([0, 1, 2, 2, 1, 0])\n",
            "\n",
            "\tPASSED\tInput: Tensor of shape torch.Size([3, 2])\tExpected probs: tensor([-7.5414, -7.9009, -8.2827, -8.5210, -9.2406, -9.3092])\tYour probs: tensor([-7.5414, -7.9009, -8.2827, -8.5210, -9.2406, -9.3092])\n",
            "\tPASSED\tInput: Tensor of shape torch.Size([3, 2])\tExpected idxes: tensor([0, 1, 0, 1, 0, 1])\tYour idxes: tensor([0, 1, 0, 1, 0, 1])\n",
            "\tPASSED\tInput: Tensor of shape torch.Size([3, 2])\tExpected hypotheses_ids: tensor([0, 0, 1, 1, 2, 2])\tYour hypotheses_ids: tensor([0, 0, 1, 1, 2, 2])\n",
            "\n"
          ]
        }
      ],
      "source": [
        "### DO NOT EDIT ###\n",
        "\n",
        "def sanityCheckSortPredictions():\n",
        "    predictions_list = [torch.tensor([[-9.3672, -10.1368],[-5.2810, -7.4104],[-6.2810, -8.4154]]),\n",
        "                        torch.tensor([[-5.2810, -7.4104],[-9.3672, -10.1368],[-6.2810, -8.4154]]),\n",
        "                        torch.tensor([[-6.2810, -8.4154],[-5.2810, -7.4104],[-9.3672, -10.1368]]),\n",
        "                        torch.tensor([[-10.4256, -4.9818],[-5.0244, -8.7471],[-7.2406, -6.3092]]),\n",
        "                        torch.tensor([[-7.5414, -7.9009],[-8.2827, -8.5210],[-9.2406, -9.3092]])]\n",
        "    expected_outputs = [(torch.tensor([ -5.2810,  -6.2810,  -7.4104,  -8.4154,  -9.3672, -10.1368]),\n",
        "                         torch.tensor([0, 0, 1, 1, 0, 1]), torch.tensor([1, 2, 1, 2, 0, 0])),\n",
        "                        (torch.tensor([ -5.2810,  -6.2810,  -7.4104,  -8.4154,  -9.3672, -10.1368]),\n",
        "                         torch.tensor([0, 0, 1, 1, 0, 1]), torch.tensor([0, 2, 0, 2, 1, 1])),\n",
        "                        (torch.tensor([ -5.2810,  -6.2810,  -7.4104,  -8.4154,  -9.3672, -10.1368]),\n",
        "                         torch.tensor([0, 0, 1, 1, 0, 1]), torch.tensor([1, 0, 1, 0, 2, 2])),\n",
        "                        (torch.tensor([ -4.9818,  -5.0244,  -6.3092,  -7.2406,  -8.7471, -10.4256]),\n",
        "                         torch.tensor([1, 0, 1, 0, 1, 0]), torch.tensor([0, 1, 2, 2, 1, 0])),\n",
        "                        (torch.tensor([-7.5414, -7.9009, -8.2827, -8.5210, -9.2406, -9.3092]),\n",
        "                         torch.tensor([0, 1, 0, 1, 0, 1]), torch.tensor([0, 0, 1, 1, 2, 2]))]\n",
        "\n",
        "    print(\"--- TEST: sort_predictions() outputs ---\")\n",
        "    print()\n",
        "    for i in range(len(predictions_list)):\n",
        "        probs, idxes, hypotheses_ids = sort_predictions(predictions_list[i])\n",
        "        if torch.equal(probs, expected_outputs[i][0]):\n",
        "            status = \"PASSED\"\n",
        "        else:\n",
        "            status = \"FAILED\"\n",
        "        message = '\\t' + status + \"\\tInput: Tensor of shape \" + str(predictions_list[i].shape) + ('\\tExpected probs: ' + str(expected_outputs[i][0]) + '\\tYour probs: '+ str(probs))\n",
        "        print(message)\n",
        "\n",
        "        if torch.equal(idxes, expected_outputs[i][1]):\n",
        "            status = \"PASSED\"\n",
        "        else:\n",
        "            status = \"FAILED\"\n",
        "        message = '\\t' + status + \"\\tInput: Tensor of shape \" + str(predictions_list[i].shape) + ('\\tExpected idxes: ' + str(expected_outputs[i][1]) + '\\tYour idxes: '+ str(idxes))\n",
        "        print(message)\n",
        "\n",
        "        if torch.equal(hypotheses_ids, expected_outputs[i][2]):\n",
        "            status = \"PASSED\"\n",
        "        else:\n",
        "            status = \"FAILED\"\n",
        "        message = '\\t' + status + \"\\tInput: Tensor of shape \" + str(predictions_list[i].shape) + ('\\tExpected hypotheses_ids: ' + str(expected_outputs[i][2]) + '\\tYour hypotheses_ids: '+ str(hypotheses_ids))\n",
        "        print(message)\n",
        "        print()\n",
        "\n",
        "if __name__ == '__main__':\n",
        "    sanityCheckSortPredictions()"
      ]
    },
    {
      "cell_type": "code",
      "execution_count": 75,
      "metadata": {
        "id": "VBDy8gUxXJth"
      },
      "outputs": [],
      "source": [
        "def find_eos_sentences(probs, idxes, hypothesis_ids, curr_output, eos_idx, beam_size, alpha):\n",
        "    '''\n",
        "    Find the sentences that have generated EOS, but only if they are within the top beam_size sentences ranked by log probability.\n",
        "    Return the sentences (specified by a list of indexes from the vocabulary) that have terminated (generated EOS), and their scores.\n",
        "\n",
        "    Args:\n",
        "        probs: A tensor of size num_hyps*trg_vocab_size containing log probabilities (where 1 ≤ num_hyps ≤ beam_size). You may\n",
        "            assume that this is sorted in descending order.\n",
        "        idxes: A tensor of size num_hyps*trg_vocab_size where idxes[i] indicates which vocab index probs[i] corresponds to\n",
        "        hypothesis_ids: A tensor of size num_hyps*trg_vocab_size where hypothesis_ids[i] indicates which hypothesis probs[i] corresponds to\n",
        "        curr_output: A tensor of size [num_hyps, t-1] containing vocab indexes chosen for each hypothesis up to time t-1.\n",
        "        eos_idx: The end-of-sentence index in the vocabulary.\n",
        "        beam_size: The beam size.\n",
        "        alpha: The alpha used in calculating length penalty.\n",
        "    Returns:\n",
        "        eos_sents: A list of lists, where eos_sents[i] is a list containing the vocab indices of the ith sentence.\n",
        "        eos_probs: A list where eos_probs[i] is the score of eos_sents[i]. The score is the log proabability of the sentence, divided by\n",
        "            the length penalty, which is described above.\n",
        "    '''\n",
        "\n",
        "    assert probs.shape == idxes.shape == hypothesis_ids.shape, 'probs, idxes, and hypothesis_ids must all be the same shape'\n",
        "    assert alpha >= 0 and eos_idx >= 0 and beam_size >= 1\n",
        "\n",
        "    eos_probs, eos_sents = [], []\n",
        "\n",
        "    ### TODO ###\n",
        "    #    1. Find the indexes of idxes that (1) correspond to predicting EOS and (2) are within the top beam_size results ranked by log probability.\n",
        "    #         Hint: Make a binary mask that is the same size as probs, where an element is True if it meets these conditions.\n",
        "    #    2. Calculate the length penalty (do not count BOS or EOS in the length!), and divide the log probabilities by it. These are the scores.\n",
        "    #    3. Take the scores and hypothesis indexes (in hypothesis_ids) corresponding to the indexes you found in step 1.\n",
        "    #    4. Create the final sentences by concatenating the chosen hypotheses found so far (hint: use curr_output and the hypothesis indexes you just found)\n",
        "    #         with the EOS token.\n",
        "    t = curr_output.shape[1]\n",
        "\n",
        "    # 1. Find indices of EOS predictions within top beam_size overall\n",
        "    num_options = probs.shape[0]\n",
        "    eos_mask = (idxes == eos_idx)\n",
        "    top_k_mask = torch.arange(num_options, device=probs.device) < beam_size\n",
        "    combined_mask = eos_mask & top_k_mask\n",
        "    eos_indices = torch.where(combined_mask)[0]\n",
        "\n",
        "    eos_probs, eos_sents = [], []\n",
        "\n",
        "    if eos_indices.numel() > 0:\n",
        "        selected_eos_probs = probs[eos_indices]\n",
        "        selected_eos_hyp_ids = hypothesis_ids[eos_indices]\n",
        "\n",
        "        # 2. Calculate length penalty (length excludes BOS, which is t-1)\n",
        "        length = t - 1\n",
        "        lp = 1.0 if length == 0 else max(((5.0 + length) / 6.0) ** alpha, 1e-9)\n",
        "        scores = selected_eos_probs / lp\n",
        "\n",
        "        # 4. Construct sentence lists, including BOS and EOS\n",
        "        for i in range(eos_indices.numel()):\n",
        "            hyp_id = selected_eos_hyp_ids[i].item()\n",
        "\n",
        "            # Retrieve the history INCLUDING the BOS token (index 0)\n",
        "            # Slice goes up to t (exclusive), capturing indices 0 to t-1\n",
        "            base_sentence_with_bos = curr_output[hyp_id, 0:t].tolist()\n",
        "\n",
        "            # Append the EOS token\n",
        "            final_sentence = base_sentence_with_bos + [eos_idx] # Add EOS\n",
        "\n",
        "            eos_sents.append(final_sentence)\n",
        "            eos_probs.append(scores[i].item())\n",
        "\n",
        "    return eos_sents, eos_probs"
      ]
    },
    {
      "cell_type": "code",
      "execution_count": 76,
      "metadata": {
        "id": "8i5eIgoGYVBr"
      },
      "outputs": [],
      "source": [
        "def find_non_eos_sentences(probs, idxes, hypothesis_ids, curr_output, eos_idx, beam_size, t):\n",
        "    '''\n",
        "    Finds the top beam_size continuations based on their cumulative log probability.\n",
        "\n",
        "    Args:\n",
        "        probs: A tensor of size beam_size*trg_vocab_size containing log probabilities. You may assume that this is\n",
        "           sorted in descending order.\n",
        "        idxes: A tensor of size beam_size*trg_vocab_size where idxes[i] indicates which vocab index probs[i]\n",
        "           corresponds to\n",
        "        hypothesis_ids: A tensor of size beam_size*trg_vocab_size where hypothesis_ids[i] indicates which hypothesis\n",
        "           probs[i] corresponds to\n",
        "        curr_output: A tensor of size [beam_size, max_decode_len] containing vocab indexes chosen for each hypothesis.\n",
        "        eos_idx: The end-of-sentence index in the vocabulary.\n",
        "        beam_size: The beam size.\n",
        "        t: The timestep currently being processed.\n",
        "    Returns:\n",
        "        new_output: A tensor of size [beam_size, max_decode_len], where the first t columns are filled with the\n",
        "           vocab indexes found so far for each hypothesis chosen.\n",
        "        new_probs: A tensor of size beam_size where new_probs[i] contains the cumulative log probability of the\n",
        "           hypothesis new_output[i]\n",
        "        next_hyps: A tensor of size beam_size where next_hyps[i] contains the hypothesis index from the previous\n",
        "           timestep that the selected hypothesis new_output[i] continues. For example, if new_output[i] continues\n",
        "           hypothesis 4 from curr_output (i.e. it continues curr_output[4]), then next_hyps[i] = 4.\n",
        "    '''\n",
        "\n",
        "    assert beam_size == curr_output.shape[0], 'curr_output must have beam_size rows'\n",
        "    assert probs.shape == idxes.shape == hypothesis_ids.shape\n",
        "    assert eos_idx >= 0 and beam_size >= 1 and t >= 1\n",
        "\n",
        "    new_output = torch.zeros_like(curr_output, device=curr_output.device)\n",
        "    new_probs, next_hyps = torch.zeros(beam_size, device=curr_output.device), torch.zeros(beam_size, device=curr_output.device)\n",
        "\n",
        "    ### TODO ###\n",
        "    #    1. Find the vocab indexes (hint: in idxes) and probabilities (hint: in probs) of the top beam_size continuations\n",
        "    #       that are not EOS, based on their log probabilities.\n",
        "    #    2. Find the hypothesis indexes that each of these continues (hint: in hypothesis_ids).\n",
        "    #    3. Set the first t-1 columns of new_output to the existing hypotheses that you have chosen to continue (hint: use\n",
        "    #       the hypothesis indexes you just found along with curr_output)\n",
        "    #    4. Set the tth column of new_output to the vocab indexes you have selected for this timestep.\n",
        "    count = 0\n",
        "    for i in range(probs.shape[0]):\n",
        "        if count >= beam_size:\n",
        "            break\n",
        "\n",
        "        current_prob = probs[i]\n",
        "        current_vocab_idx = idxes[i]\n",
        "        current_hyp_id = hypothesis_ids[i]\n",
        "\n",
        "        if current_vocab_idx != eos_idx:\n",
        "            new_probs[count] = current_prob\n",
        "            next_hyps[count] = current_hyp_id.long()\n",
        "            new_output[count, :t] = curr_output[current_hyp_id, :t]\n",
        "            new_output[count, t] = current_vocab_idx\n",
        "\n",
        "            count += 1\n",
        "\n",
        "    return new_output, new_probs, next_hyps"
      ]
    },
    {
      "cell_type": "markdown",
      "metadata": {
        "id": "pxYuvgUGnfua"
      },
      "source": [
        "Now you code the main beam search function, which is worth **11 points**."
      ]
    },
    {
      "cell_type": "code",
      "execution_count": 77,
      "metadata": {
        "id": "wfvJmBrk2lJh"
      },
      "outputs": [],
      "source": [
        "def beam_decode_model(encoder, decoder, src, max_decode_len, beam_size,alpha):\n",
        "    \"\"\"\n",
        "    Perform beam search for the target sentence for the source sentence in src based on the trained encoder and decoder.\n",
        "\n",
        "    Args:\n",
        "        encoder: Your RnnEncoder object\n",
        "        decoder: Your RnnDecoder object\n",
        "        src: [max_src_length, 1] the source sentence you wish to translate (note: to simplify this function, we do not batch this)\n",
        "        max_decode_len: The maximum desired length (int) of your target translated sentences\n",
        "        beam_size: The beam size\n",
        "        alpha: The alpha in the length penalty formula\n",
        "\n",
        "    Returns:\n",
        "        sentence: A list containing vocab indexes of the best target sentence found.\n",
        "\n",
        "    Pseudo-code:\n",
        "    - Obtain encoder output and hidden state by encoding src sentences\n",
        "    - Expand start-of-sentence token by taking the beam_search continuations that have highest probability.\n",
        "    - For 2 ≤ t < max_decode_len:\n",
        "        - Expand each of the previous beam_sarch hypotheses, and compute the cumulative log probability of each possible continuation\n",
        "        - Save the hypotheses that terminate and their log probabilities if they are in the top beam_size hypotheses by log probability\n",
        "        - Select the beam_size continuations that are not EOS to proceed with based on their log probabilities, and also track\n",
        "          which hypothesis they continue\n",
        "        - For the RNN only (not transformer), choose the hidden states correspoonding to the hypotheses that have been selected to continue\n",
        "    - Among the terminated sentences, select the one with highest score and return it\n",
        "\n",
        "    Hints:\n",
        "    - You should interact with the decoder using its decode_step function.\n",
        "    - This function will be used for the transformer model as well later in the homework. That model does not have a hidden state, so\n",
        "      dec_hidden is None.\n",
        "      Thus, when choosing which hidden state vectors to pass between timesteps, you only need to do this when the variable is_rnn is True.\n",
        "    \"\"\"\n",
        "\n",
        "    # Initialize variables\n",
        "    trg_vocab = decoder.trg_vocab\n",
        "    eos_idx = trg_vocab.word2idx['<end>']\n",
        "    batch_size = src.size(1)\n",
        "    assert batch_size == 1 # For beam search, we will keep it simple and just do one item at a time.\n",
        "    device = src.device\n",
        "    is_rnn = 'Rnn' in encoder.__class__.__name__\n",
        "    sentence = []\n",
        "\n",
        "    # For beam search, we initialize our candidate hypotheses as start-of-sentence, each having probability 1 (log probability 0)\n",
        "    curr_output = torch.zeros((beam_size, max_decode_len),device=device) # For beam search, have to track outputs for each beam\n",
        "    curr_probs = torch.zeros(beam_size,device=device) # Each candidate hypothesis probability\n",
        "    completed_hypotheses = []\n",
        "    completed_scores = []\n",
        "\n",
        "    # We start the decoding with the start token for each example\n",
        "    dec_input = torch.tensor([[trg_vocab.word2idx['<start>']]] * batch_size, device=device)\n",
        "    curr_output[:, 0] = dec_input.squeeze(1)\n",
        "\n",
        "    # Obtain encoder outputs\n",
        "    if is_rnn: enc_output, dec_hidden = encoder(src)\n",
        "    else: enc_output, dec_hidden = encoder(src), None\n",
        "    enc_output, dec_hidden = enc_output.to(device), dec_hidden.to(device) if dec_hidden is not None else None\n",
        "\n",
        "    ### TODO ###\n",
        "    #    1. Feed dec_input into the decoder to get the logits and convert them to log probabilities.\n",
        "    #    2. Sort the probabilities, and select the top beam_size hypotheses and log probabilities (hint: use\n",
        "    #       find_non_eos_sentences with t=1)\n",
        "    #    3. Duplicate the encoder output beam_size times in the batch dimension (hint: see torch.repeat). Expected shape:\n",
        "    #       [max_src_len, beam_size, hidden_units]\n",
        "    #    4. For the RNN (i.e. if is_rnn), duplicate the hidden state beam_size times in the batch dimension. Expected\n",
        "    #       shape: [1, beam_size, hidden_units]\n",
        "    bos_idx = trg_vocab.word2idx['<start>']\n",
        "    eos_idx = trg_vocab.word2idx['<end>'] # Needed for find_non_eos_sentences\n",
        "    device = src.device                 # Get device from input tensor\n",
        "    initial_input_token = torch.tensor([[bos_idx]], dtype=torch.long, device=device) # Shape [1, 1]\n",
        "\n",
        "    enc_output = enc_output.to(device)\n",
        "    if dec_hidden is not None:\n",
        "         dec_hidden = dec_hidden.to(device)\n",
        "    logits_t1, dec_hidden_t1 = decoder.decode_step(initial_input_token, enc_output, dec_hidden) # logits_t1: [1, vocab_size]\n",
        "\n",
        "    log_probs_t1 = F.log_softmax(logits_t1, dim=1) # Shape [1, vocab_size]\n",
        "\n",
        "    sorted_probs_t1, sorted_idxes_t1, sorted_hyp_ids_t1 = sort_predictions(log_probs_t1)\n",
        "\n",
        "    initial_history = torch.full((1, max_decode_len), bos_idx, dtype=torch.long, device=device)\n",
        "    initial_history[:, 1:] = 0 # Zero out positions after BOS, though find_non_eos_sentences only uses up to t\n",
        "\n",
        "    curr_output, curr_probs, _ = find_non_eos_sentences(\n",
        "        sorted_probs_t1, sorted_idxes_t1, sorted_hyp_ids_t1,\n",
        "        initial_history.repeat(beam_size, 1), # Repeat dummy history for beam size\n",
        "        eos_idx, beam_size, t=1 # Indicate we are setting timestep 1\n",
        "    )\n",
        "\n",
        "    enc_output = enc_output.expand(-1, beam_size, -1) # Efficient repetition\n",
        "\n",
        "    if is_rnn:\n",
        "        dec_hidden = dec_hidden_t1.expand(-1, beam_size, -1).contiguous()\n",
        "    else:\n",
        "        dec_hidden = None # Transformer remains None\n",
        "\n",
        "    ### TODO ###\n",
        "    #    For 2 ≤ t < max_decode_len:\n",
        "    #        1. Obtain dec_input as the words so far for previous time steps (you can get this from curr_output)\n",
        "    #        2. Obtain your prediction log probabilities and hidden state by calling the decoder and converting to log probabilities\n",
        "    #        3. Calculate the cumulative log probabilities by adding the new prediction log probabilities to the cumulative\n",
        "    #           log probabilities from the previous timestep\n",
        "    #        4. Call sort_predictions\n",
        "    #        5. Find the EOS hypotheses and scores and save them in completed_hypotheses and completed_scores\n",
        "    #        6. Find the non-EOS hypotheses and update curr_output and curr_probs.\n",
        "    #        7. If is_rnn, select the hidden states corresponding to the hypotheses that have been chosen to continue.\n",
        "    for t in range(2, max_decode_len):\n",
        "        if is_rnn:\n",
        "            dec_input_t = curr_output[:, t-1].unsqueeze(1) # Shape [beam_size, 1]\n",
        "        else:\n",
        "            dec_input_t = curr_output[:, :t] # Shape [beam_size, t]\n",
        "\n",
        "        dec_input_t = dec_input_t.long().to(device)\n",
        "        enc_output = enc_output.to(device)\n",
        "        if dec_hidden is not None:\n",
        "            dec_hidden = dec_hidden.to(device)\n",
        "\n",
        "        logits_t, next_dec_hidden = decoder.decode_step(dec_input_t, enc_output, dec_hidden)\n",
        "        log_probs_t = F.log_softmax(logits_t, dim=1) # Shape [beam_size, vocab_size]\n",
        "\n",
        "        cumulative_log_probs = curr_probs.unsqueeze(1) + log_probs_t # Shape [beam_size, vocab_size]\n",
        "\n",
        "        sorted_cumulative_probs, sorted_vocab_idxes, sorted_prev_hyp_ids = sort_predictions(cumulative_log_probs)\n",
        "\n",
        "        eos_sents, eos_scores = find_eos_sentences(\n",
        "            sorted_cumulative_probs, sorted_vocab_idxes, sorted_prev_hyp_ids,\n",
        "            curr_output[:, :t], # History up to t-1 needed to construct full sentence\n",
        "            eos_idx, beam_size, alpha\n",
        "        )\n",
        "        completed_hypotheses.extend(eos_sents)\n",
        "        completed_scores.extend(eos_scores)\n",
        "\n",
        "        # Optional: Prune completed list to keep only top beam_size best completed sentences\n",
        "        if len(completed_scores) > beam_size:\n",
        "             sorted_indices = sorted(range(len(completed_scores)), key=lambda k: completed_scores[k], reverse=True)\n",
        "             completed_hypotheses = [completed_hypotheses[i] for i in sorted_indices[:beam_size]]\n",
        "             completed_scores = [completed_scores[i] for i in sorted_indices[:beam_size]]\n",
        "\n",
        "        next_output, next_probs, next_hyps = find_non_eos_sentences(\n",
        "            sorted_cumulative_probs, sorted_vocab_idxes, sorted_prev_hyp_ids,\n",
        "            curr_output, # Pass the full buffer to copy history from\n",
        "            eos_idx, beam_size, t # Indicate we are filling timestep t\n",
        "        )\n",
        "\n",
        "        # Update state for the next iteration\n",
        "        curr_output = next_output\n",
        "        curr_probs = next_probs\n",
        "\n",
        "        # 7. Update RNN hidden state if applicable\n",
        "        # Select the hidden states corresponding to the hypotheses chosen in next_hyps\n",
        "        if is_rnn:\n",
        "            # next_dec_hidden shape: [1, beam_size, hidden_units] (from the decode_step call)\n",
        "            # next_hyps shape: [beam_size] (contains indices from 0 to beam_size-1)\n",
        "            # We select the hidden states corresponding to the *parent* hypotheses that were continued\n",
        "            indices = next_hyps.long()\n",
        "            dec_hidden = next_dec_hidden[:, indices, :].contiguous()\n",
        "        else:\n",
        "            dec_hidden = None\n",
        "\n",
        "        # # Optional: Check termination condition\n",
        "        if len(completed_scores) >= beam_size:\n",
        "             # Simplified check: if all active beams have lower log prob than the worst completed score\n",
        "             if completed_scores and curr_probs.max().item() < min(completed_scores): # Comparing raw log prob to score here - slightly inconsistent but often works\n",
        "                  break # Stop early if best running score is worse than worst completed score\n",
        "\n",
        "    ### TODO ###\n",
        "    #    Find completed sentence with highest probability; if there are no completed sentences,\n",
        "    #      return sentence from curr_output that has highest probability\n",
        "    if completed_hypotheses:\n",
        "        # Find the index of the completed hypothesis with the highest score\n",
        "        best_score_idx = completed_scores.index(max(completed_scores))\n",
        "        # Retrieve the corresponding sentence (list of vocab indices, now includes BOS/EOS)\n",
        "        sentence = completed_hypotheses[best_score_idx]\n",
        "    else:\n",
        "        # Fallback: No sentences completed with EOS.\n",
        "        # Return the hypothesis currently in the beam with the highest cumulative log probability.\n",
        "        if curr_probs.numel() > 0: # Check if beam search produced any results\n",
        "            best_prob_idx = torch.argmax(curr_probs).item()\n",
        "\n",
        "            # Extract sequence INCLUDING BOS token (index 0)\n",
        "            sentence_indices = curr_output[best_prob_idx, :].tolist() # Get the full row\n",
        "\n",
        "            # Attempt to truncate at the first PAD token, if any\n",
        "            final_sentence = []\n",
        "            pad_idx = trg_vocab.word2idx.get('<pad>', -1)\n",
        "            for idx in sentence_indices:\n",
        "                if idx == pad_idx and final_sentence: # Stop if padding encountered after some tokens\n",
        "                    break\n",
        "                final_sentence.append(idx)\n",
        "                # Optional: Could also break on EOS here if needed, but find_non_eos should prevent it\n",
        "                # if idx == eos_idx:\n",
        "                #    break\n",
        "\n",
        "            # Remove trailing zeros/padding if they resulted from initialization\n",
        "            while final_sentence and final_sentence[-1] == 0 and len(final_sentence) > 1: # Check len > 1 to keep BOS if it's the only thing\n",
        "                 final_sentence.pop()\n",
        "\n",
        "            sentence = final_sentence\n",
        "        else:\n",
        "            sentence = []\n",
        "\n",
        "    # Ensure the final returned sentence is a list of integers\n",
        "    if isinstance(sentence, torch.Tensor):\n",
        "        sentence = sentence.tolist()\n",
        "    elif not isinstance(sentence, list):\n",
        "        sentence = [] # Fallback\n",
        "\n",
        "    sentence = [int(idx) for idx in sentence] # Final type check\n",
        "\n",
        "    return sentence"
      ]
    },
    {
      "cell_type": "markdown",
      "metadata": {
        "id": "_jhu6JmL2lJh"
      },
      "source": [
        "You can run the cell below to qualitatively compare some of the sentences your model generates with the some of the correct translations."
      ]
    },
    {
      "cell_type": "code",
      "execution_count": 78,
      "metadata": {
        "colab": {
          "base_uri": "https://localhost:8080/"
        },
        "id": "F02IIwM-2lJh",
        "outputId": "e3185649-8b4e-4ceb-dd21-acc7ea37d6c0"
      },
      "outputs": [
        {
          "name": "stdout",
          "output_type": "stream",
          "text": [
            "Source sentence:\t\t\t\t <start> ¿ quien tomo el dinero ? <end>\n",
            "Target sentence:\t\t\t\t <start> who took the money ? <end>\n",
            "Predicted sentence (greedy search):\t\t <start> who took the money ? <end>\n",
            "Predicted sentence (beam search, alpha=0.6):\t <start> who took the money ? <end>\n",
            "Predicted sentence (beam search, alpha=100):\t <start> who took the money ? <end>\n",
            "----------------\n",
            "Source sentence:\t\t\t\t <start> estoy aqui . <end>\n",
            "Target sentence:\t\t\t\t <start> i am here . <end>\n",
            "Predicted sentence (greedy search):\t\t <start> i m here . <end>\n",
            "Predicted sentence (beam search, alpha=0.6):\t <start> i m here . <end>\n",
            "Predicted sentence (beam search, alpha=100):\t <start> i m here . <end>\n",
            "----------------\n",
            "Source sentence:\t\t\t\t <start> mantente lejos del fuego . <end>\n",
            "Target sentence:\t\t\t\t <start> keep away from the fire . <end>\n",
            "Predicted sentence (greedy search):\t\t <start> keep away from the fire . <end>\n",
            "Predicted sentence (beam search, alpha=0.6):\t <start> keep away from the fire . <end>\n",
            "Predicted sentence (beam search, alpha=100):\t <start> keep away from the fire . <end>\n",
            "----------------\n",
            "Source sentence:\t\t\t\t <start> estamos en el bosque . <end>\n",
            "Target sentence:\t\t\t\t <start> we re in the forest . <end>\n",
            "Predicted sentence (greedy search):\t\t <start> we re in the forest . <end>\n",
            "Predicted sentence (beam search, alpha=0.6):\t <start> we re in the forest . <end>\n",
            "Predicted sentence (beam search, alpha=100):\t <start> we re in the forest . <end>\n",
            "----------------\n",
            "Source sentence:\t\t\t\t <start> ¿ a quien le apetece jugar ? <end>\n",
            "Target sentence:\t\t\t\t <start> who wants to play ? <end>\n",
            "Predicted sentence (greedy search):\t\t <start> who wants to play ? <end>\n",
            "Predicted sentence (beam search, alpha=0.6):\t <start> who wants to play ? <end>\n",
            "Predicted sentence (beam search, alpha=100):\t <start> who did you play play ? <end>\n",
            "----------------\n"
          ]
        }
      ],
      "source": [
        " ### DO NOT EDIT ###\n",
        "\n",
        "if __name__ == '__main__':\n",
        "    rnn_encoder.eval()\n",
        "    rnn_decoder.eval()\n",
        "    for h in range(5): # Do whole thing 5 times here, since doing batch size of 1 for beam search\n",
        "        idxes = random.choices(range(len(test_dataset.dataset)), k=1)\n",
        "        src, trg =  train_dataset.dataset[idxes]\n",
        "        beam_size = 5\n",
        "        alphas = [0.6, 100]\n",
        "        beam_result = [beam_decode_model(rnn_encoder, rnn_decoder, src.transpose(0,1).to(DEVICE), trg.size(1), beam_size,alpha=alpha) for alpha in alphas]\n",
        "        greedy_result = beam_decode_model(rnn_encoder, rnn_decoder, src.transpose(0,1).to(DEVICE), trg.size(1), 1,alpha=0)\n",
        "\n",
        "        print(\"Source sentence:\\t\\t\\t\\t\", ' '.join([x for x in [src_vocab.idx2word[j.item()] for j in src[0]] if x != '<pad>']))\n",
        "        print(\"Target sentence:\\t\\t\\t\\t\", ' '.join([x for x in [trg_vocab.idx2word[j.item()] for j in trg[0]] if x != '<pad>']))\n",
        "        print(\"Predicted sentence (greedy search):\\t\\t\", ' '.join([x for x in [trg_vocab.idx2word[j] for j in greedy_result] if x != '<pad>']))\n",
        "        for i in range(len(alphas)):\n",
        "            print(\"Predicted sentence (beam search, alpha=\"+str(alphas[i])+\"):\\t\", ' '.join([x for x in [trg_vocab.idx2word[j] for j in beam_result[i]] if x != '<pad>']))\n",
        "        print(\"----------------\")\n",
        "\n"
      ]
    },
    {
      "cell_type": "markdown",
      "metadata": {
        "id": "Vpr-psDzf5BV"
      },
      "source": [
        "## Evaluate RNN Model [8 points]\n",
        "\n",
        "We provide you with a function to run the test set through the model and calculate BLEU scores. We expect your BLEU scores to satisfy the following conditions:  \n",
        "\n",
        "*   BLEU-1 > 0.290\n",
        "*   BLEU-2 > 0.081\n",
        "*   BLEU-3 > 0.059\n",
        "*   BLEU-4 > 0.056\n",
        "\n",
        "Read more about Bleu Score at :\n",
        "\n",
        "1.   https://en.wikipedia.org/wiki/BLEU\n",
        "2.   https://www.aclweb.org/anthology/P02-1040.pdf"
      ]
    },
    {
      "cell_type": "code",
      "execution_count": 79,
      "metadata": {
        "colab": {
          "base_uri": "https://localhost:8080/"
        },
        "id": "bpLm8d1iq9bH",
        "outputId": "17270112-7e53-48c6-aae0-db409421e414"
      },
      "outputs": [
        {
          "name": "stdout",
          "output_type": "stream",
          "text": [
            "BLEU 1-gram: 0.292568\n",
            "BLEU 2-gram: 0.082519\n",
            "BLEU 3-gram: 0.060470\n",
            "BLEU 4-gram: 0.057631\n"
          ]
        }
      ],
      "source": [
        "### DO NOT EDIT ###\n",
        "\n",
        "def evaluate_model(encoder, decoder, test_dataset, target_tensor_val, device):\n",
        "    trg_vocab = decoder.trg_vocab\n",
        "    batch_size = test_dataset.batch_size\n",
        "    pad_idx = trg_vocab.word2idx['<pad>']\n",
        "\n",
        "    encoder.eval()\n",
        "    decoder.eval()\n",
        "\n",
        "    final_output, target_output = [], []\n",
        "\n",
        "    with torch.no_grad():\n",
        "        for batch, (src, trg) in enumerate(test_dataset):\n",
        "            sentences = sample_model(encoder,\n",
        "                                     decoder,\n",
        "                                     src.transpose(0,1).to(DEVICE),\n",
        "                                     trg.size(1),\n",
        "                                     temperature=0.0000001) # Low temperature ==> greedy decoding\n",
        "\n",
        "            final_output += sentences\n",
        "            trg_sents = [trg[i,:][trg[i,:] != pad_idx].tolist() for i in range(trg.shape[0])]\n",
        "            target_output += trg_sents\n",
        "\n",
        "    # Compute BLEU scores\n",
        "    return compute_bleu_scores(target_output, final_output, trg_vocab)\n",
        "\n",
        "if __name__ == '__main__':\n",
        "    rnn_save_candidate, rnn_scores = evaluate_model(rnn_encoder, rnn_decoder, test_dataset, trg_tensor_val, DEVICE)"
      ]
    },
    {
      "cell_type": "markdown",
      "metadata": {
        "id": "gZgsgEI8t0Jm"
      },
      "source": [
        "# Step 4: Train a Transformer [35 points]\n",
        "\n",
        "Here you will write a transformer model for machine translation, and then train and evaluate its results. Here are some helpful links:\n",
        "<ul>\n",
        "<li> Original transformer paper: https://arxiv.org/pdf/1706.03762.pdf\n",
        "<li> Helpful tutorial: http://jalammar.github.io/illustrated-transformer/\n",
        "<li> Another tutorial: http://peterbloem.nl/blog/transformers\n",
        "</ul>"
      ]
    },
    {
      "cell_type": "code",
      "execution_count": 80,
      "metadata": {
        "id": "HT3k1qK5jc_i"
      },
      "outputs": [],
      "source": [
        "### DO NOT EDIT ###\n",
        "\n",
        "import math"
      ]
    },
    {
      "cell_type": "markdown",
      "metadata": {
        "id": "PusbB7PNL0v3"
      },
      "source": [
        "## <font color='red'>TODO:</font> Positional Embeddings [5 points]\n",
        "\n",
        "Similar to the RNN, we start with the Encoder model. A key component of the encoder is the Positional Embedding. As we know, word embeddings encode words in such a way that words with similar meaning have similar vectors. Because there are no recurrences in a Transformer, we need a way to tell the transformer the relative position of words in a sentence: so will add a positional embedding to the word embeddings. Now, two words with a similar embedding will both be close in meaning and occur near each other in the sentence.\n",
        "\n",
        "You will create a positional embedding matrix of size $(max\\_len, embed\\_dim)$ using the following formulae:\n",
        "<br>\n",
        "$\\begin{align*} pe[pos,2i] &= \\sin \\Big (\\frac{pos}{10000^{2i/embed\\_dim}}\\Big )\\\\pe[pos,2i+1] &= \\cos \\Big (\\frac{pos}{10000^{2i/embed\\_dim}}\\Big ) \\end{align*}$\n",
        "\n",
        "<font color='green'><b>Hint:</b> You should probably take the logarithm of the denominator to avoid raising $10000$ to an exponent and then exponentiate the result before plugging it into the fraction. This will help you avoid numerical (overflow/underflow) issues.\n",
        "\n",
        "<font color='green'><b>Hint:</b> We encourage you to try to implement this function with no for loops, which is the general practice (as it is faster). However, since we are using relatively small datasets, you are welcome to do this with for loops if you prefer."
      ]
    },
    {
      "cell_type": "code",
      "execution_count": 88,
      "metadata": {
        "id": "FI1qLGOOdtYR"
      },
      "outputs": [],
      "source": [
        "def create_positional_embedding(max_len, embed_dim):\n",
        "    '''\n",
        "    Args:\n",
        "        max_len: The maximum length supported for positional embeddings\n",
        "        embed_dim: The size of your embeddings\n",
        "    Returns:\n",
        "        pe: [max_len, 1, embed_dim] computed as in the formulae above\n",
        "    '''\n",
        "    pe = None\n",
        "\n",
        "    ### TODO ###\n",
        "    pe = torch.zeros(max_len, embed_dim) # Initialize with zeros\n",
        "\n",
        "    # Create position tensor: [max_len, 1]\n",
        "    position = torch.arange(0, max_len, dtype=torch.float).unsqueeze(1)\n",
        "\n",
        "    # Create division term: 10000^(2i / embed_dim)\n",
        "    div_term_indices = torch.arange(0, embed_dim, 2, dtype=torch.float)\n",
        "    exponent = div_term_indices / embed_dim\n",
        "    # Using exp/log for stability\n",
        "    div_term = torch.exp(exponent * (-math.log(10000.0) / embed_dim)) # Corrected calculation\n",
        "    # Note: Original calculation was likely wrong, should be 10000^(2i/embed_dim)\n",
        "    # Correct div_term for 2i:\n",
        "    div_term = torch.exp(torch.arange(0, embed_dim, 2).float() * (-math.log(10000.0) / embed_dim))\n",
        "\n",
        "\n",
        "    # Calculate sin for even indices (2i)\n",
        "    pe[:, 0::2] = torch.sin(position * div_term) # Multiply position by div_term based on formula\n",
        "\n",
        "    # Calculate cos for odd indices (2i + 1)\n",
        "    # Use the same div_term (applies to the 'i' in 2i+1)\n",
        "    pe[:, 1::2] = torch.cos(position * div_term)\n",
        "\n",
        "    # Add batch dimension: [max_len, 1, embed_dim]\n",
        "    pe = pe.unsqueeze(1)\n",
        "\n",
        "    return pe"
      ]
    },
    {
      "cell_type": "markdown",
      "metadata": {
        "id": "Q9juHL8hikXv"
      },
      "source": [
        "## <font color='red'>TODO:</font> Encoder Model [10 points]\n",
        "\n",
        "Now you will create the Encoder model for the transformer.\n",
        "\n",
        "In this cell, you should implement the `__init(...)` and `forward(...)` functions, each of which is <b>5 points</b>."
      ]
    },
    {
      "cell_type": "code",
      "execution_count": 95,
      "metadata": {
        "id": "0BVTSc8HtrjF"
      },
      "outputs": [],
      "source": [
        "class TransformerEncoder(nn.Module):\n",
        "    def __init__(self, src_vocab, embedding_dim, num_heads,\n",
        "        num_layers, dim_feedforward, max_len_src, device, dropout=0.1):\n",
        "        super(TransformerEncoder, self).__init__()\n",
        "        self.device = device\n",
        "        \"\"\"\n",
        "        Args:\n",
        "            src_vocab: Vocab_Lang, the source vocabulary\n",
        "            embedding_dim: the dimension of the embedding (also the number of expected features for the input of the Transformer)\n",
        "            num_heads: The number of attention heads\n",
        "            num_layers: the number of Transformer Encoder layers\n",
        "            dim_feedforward: the dimension of the feedforward network models in the Transformer\n",
        "            max_len_src: maximum length of the source sentences\n",
        "            device: the working device (you may need to map your postional embedding to this device)\n",
        "            dropout: the dropout to be applied. Default=0.1.\n",
        "        \"\"\"\n",
        "        self.src_vocab = src_vocab # Do not change\n",
        "        src_vocab_size = len(src_vocab)\n",
        "\n",
        "        # Create positional embedding matrix\n",
        "        self.position_embedding = create_positional_embedding(max_len_src, embedding_dim).to(device)\n",
        "        self.register_buffer('positional_embedding', self.position_embedding) # this informs the model that position_embedding is not a learnable parameter\n",
        "\n",
        "        ### TODO ###\n",
        "        self.embedding_dim = embedding_dim\n",
        "\n",
        "        # Initialize embedding layer\n",
        "        self.embedding = nn.Embedding(src_vocab_size, embedding_dim)\n",
        "\n",
        "        # Dropout layer\n",
        "        self.dropout = nn.Dropout(dropout)\n",
        "\n",
        "        # Initialize a nn.TransformerEncoder model\n",
        "        encoder_layer = nn.TransformerEncoderLayer(\n",
        "            d_model=embedding_dim,\n",
        "            nhead=num_heads,\n",
        "            dim_feedforward=dim_feedforward,\n",
        "            dropout=dropout,\n",
        "            batch_first=False\n",
        "        )\n",
        "        self.transformer_encoder = nn.TransformerEncoder(\n",
        "            encoder_layer=encoder_layer,\n",
        "            num_layers=num_layers\n",
        "        )\n",
        "\n",
        "    def make_src_mask(self, src):\n",
        "        \"\"\"\n",
        "        Args:\n",
        "            src: [max_len, batch_size]\n",
        "        Returns:\n",
        "            Boolean matrix of size [batch_size, max_len] indicating which indices are padding\n",
        "        \"\"\"\n",
        "        assert len(src.shape) == 2, 'src must have exactly 2 dimensions'\n",
        "        src_mask = src.transpose(0, 1) == 0 # padding idx\n",
        "        return src_mask.to(self.device) # [batch_size, max_src_len]\n",
        "\n",
        "    def forward(self, x):\n",
        "        \"\"\"\n",
        "        Args:\n",
        "            x: [max_len, batch_size]\n",
        "        Returns:\n",
        "            output: [max_len, batch_size, embed_dim]\n",
        "        Pseudo-code (note: x refers to the original input to this function throughout the pseudo-code):\n",
        "        - Pass x through the word embedding\n",
        "        - Add positional embedding to the word embedding, then apply dropout\n",
        "        - Call make_src_mask(x) to compute a mask: this tells us which indexes in x\n",
        "          are padding, which we want to ignore for the self-attention\n",
        "        - Call the encoder, with src_key_padding_mask = src_mask\n",
        "        \"\"\"\n",
        "        output = None\n",
        "\n",
        "        ### TODO ###\n",
        "        device = x.device\n",
        "        word_embed = self.embedding(x) * math.sqrt(self.embedding_dim)\n",
        "        # word_embed should be on 'device' (e.g., cuda:0)\n",
        "\n",
        "        # Add positional embedding\n",
        "        # Access the buffer, slice it, and ensure it's on the correct device\n",
        "        max_len = x.shape[0] # Get max_len from input x\n",
        "        pos_embed_maybe_cpu = self.positional_embedding[:max_len, :, :]\n",
        "\n",
        "        # *** Move pos_embed to the same device as word_embed ***\n",
        "        pos_embed = pos_embed_maybe_cpu.to(device)\n",
        "\n",
        "        # Now perform addition (both tensors are on 'device')\n",
        "        combined_embed = word_embed + pos_embed\n",
        "\n",
        "        # Apply dropout\n",
        "        embed_dropout = self.dropout(combined_embed)\n",
        "\n",
        "        # Create source padding mask\n",
        "        src_mask = self.make_src_mask(x) # Should use self.device\n",
        "\n",
        "        # Pass through transformer encoder\n",
        "        output = self.transformer_encoder(\n",
        "            src=embed_dropout,\n",
        "            src_key_padding_mask=src_mask\n",
        "        )\n",
        "\n",
        "        return output"
      ]
    },
    {
      "cell_type": "markdown",
      "metadata": {
        "id": "41Cx5tcfqyTq"
      },
      "source": [
        "The code below runs a sanity check for your `TransformerEncoder` class. The tests are similar to the hidden ones in Gradescope. However, note that passing the sanity check does <b>not</b> guarantee that you will pass the autograder; it is intended to help you debug."
      ]
    },
    {
      "cell_type": "code",
      "execution_count": 96,
      "metadata": {
        "colab": {
          "base_uri": "https://localhost:8080/"
        },
        "id": "Xet_lf1rq0uR",
        "outputId": "a671d5f8-a591-460a-94f7-e88b7f4a29a0"
      },
      "outputs": [
        {
          "name": "stdout",
          "output_type": "stream",
          "text": [
            "--- TEST: Number of Model Parameters (tests __init__(...)) ---\n",
            "\tPASSED\tInput: {'src_vocab': ['a', 'aa', 'aaa'], 'embedding_dim': 4, 'num_heads': 1, 'dim_feedforward': 50, 'num_layers': 1, 'max_len_src': 16, 'device': device(type='cuda')}\tExpected Num. Params: 570\tYour Num. Params: 570\n",
            "\tPASSED\tInput: {'src_vocab': ['a', 'aa', 'aaa'], 'embedding_dim': 8, 'num_heads': 1, 'dim_feedforward': 50, 'num_layers': 1, 'max_len_src': 16, 'device': device(type='cuda')}\tExpected Num. Params: 1218\tYour Num. Params: 1218\n",
            "\tPASSED\tInput: {'src_vocab': ['a', 'aa', 'aaa'], 'embedding_dim': 12, 'num_heads': 1, 'dim_feedforward': 50, 'num_layers': 1, 'max_len_src': 16, 'device': device(type='cuda')}\tExpected Num. Params: 1994\tYour Num. Params: 1994\n",
            "\tPASSED\tInput: {'src_vocab': ['a', 'aa', 'aaa'], 'embedding_dim': 4, 'num_heads': 1, 'dim_feedforward': 100, 'num_layers': 2, 'max_len_src': 16, 'device': device(type='cuda')}\tExpected Num. Params: 2020\tYour Num. Params: 2020\n",
            "\tPASSED\tInput: {'src_vocab': ['a', 'aa', 'aaa'], 'embedding_dim': 8, 'num_heads': 2, 'dim_feedforward': 100, 'num_layers': 2, 'max_len_src': 16, 'device': device(type='cuda')}\tExpected Num. Params: 4096\tYour Num. Params: 4096\n",
            "\tPASSED\tInput: {'src_vocab': ['a', 'aa', 'aaa'], 'embedding_dim': 12, 'num_heads': 2, 'dim_feedforward': 100, 'num_layers': 2, 'max_len_src': 16, 'device': device(type='cuda')}\tExpected Num. Params: 6428\tYour Num. Params: 6428\n",
            "\tPASSED\tInput: {'src_vocab': ['a', 'aa', 'aaa'], 'embedding_dim': 4, 'num_heads': 2, 'dim_feedforward': 150, 'num_layers': 3, 'max_len_src': 16, 'device': device(type='cuda')}\tExpected Num. Params: 4370\tYour Num. Params: 4370\n",
            "\tPASSED\tInput: {'src_vocab': ['a', 'aa', 'aaa'], 'embedding_dim': 8, 'num_heads': 4, 'dim_feedforward': 150, 'num_layers': 3, 'max_len_src': 16, 'device': device(type='cuda')}\tExpected Num. Params: 8674\tYour Num. Params: 8674\n",
            "\tPASSED\tInput: {'src_vocab': ['a', 'aa', 'aaa'], 'embedding_dim': 12, 'num_heads': 4, 'dim_feedforward': 150, 'num_layers': 3, 'max_len_src': 16, 'device': device(type='cuda')}\tExpected Num. Params: 13362\tYour Num. Params: 13362\n"
          ]
        },
        {
          "name": "stderr",
          "output_type": "stream",
          "text": [
            "/usr/local/lib/python3.11/dist-packages/torch/nn/modules/transformer.py:385: UserWarning: enable_nested_tensor is True, but self.use_nested_tensor is False because encoder_layer.self_attn.batch_first was not True(use batch_first for better inference performance)\n",
            "  warnings.warn(\n"
          ]
        }
      ],
      "source": [
        "### DO NOT EDIT ###\n",
        "\n",
        "if __name__==\"__main__\":\n",
        "    # Set random seed\n",
        "    torch.manual_seed(42)\n",
        "    # Create test inputs\n",
        "    dimf = [50, 100, 150]\n",
        "    embedding_dim = [4, 8, 12]\n",
        "    max_len = 16\n",
        "    num_layers = iter([1,1,1,2,2,2,3,3,3])\n",
        "    nheads = iter([1, 1, 1, 1, 2, 2, 2, 4, 4])\n",
        "    sanity_vocab = Vocab_Lang(vocab=[\"a\", \"aa\", \"aaa\"])\n",
        "    params = []\n",
        "    inputs = []\n",
        "    for df in dimf:\n",
        "        for ed in embedding_dim:\n",
        "            inp = {}\n",
        "            inp['src_vocab'] = sanity_vocab\n",
        "            inp['embedding_dim'] = ed\n",
        "            inp['num_heads'] = next(nheads)\n",
        "            inp['dim_feedforward'] = df\n",
        "            inp['num_layers'] = next(num_layers)\n",
        "            inp['max_len_src'] = max_len\n",
        "            inp['device'] = DEVICE\n",
        "            inputs.append(inp)\n",
        "    # Test init\n",
        "    expected_outputs = [570, 1218, 1994, 2020, 4096, 6428, 4370, 8674, 13362]\n",
        "\n",
        "    sanityCheckModel(inputs, TransformerEncoder, expected_outputs, \"init\")"
      ]
    },
    {
      "cell_type": "code",
      "execution_count": 97,
      "metadata": {
        "colab": {
          "base_uri": "https://localhost:8080/",
          "height": 373
        },
        "id": "XQUWrgE-1Eo5",
        "outputId": "4eeade3e-8ef8-441f-fff8-9f0df95e1ee8"
      },
      "outputs": [
        {
          "name": "stdout",
          "output_type": "stream",
          "text": [
            "--- TEST: Output shape of forward(...) ---\n"
          ]
        },
        {
          "ename": "RuntimeError",
          "evalue": "Expected all tensors to be on the same device, but found at least two devices, cuda:0 and cpu!",
          "output_type": "error",
          "traceback": [
            "\u001b[0;31m---------------------------------------------------------------------------\u001b[0m",
            "\u001b[0;31mRuntimeError\u001b[0m                              Traceback (most recent call last)",
            "\u001b[0;32m<ipython-input-97-b0f400998360>\u001b[0m in \u001b[0;36m<cell line: 0>\u001b[0;34m()\u001b[0m\n\u001b[1;32m     27\u001b[0m     \u001b[0mexpected_outputs\u001b[0m \u001b[0;34m=\u001b[0m \u001b[0;34m[\u001b[0m\u001b[0mtorch\u001b[0m\u001b[0;34m.\u001b[0m\u001b[0mSize\u001b[0m\u001b[0;34m(\u001b[0m\u001b[0;34m[\u001b[0m\u001b[0;36m16\u001b[0m\u001b[0;34m,\u001b[0m \u001b[0;36m1\u001b[0m\u001b[0;34m,\u001b[0m \u001b[0;36m32\u001b[0m\u001b[0;34m]\u001b[0m\u001b[0;34m)\u001b[0m\u001b[0;34m,\u001b[0m \u001b[0mtorch\u001b[0m\u001b[0;34m.\u001b[0m\u001b[0mSize\u001b[0m\u001b[0;34m(\u001b[0m\u001b[0;34m[\u001b[0m\u001b[0;36m16\u001b[0m\u001b[0;34m,\u001b[0m \u001b[0;36m2\u001b[0m\u001b[0;34m,\u001b[0m \u001b[0;36m32\u001b[0m\u001b[0;34m]\u001b[0m\u001b[0;34m)\u001b[0m\u001b[0;34m,\u001b[0m \u001b[0mtorch\u001b[0m\u001b[0;34m.\u001b[0m\u001b[0mSize\u001b[0m\u001b[0;34m(\u001b[0m\u001b[0;34m[\u001b[0m\u001b[0;36m16\u001b[0m\u001b[0;34m,\u001b[0m \u001b[0;36m1\u001b[0m\u001b[0;34m,\u001b[0m \u001b[0;36m64\u001b[0m\u001b[0;34m]\u001b[0m\u001b[0;34m)\u001b[0m\u001b[0;34m,\u001b[0m \u001b[0mtorch\u001b[0m\u001b[0;34m.\u001b[0m\u001b[0mSize\u001b[0m\u001b[0;34m(\u001b[0m\u001b[0;34m[\u001b[0m\u001b[0;36m16\u001b[0m\u001b[0;34m,\u001b[0m \u001b[0;36m2\u001b[0m\u001b[0;34m,\u001b[0m \u001b[0;36m64\u001b[0m\u001b[0;34m]\u001b[0m\u001b[0;34m)\u001b[0m\u001b[0;34m,\u001b[0m \u001b[0mtorch\u001b[0m\u001b[0;34m.\u001b[0m\u001b[0mSize\u001b[0m\u001b[0;34m(\u001b[0m\u001b[0;34m[\u001b[0m\u001b[0;36m16\u001b[0m\u001b[0;34m,\u001b[0m \u001b[0;36m1\u001b[0m\u001b[0;34m,\u001b[0m \u001b[0;36m128\u001b[0m\u001b[0;34m]\u001b[0m\u001b[0;34m)\u001b[0m\u001b[0;34m,\u001b[0m \u001b[0mtorch\u001b[0m\u001b[0;34m.\u001b[0m\u001b[0mSize\u001b[0m\u001b[0;34m(\u001b[0m\u001b[0;34m[\u001b[0m\u001b[0;36m16\u001b[0m\u001b[0;34m,\u001b[0m \u001b[0;36m2\u001b[0m\u001b[0;34m,\u001b[0m \u001b[0;36m128\u001b[0m\u001b[0;34m]\u001b[0m\u001b[0;34m)\u001b[0m\u001b[0;34m]\u001b[0m\u001b[0;34m\u001b[0m\u001b[0;34m\u001b[0m\u001b[0m\n\u001b[1;32m     28\u001b[0m \u001b[0;34m\u001b[0m\u001b[0m\n\u001b[0;32m---> 29\u001b[0;31m     \u001b[0msanityCheckModel\u001b[0m\u001b[0;34m(\u001b[0m\u001b[0minputs\u001b[0m\u001b[0;34m,\u001b[0m \u001b[0mTransformerEncoder\u001b[0m\u001b[0;34m,\u001b[0m \u001b[0mexpected_outputs\u001b[0m\u001b[0;34m,\u001b[0m \u001b[0;34m\"forward\"\u001b[0m\u001b[0;34m)\u001b[0m\u001b[0;34m\u001b[0m\u001b[0;34m\u001b[0m\u001b[0m\n\u001b[0m",
            "\u001b[0;32m<ipython-input-3-cb59bd8cf0be>\u001b[0m in \u001b[0;36msanityCheckModel\u001b[0;34m(all_test_params, NN, expected_outputs, init_or_forward)\u001b[0m\n\u001b[1;32m     26\u001b[0m             \u001b[0;32mwith\u001b[0m \u001b[0mtorch\u001b[0m\u001b[0;34m.\u001b[0m\u001b[0mno_grad\u001b[0m\u001b[0;34m(\u001b[0m\u001b[0;34m)\u001b[0m\u001b[0;34m:\u001b[0m\u001b[0;34m\u001b[0m\u001b[0;34m\u001b[0m\u001b[0m\n\u001b[1;32m     27\u001b[0m                 \u001b[0;32mif\u001b[0m \u001b[0mNN\u001b[0m\u001b[0;34m.\u001b[0m\u001b[0m__name__\u001b[0m \u001b[0;34m==\u001b[0m \u001b[0;34m\"TransformerEncoder\"\u001b[0m\u001b[0;34m:\u001b[0m\u001b[0;34m\u001b[0m\u001b[0;34m\u001b[0m\u001b[0m\n\u001b[0;32m---> 28\u001b[0;31m                     \u001b[0mstu_out\u001b[0m \u001b[0;34m=\u001b[0m \u001b[0mstu_nn\u001b[0m\u001b[0;34m(\u001b[0m\u001b[0mtexts\u001b[0m\u001b[0;34m)\u001b[0m\u001b[0;34m\u001b[0m\u001b[0;34m\u001b[0m\u001b[0m\n\u001b[0m\u001b[1;32m     29\u001b[0m                 \u001b[0;32melse\u001b[0m\u001b[0;34m:\u001b[0m\u001b[0;34m\u001b[0m\u001b[0;34m\u001b[0m\u001b[0m\n\u001b[1;32m     30\u001b[0m                     \u001b[0mstu_out\u001b[0m\u001b[0;34m,\u001b[0m \u001b[0m_\u001b[0m \u001b[0;34m=\u001b[0m \u001b[0mstu_nn\u001b[0m\u001b[0;34m(\u001b[0m\u001b[0mtexts\u001b[0m\u001b[0;34m)\u001b[0m\u001b[0;34m\u001b[0m\u001b[0;34m\u001b[0m\u001b[0m\n",
            "\u001b[0;32m/usr/local/lib/python3.11/dist-packages/torch/nn/modules/module.py\u001b[0m in \u001b[0;36m_wrapped_call_impl\u001b[0;34m(self, *args, **kwargs)\u001b[0m\n\u001b[1;32m   1737\u001b[0m             \u001b[0;32mreturn\u001b[0m \u001b[0mself\u001b[0m\u001b[0;34m.\u001b[0m\u001b[0m_compiled_call_impl\u001b[0m\u001b[0;34m(\u001b[0m\u001b[0;34m*\u001b[0m\u001b[0margs\u001b[0m\u001b[0;34m,\u001b[0m \u001b[0;34m**\u001b[0m\u001b[0mkwargs\u001b[0m\u001b[0;34m)\u001b[0m  \u001b[0;31m# type: ignore[misc]\u001b[0m\u001b[0;34m\u001b[0m\u001b[0;34m\u001b[0m\u001b[0m\n\u001b[1;32m   1738\u001b[0m         \u001b[0;32melse\u001b[0m\u001b[0;34m:\u001b[0m\u001b[0;34m\u001b[0m\u001b[0;34m\u001b[0m\u001b[0m\n\u001b[0;32m-> 1739\u001b[0;31m             \u001b[0;32mreturn\u001b[0m \u001b[0mself\u001b[0m\u001b[0;34m.\u001b[0m\u001b[0m_call_impl\u001b[0m\u001b[0;34m(\u001b[0m\u001b[0;34m*\u001b[0m\u001b[0margs\u001b[0m\u001b[0;34m,\u001b[0m \u001b[0;34m**\u001b[0m\u001b[0mkwargs\u001b[0m\u001b[0;34m)\u001b[0m\u001b[0;34m\u001b[0m\u001b[0;34m\u001b[0m\u001b[0m\n\u001b[0m\u001b[1;32m   1740\u001b[0m \u001b[0;34m\u001b[0m\u001b[0m\n\u001b[1;32m   1741\u001b[0m     \u001b[0;31m# torchrec tests the code consistency with the following code\u001b[0m\u001b[0;34m\u001b[0m\u001b[0;34m\u001b[0m\u001b[0m\n",
            "\u001b[0;32m/usr/local/lib/python3.11/dist-packages/torch/nn/modules/module.py\u001b[0m in \u001b[0;36m_call_impl\u001b[0;34m(self, *args, **kwargs)\u001b[0m\n\u001b[1;32m   1748\u001b[0m                 \u001b[0;32mor\u001b[0m \u001b[0m_global_backward_pre_hooks\u001b[0m \u001b[0;32mor\u001b[0m \u001b[0m_global_backward_hooks\u001b[0m\u001b[0;34m\u001b[0m\u001b[0;34m\u001b[0m\u001b[0m\n\u001b[1;32m   1749\u001b[0m                 or _global_forward_hooks or _global_forward_pre_hooks):\n\u001b[0;32m-> 1750\u001b[0;31m             \u001b[0;32mreturn\u001b[0m \u001b[0mforward_call\u001b[0m\u001b[0;34m(\u001b[0m\u001b[0;34m*\u001b[0m\u001b[0margs\u001b[0m\u001b[0;34m,\u001b[0m \u001b[0;34m**\u001b[0m\u001b[0mkwargs\u001b[0m\u001b[0;34m)\u001b[0m\u001b[0;34m\u001b[0m\u001b[0;34m\u001b[0m\u001b[0m\n\u001b[0m\u001b[1;32m   1751\u001b[0m \u001b[0;34m\u001b[0m\u001b[0m\n\u001b[1;32m   1752\u001b[0m         \u001b[0mresult\u001b[0m \u001b[0;34m=\u001b[0m \u001b[0;32mNone\u001b[0m\u001b[0;34m\u001b[0m\u001b[0;34m\u001b[0m\u001b[0m\n",
            "\u001b[0;32m<ipython-input-95-48c66021e82f>\u001b[0m in \u001b[0;36mforward\u001b[0;34m(self, x)\u001b[0m\n\u001b[1;32m     93\u001b[0m \u001b[0;34m\u001b[0m\u001b[0m\n\u001b[1;32m     94\u001b[0m         \u001b[0;31m# Pass through transformer encoder\u001b[0m\u001b[0;34m\u001b[0m\u001b[0;34m\u001b[0m\u001b[0m\n\u001b[0;32m---> 95\u001b[0;31m         output = self.transformer_encoder(\n\u001b[0m\u001b[1;32m     96\u001b[0m             \u001b[0msrc\u001b[0m\u001b[0;34m=\u001b[0m\u001b[0membed_dropout\u001b[0m\u001b[0;34m,\u001b[0m\u001b[0;34m\u001b[0m\u001b[0;34m\u001b[0m\u001b[0m\n\u001b[1;32m     97\u001b[0m             \u001b[0msrc_key_padding_mask\u001b[0m\u001b[0;34m=\u001b[0m\u001b[0msrc_mask\u001b[0m\u001b[0;34m\u001b[0m\u001b[0;34m\u001b[0m\u001b[0m\n",
            "\u001b[0;32m/usr/local/lib/python3.11/dist-packages/torch/nn/modules/module.py\u001b[0m in \u001b[0;36m_wrapped_call_impl\u001b[0;34m(self, *args, **kwargs)\u001b[0m\n\u001b[1;32m   1737\u001b[0m             \u001b[0;32mreturn\u001b[0m \u001b[0mself\u001b[0m\u001b[0;34m.\u001b[0m\u001b[0m_compiled_call_impl\u001b[0m\u001b[0;34m(\u001b[0m\u001b[0;34m*\u001b[0m\u001b[0margs\u001b[0m\u001b[0;34m,\u001b[0m \u001b[0;34m**\u001b[0m\u001b[0mkwargs\u001b[0m\u001b[0;34m)\u001b[0m  \u001b[0;31m# type: ignore[misc]\u001b[0m\u001b[0;34m\u001b[0m\u001b[0;34m\u001b[0m\u001b[0m\n\u001b[1;32m   1738\u001b[0m         \u001b[0;32melse\u001b[0m\u001b[0;34m:\u001b[0m\u001b[0;34m\u001b[0m\u001b[0;34m\u001b[0m\u001b[0m\n\u001b[0;32m-> 1739\u001b[0;31m             \u001b[0;32mreturn\u001b[0m \u001b[0mself\u001b[0m\u001b[0;34m.\u001b[0m\u001b[0m_call_impl\u001b[0m\u001b[0;34m(\u001b[0m\u001b[0;34m*\u001b[0m\u001b[0margs\u001b[0m\u001b[0;34m,\u001b[0m \u001b[0;34m**\u001b[0m\u001b[0mkwargs\u001b[0m\u001b[0;34m)\u001b[0m\u001b[0;34m\u001b[0m\u001b[0;34m\u001b[0m\u001b[0m\n\u001b[0m\u001b[1;32m   1740\u001b[0m \u001b[0;34m\u001b[0m\u001b[0m\n\u001b[1;32m   1741\u001b[0m     \u001b[0;31m# torchrec tests the code consistency with the following code\u001b[0m\u001b[0;34m\u001b[0m\u001b[0;34m\u001b[0m\u001b[0m\n",
            "\u001b[0;32m/usr/local/lib/python3.11/dist-packages/torch/nn/modules/module.py\u001b[0m in \u001b[0;36m_call_impl\u001b[0;34m(self, *args, **kwargs)\u001b[0m\n\u001b[1;32m   1748\u001b[0m                 \u001b[0;32mor\u001b[0m \u001b[0m_global_backward_pre_hooks\u001b[0m \u001b[0;32mor\u001b[0m \u001b[0m_global_backward_hooks\u001b[0m\u001b[0;34m\u001b[0m\u001b[0;34m\u001b[0m\u001b[0m\n\u001b[1;32m   1749\u001b[0m                 or _global_forward_hooks or _global_forward_pre_hooks):\n\u001b[0;32m-> 1750\u001b[0;31m             \u001b[0;32mreturn\u001b[0m \u001b[0mforward_call\u001b[0m\u001b[0;34m(\u001b[0m\u001b[0;34m*\u001b[0m\u001b[0margs\u001b[0m\u001b[0;34m,\u001b[0m \u001b[0;34m**\u001b[0m\u001b[0mkwargs\u001b[0m\u001b[0;34m)\u001b[0m\u001b[0;34m\u001b[0m\u001b[0;34m\u001b[0m\u001b[0m\n\u001b[0m\u001b[1;32m   1751\u001b[0m \u001b[0;34m\u001b[0m\u001b[0m\n\u001b[1;32m   1752\u001b[0m         \u001b[0mresult\u001b[0m \u001b[0;34m=\u001b[0m \u001b[0;32mNone\u001b[0m\u001b[0;34m\u001b[0m\u001b[0;34m\u001b[0m\u001b[0m\n",
            "\u001b[0;32m/usr/local/lib/python3.11/dist-packages/torch/nn/modules/transformer.py\u001b[0m in \u001b[0;36mforward\u001b[0;34m(self, src, mask, src_key_padding_mask, is_causal)\u001b[0m\n\u001b[1;32m    515\u001b[0m \u001b[0;34m\u001b[0m\u001b[0m\n\u001b[1;32m    516\u001b[0m         \u001b[0;32mfor\u001b[0m \u001b[0mmod\u001b[0m \u001b[0;32min\u001b[0m \u001b[0mself\u001b[0m\u001b[0;34m.\u001b[0m\u001b[0mlayers\u001b[0m\u001b[0;34m:\u001b[0m\u001b[0;34m\u001b[0m\u001b[0;34m\u001b[0m\u001b[0m\n\u001b[0;32m--> 517\u001b[0;31m             output = mod(\n\u001b[0m\u001b[1;32m    518\u001b[0m                 \u001b[0moutput\u001b[0m\u001b[0;34m,\u001b[0m\u001b[0;34m\u001b[0m\u001b[0;34m\u001b[0m\u001b[0m\n\u001b[1;32m    519\u001b[0m                 \u001b[0msrc_mask\u001b[0m\u001b[0;34m=\u001b[0m\u001b[0mmask\u001b[0m\u001b[0;34m,\u001b[0m\u001b[0;34m\u001b[0m\u001b[0;34m\u001b[0m\u001b[0m\n",
            "\u001b[0;32m/usr/local/lib/python3.11/dist-packages/torch/nn/modules/module.py\u001b[0m in \u001b[0;36m_wrapped_call_impl\u001b[0;34m(self, *args, **kwargs)\u001b[0m\n\u001b[1;32m   1737\u001b[0m             \u001b[0;32mreturn\u001b[0m \u001b[0mself\u001b[0m\u001b[0;34m.\u001b[0m\u001b[0m_compiled_call_impl\u001b[0m\u001b[0;34m(\u001b[0m\u001b[0;34m*\u001b[0m\u001b[0margs\u001b[0m\u001b[0;34m,\u001b[0m \u001b[0;34m**\u001b[0m\u001b[0mkwargs\u001b[0m\u001b[0;34m)\u001b[0m  \u001b[0;31m# type: ignore[misc]\u001b[0m\u001b[0;34m\u001b[0m\u001b[0;34m\u001b[0m\u001b[0m\n\u001b[1;32m   1738\u001b[0m         \u001b[0;32melse\u001b[0m\u001b[0;34m:\u001b[0m\u001b[0;34m\u001b[0m\u001b[0;34m\u001b[0m\u001b[0m\n\u001b[0;32m-> 1739\u001b[0;31m             \u001b[0;32mreturn\u001b[0m \u001b[0mself\u001b[0m\u001b[0;34m.\u001b[0m\u001b[0m_call_impl\u001b[0m\u001b[0;34m(\u001b[0m\u001b[0;34m*\u001b[0m\u001b[0margs\u001b[0m\u001b[0;34m,\u001b[0m \u001b[0;34m**\u001b[0m\u001b[0mkwargs\u001b[0m\u001b[0;34m)\u001b[0m\u001b[0;34m\u001b[0m\u001b[0;34m\u001b[0m\u001b[0m\n\u001b[0m\u001b[1;32m   1740\u001b[0m \u001b[0;34m\u001b[0m\u001b[0m\n\u001b[1;32m   1741\u001b[0m     \u001b[0;31m# torchrec tests the code consistency with the following code\u001b[0m\u001b[0;34m\u001b[0m\u001b[0;34m\u001b[0m\u001b[0m\n",
            "\u001b[0;32m/usr/local/lib/python3.11/dist-packages/torch/nn/modules/module.py\u001b[0m in \u001b[0;36m_call_impl\u001b[0;34m(self, *args, **kwargs)\u001b[0m\n\u001b[1;32m   1748\u001b[0m                 \u001b[0;32mor\u001b[0m \u001b[0m_global_backward_pre_hooks\u001b[0m \u001b[0;32mor\u001b[0m \u001b[0m_global_backward_hooks\u001b[0m\u001b[0;34m\u001b[0m\u001b[0;34m\u001b[0m\u001b[0m\n\u001b[1;32m   1749\u001b[0m                 or _global_forward_hooks or _global_forward_pre_hooks):\n\u001b[0;32m-> 1750\u001b[0;31m             \u001b[0;32mreturn\u001b[0m \u001b[0mforward_call\u001b[0m\u001b[0;34m(\u001b[0m\u001b[0;34m*\u001b[0m\u001b[0margs\u001b[0m\u001b[0;34m,\u001b[0m \u001b[0;34m**\u001b[0m\u001b[0mkwargs\u001b[0m\u001b[0;34m)\u001b[0m\u001b[0;34m\u001b[0m\u001b[0;34m\u001b[0m\u001b[0m\n\u001b[0m\u001b[1;32m   1751\u001b[0m \u001b[0;34m\u001b[0m\u001b[0m\n\u001b[1;32m   1752\u001b[0m         \u001b[0mresult\u001b[0m \u001b[0;34m=\u001b[0m \u001b[0;32mNone\u001b[0m\u001b[0;34m\u001b[0m\u001b[0;34m\u001b[0m\u001b[0m\n",
            "\u001b[0;32m/usr/local/lib/python3.11/dist-packages/torch/nn/modules/transformer.py\u001b[0m in \u001b[0;36mforward\u001b[0;34m(self, src, src_mask, src_key_padding_mask, is_causal)\u001b[0m\n\u001b[1;32m    918\u001b[0m             x = self.norm1(\n\u001b[1;32m    919\u001b[0m                 \u001b[0mx\u001b[0m\u001b[0;34m\u001b[0m\u001b[0;34m\u001b[0m\u001b[0m\n\u001b[0;32m--> 920\u001b[0;31m                 \u001b[0;34m+\u001b[0m \u001b[0mself\u001b[0m\u001b[0;34m.\u001b[0m\u001b[0m_sa_block\u001b[0m\u001b[0;34m(\u001b[0m\u001b[0mx\u001b[0m\u001b[0;34m,\u001b[0m \u001b[0msrc_mask\u001b[0m\u001b[0;34m,\u001b[0m \u001b[0msrc_key_padding_mask\u001b[0m\u001b[0;34m,\u001b[0m \u001b[0mis_causal\u001b[0m\u001b[0;34m=\u001b[0m\u001b[0mis_causal\u001b[0m\u001b[0;34m)\u001b[0m\u001b[0;34m\u001b[0m\u001b[0;34m\u001b[0m\u001b[0m\n\u001b[0m\u001b[1;32m    921\u001b[0m             )\n\u001b[1;32m    922\u001b[0m             \u001b[0mx\u001b[0m \u001b[0;34m=\u001b[0m \u001b[0mself\u001b[0m\u001b[0;34m.\u001b[0m\u001b[0mnorm2\u001b[0m\u001b[0;34m(\u001b[0m\u001b[0mx\u001b[0m \u001b[0;34m+\u001b[0m \u001b[0mself\u001b[0m\u001b[0;34m.\u001b[0m\u001b[0m_ff_block\u001b[0m\u001b[0;34m(\u001b[0m\u001b[0mx\u001b[0m\u001b[0;34m)\u001b[0m\u001b[0;34m)\u001b[0m\u001b[0;34m\u001b[0m\u001b[0;34m\u001b[0m\u001b[0m\n",
            "\u001b[0;32m/usr/local/lib/python3.11/dist-packages/torch/nn/modules/transformer.py\u001b[0m in \u001b[0;36m_sa_block\u001b[0;34m(self, x, attn_mask, key_padding_mask, is_causal)\u001b[0m\n\u001b[1;32m    932\u001b[0m         \u001b[0mis_causal\u001b[0m\u001b[0;34m:\u001b[0m \u001b[0mbool\u001b[0m \u001b[0;34m=\u001b[0m \u001b[0;32mFalse\u001b[0m\u001b[0;34m,\u001b[0m\u001b[0;34m\u001b[0m\u001b[0;34m\u001b[0m\u001b[0m\n\u001b[1;32m    933\u001b[0m     ) -> Tensor:\n\u001b[0;32m--> 934\u001b[0;31m         x = self.self_attn(\n\u001b[0m\u001b[1;32m    935\u001b[0m             \u001b[0mx\u001b[0m\u001b[0;34m,\u001b[0m\u001b[0;34m\u001b[0m\u001b[0;34m\u001b[0m\u001b[0m\n\u001b[1;32m    936\u001b[0m             \u001b[0mx\u001b[0m\u001b[0;34m,\u001b[0m\u001b[0;34m\u001b[0m\u001b[0;34m\u001b[0m\u001b[0m\n",
            "\u001b[0;32m/usr/local/lib/python3.11/dist-packages/torch/nn/modules/module.py\u001b[0m in \u001b[0;36m_wrapped_call_impl\u001b[0;34m(self, *args, **kwargs)\u001b[0m\n\u001b[1;32m   1737\u001b[0m             \u001b[0;32mreturn\u001b[0m \u001b[0mself\u001b[0m\u001b[0;34m.\u001b[0m\u001b[0m_compiled_call_impl\u001b[0m\u001b[0;34m(\u001b[0m\u001b[0;34m*\u001b[0m\u001b[0margs\u001b[0m\u001b[0;34m,\u001b[0m \u001b[0;34m**\u001b[0m\u001b[0mkwargs\u001b[0m\u001b[0;34m)\u001b[0m  \u001b[0;31m# type: ignore[misc]\u001b[0m\u001b[0;34m\u001b[0m\u001b[0;34m\u001b[0m\u001b[0m\n\u001b[1;32m   1738\u001b[0m         \u001b[0;32melse\u001b[0m\u001b[0;34m:\u001b[0m\u001b[0;34m\u001b[0m\u001b[0;34m\u001b[0m\u001b[0m\n\u001b[0;32m-> 1739\u001b[0;31m             \u001b[0;32mreturn\u001b[0m \u001b[0mself\u001b[0m\u001b[0;34m.\u001b[0m\u001b[0m_call_impl\u001b[0m\u001b[0;34m(\u001b[0m\u001b[0;34m*\u001b[0m\u001b[0margs\u001b[0m\u001b[0;34m,\u001b[0m \u001b[0;34m**\u001b[0m\u001b[0mkwargs\u001b[0m\u001b[0;34m)\u001b[0m\u001b[0;34m\u001b[0m\u001b[0;34m\u001b[0m\u001b[0m\n\u001b[0m\u001b[1;32m   1740\u001b[0m \u001b[0;34m\u001b[0m\u001b[0m\n\u001b[1;32m   1741\u001b[0m     \u001b[0;31m# torchrec tests the code consistency with the following code\u001b[0m\u001b[0;34m\u001b[0m\u001b[0;34m\u001b[0m\u001b[0m\n",
            "\u001b[0;32m/usr/local/lib/python3.11/dist-packages/torch/nn/modules/module.py\u001b[0m in \u001b[0;36m_call_impl\u001b[0;34m(self, *args, **kwargs)\u001b[0m\n\u001b[1;32m   1748\u001b[0m                 \u001b[0;32mor\u001b[0m \u001b[0m_global_backward_pre_hooks\u001b[0m \u001b[0;32mor\u001b[0m \u001b[0m_global_backward_hooks\u001b[0m\u001b[0;34m\u001b[0m\u001b[0;34m\u001b[0m\u001b[0m\n\u001b[1;32m   1749\u001b[0m                 or _global_forward_hooks or _global_forward_pre_hooks):\n\u001b[0;32m-> 1750\u001b[0;31m             \u001b[0;32mreturn\u001b[0m \u001b[0mforward_call\u001b[0m\u001b[0;34m(\u001b[0m\u001b[0;34m*\u001b[0m\u001b[0margs\u001b[0m\u001b[0;34m,\u001b[0m \u001b[0;34m**\u001b[0m\u001b[0mkwargs\u001b[0m\u001b[0;34m)\u001b[0m\u001b[0;34m\u001b[0m\u001b[0;34m\u001b[0m\u001b[0m\n\u001b[0m\u001b[1;32m   1751\u001b[0m \u001b[0;34m\u001b[0m\u001b[0m\n\u001b[1;32m   1752\u001b[0m         \u001b[0mresult\u001b[0m \u001b[0;34m=\u001b[0m \u001b[0;32mNone\u001b[0m\u001b[0;34m\u001b[0m\u001b[0;34m\u001b[0m\u001b[0m\n",
            "\u001b[0;32m/usr/local/lib/python3.11/dist-packages/torch/nn/modules/activation.py\u001b[0m in \u001b[0;36mforward\u001b[0;34m(self, query, key, value, key_padding_mask, need_weights, attn_mask, average_attn_weights, is_causal)\u001b[0m\n\u001b[1;32m   1371\u001b[0m             )\n\u001b[1;32m   1372\u001b[0m         \u001b[0;32melse\u001b[0m\u001b[0;34m:\u001b[0m\u001b[0;34m\u001b[0m\u001b[0;34m\u001b[0m\u001b[0m\n\u001b[0;32m-> 1373\u001b[0;31m             attn_output, attn_output_weights = F.multi_head_attention_forward(\n\u001b[0m\u001b[1;32m   1374\u001b[0m                 \u001b[0mquery\u001b[0m\u001b[0;34m,\u001b[0m\u001b[0;34m\u001b[0m\u001b[0;34m\u001b[0m\u001b[0m\n\u001b[1;32m   1375\u001b[0m                 \u001b[0mkey\u001b[0m\u001b[0;34m,\u001b[0m\u001b[0;34m\u001b[0m\u001b[0;34m\u001b[0m\u001b[0m\n",
            "\u001b[0;32m/usr/local/lib/python3.11/dist-packages/torch/nn/functional.py\u001b[0m in \u001b[0;36mmulti_head_attention_forward\u001b[0;34m(query, key, value, embed_dim_to_check, num_heads, in_proj_weight, in_proj_bias, bias_k, bias_v, add_zero_attn, dropout_p, out_proj_weight, out_proj_bias, training, key_padding_mask, need_weights, attn_mask, use_separate_proj_weight, q_proj_weight, k_proj_weight, v_proj_weight, static_k, static_v, average_attn_weights, is_causal)\u001b[0m\n\u001b[1;32m   6408\u001b[0m         \u001b[0mv\u001b[0m \u001b[0;34m=\u001b[0m \u001b[0mv\u001b[0m\u001b[0;34m.\u001b[0m\u001b[0mview\u001b[0m\u001b[0;34m(\u001b[0m\u001b[0mbsz\u001b[0m\u001b[0;34m,\u001b[0m \u001b[0mnum_heads\u001b[0m\u001b[0;34m,\u001b[0m \u001b[0msrc_len\u001b[0m\u001b[0;34m,\u001b[0m \u001b[0mhead_dim\u001b[0m\u001b[0;34m)\u001b[0m\u001b[0;34m\u001b[0m\u001b[0;34m\u001b[0m\u001b[0m\n\u001b[1;32m   6409\u001b[0m \u001b[0;34m\u001b[0m\u001b[0m\n\u001b[0;32m-> 6410\u001b[0;31m         attn_output = scaled_dot_product_attention(\n\u001b[0m\u001b[1;32m   6411\u001b[0m             \u001b[0mq\u001b[0m\u001b[0;34m,\u001b[0m \u001b[0mk\u001b[0m\u001b[0;34m,\u001b[0m \u001b[0mv\u001b[0m\u001b[0;34m,\u001b[0m \u001b[0mattn_mask\u001b[0m\u001b[0;34m,\u001b[0m \u001b[0mdropout_p\u001b[0m\u001b[0;34m,\u001b[0m \u001b[0mis_causal\u001b[0m\u001b[0;34m\u001b[0m\u001b[0;34m\u001b[0m\u001b[0m\n\u001b[1;32m   6412\u001b[0m         )\n",
            "\u001b[0;31mRuntimeError\u001b[0m: Expected all tensors to be on the same device, but found at least two devices, cuda:0 and cpu!"
          ]
        }
      ],
      "source": [
        "### DO NOT EDIT ###\n",
        "\n",
        "if __name__==\"__main__\":\n",
        "    # Set random seed\n",
        "    torch.manual_seed(42)\n",
        "    # Test forward\n",
        "    inputs = []\n",
        "    embedding_dims = [32,64,128]\n",
        "    batch_sizes = [1, 2]\n",
        "    dimf = 100\n",
        "    nheads = iter([1,1,2,2,4,4])\n",
        "    num_layers = iter([1,1,2,2,3,3])\n",
        "    max_len = 16\n",
        "    sanity_vocab = Vocab_Lang(vocab=[\"a\", \"aa\", \"aaa\"])\n",
        "    for ed in embedding_dims:\n",
        "        for b in batch_sizes:\n",
        "            inp = {}\n",
        "            inp['src_vocab'] = sanity_vocab\n",
        "            inp['embedding_dim'] = ed\n",
        "            inp['num_heads'] = next(nheads)\n",
        "            inp['dim_feedforward'] = dimf\n",
        "            inp['num_layers'] = next(num_layers)\n",
        "            inp['max_len_src'] = max_len\n",
        "            inp['device'] = DEVICE\n",
        "            inp[\"batch_size\"] = b\n",
        "            inputs.append(inp)\n",
        "    expected_outputs = [torch.Size([16, 1, 32]), torch.Size([16, 2, 32]), torch.Size([16, 1, 64]), torch.Size([16, 2, 64]), torch.Size([16, 1, 128]), torch.Size([16, 2, 128])]\n",
        "\n",
        "    sanityCheckModel(inputs, TransformerEncoder, expected_outputs, \"forward\")"
      ]
    },
    {
      "cell_type": "markdown",
      "metadata": {
        "id": "CVCo7w4MMPKt"
      },
      "source": [
        "## <font color='red'>TODO:</font> Decoder Model [10 points]\n",
        "Now we implement a Decoder model. Unlike the RNN, you do not need to explicitly compute inter-attention with the encoder; you will use the nn.TransformerDecoder model, which takes care of this for you.\n",
        "\n",
        "In this cell, you should implement the `__init(...)` and `forward(...)` functions, each of which is <b>5 points</b>."
      ]
    },
    {
      "cell_type": "code",
      "execution_count": null,
      "metadata": {
        "id": "DJtTIHJYyNmU"
      },
      "outputs": [],
      "source": [
        "class TransformerDecoder(nn.Module):\n",
        "    def __init__(self, trg_vocab, embedding_dim, num_heads,\n",
        "        num_layers, dim_feedforward, max_len_trg, device, dropout=0.1):\n",
        "        super(TransformerDecoder, self).__init__()\n",
        "        self.device = device\n",
        "        \"\"\"\n",
        "        Args:\n",
        "            trg_vocab: Vocab_Lang, the target vocabulary\n",
        "            embedding_dim: the dimension of the embedding (also the number of expected features for the input of the Transformer)\n",
        "            num_heads: The number of attention heads\n",
        "            num_layers: the number of Transformer Decoder layers\n",
        "            dim_feedforward: the dimension of the feedforward network models in the Transformer\n",
        "            max_len_trg: maximum length of the target sentences\n",
        "            device: the working device (you may need to map your postional embedding to this device)\n",
        "            dropout: the dropout to be applied. Default=0.1.\n",
        "        \"\"\"\n",
        "        self.trg_vocab = trg_vocab # Do not change\n",
        "        trg_vocab_size = len(trg_vocab)\n",
        "\n",
        "        # Create positional embedding matrix\n",
        "        self.position_embedding = create_positional_embedding(max_len_trg, embedding_dim).to(device)\n",
        "        self.register_buffer('positional_embedding', self.position_embedding) # this informs the model that positional_embedding is not a learnable parameter\n",
        "\n",
        "        ### TODO ###\n",
        "\n",
        "        # Initialize embedding layer\n",
        "\n",
        "        # Dropout layer\n",
        "\n",
        "        # Initialize a nn.TransformerDecoder model (you'll need to use embedding_dim,\n",
        "        # num_layers, num_heads, & dim_feedforward here)\n",
        "\n",
        "        # Final fully connected layer\n",
        "        # Initialize embedding layer\n",
        "        self.embedding = nn.Embedding(trg_vocab_size, embedding_dim)\n",
        "\n",
        "        # Dropout layer\n",
        "        self.dropout = nn.Dropout(dropout)\n",
        "\n",
        "        # Initialize a nn.TransformerDecoder model\n",
        "        # Create a single TransformerDecoderLayer first\n",
        "        decoder_layer = nn.TransformerDecoderLayer(\n",
        "            d_model=embedding_dim,\n",
        "            nhead=num_heads,\n",
        "            dim_feedforward=dim_feedforward,\n",
        "            dropout=dropout,\n",
        "            batch_first=False # Expects [seq_len, batch, features]\n",
        "        )\n",
        "        # Stack multiple layers\n",
        "        self.transformer_decoder = nn.TransformerDecoder(\n",
        "            decoder_layer=decoder_layer,\n",
        "            num_layers=num_layers\n",
        "        )\n",
        "\n",
        "        # Final fully connected layer to map output to vocabulary size\n",
        "        self.fc_out = nn.Linear(embedding_dim, trg_vocab_size)\n",
        "\n",
        "    def generate_square_subsequent_mask(self, sz):\n",
        "        \"\"\"Generate a square mask for the sequence. The masked positions are filled with float('-inf').\n",
        "            Unmasked positions are filled with float(0.0).\n",
        "        \"\"\"\n",
        "        mask = (torch.triu(torch.ones(sz, sz)) == 1).transpose(0, 1)\n",
        "        mask = mask.float().masked_fill(mask == 0, float('-inf')).masked_fill(mask == 1, float(0.0)).to(self.device)\n",
        "        return mask\n",
        "\n",
        "    def forward(self, dec_in, enc_out):\n",
        "        \"\"\"\n",
        "        Args:\n",
        "            dec_in: [sequence length, batch_size]\n",
        "            enc_out: [max_len_src, batch_size, embed_dim]\n",
        "        Returns:\n",
        "            output: [sequence length, batch_size, trg_vocab_size]\n",
        "        Pseudo-code:\n",
        "            - Compute input word and positional embeddings in similar manner to encoder\n",
        "            - Call generate_square_subsequent_mask() to compute a mask: this time,\n",
        "              the mask is to prevent the decoder from attending to tokens in the \"future\".\n",
        "              In other words, at time step i, the decoder should only attend to tokens\n",
        "              1 to i-1.\n",
        "            - Call the decoder, with tgt_mask = trg_mask\n",
        "            - Run the output through the fully-connected layer and return it\n",
        "        \"\"\"\n",
        "        output = None\n",
        "\n",
        "        ### TODO ###\n",
        "        word_embed = self.embedding(dec_in) * math.sqrt(self.embedding_dim) # Shape [seq_len, batch_size, embed_dim]\n",
        "\n",
        "        # Add positional embedding\n",
        "        pos_embed = self.positional_embedding_const[:seq_len, :, :] # Shape [seq_len, 1, embed_dim]\n",
        "        combined_embed = word_embed + pos_embed # Shape [seq_len, batch_size, embed_dim]\n",
        "\n",
        "        # Apply dropout\n",
        "        embed_dropout = self.dropout(combined_embed) # Shape [seq_len, batch_size, embed_dim]\n",
        "\n",
        "        tgt_mask = self.generate_square_subsequent_mask(seq_len) # Shape [seq_len, seq_len]\n",
        "\n",
        "        decoder_output = self.transformer_decoder(\n",
        "            tgt=embed_dropout,\n",
        "            memory=enc_out,\n",
        "            tgt_mask=tgt_mask,\n",
        "            memory_key_padding_mask=None # Assuming no padding mask for encoder output needed here\n",
        "                                         # If src had padding, encoder should handle it.\n",
        "                                         # Pass src_key_padding_mask from encoder if needed.\n",
        "        )\n",
        "\n",
        "        output = self.fc_out(decoder_output) # Shape [seq_len, batch_size, trg_vocab_size]\n",
        "\n",
        "        return output\n",
        "\n",
        "    def decode_step(self, inputs, enc_output, dec_hs):\n",
        "        '''\n",
        "        Call one step of the decoder.\n",
        "\n",
        "        Args:\n",
        "            inputs: Input tokens; [batch_size, sequence length]\n",
        "            enc_output: Encoder outputs; [max_len_src, batch_size, embed_dim]\n",
        "            dec_hs: None\n",
        "\n",
        "        Returns:\n",
        "            fc_out: (Unnormalized) output distribution [batch_size, vocab_size]\n",
        "            dec_hs: None\n",
        "        '''\n",
        "        assert dec_hs is None, 'For the transformer model, make sure you pass dec_hs = None!'\n",
        "        preds = self(inputs.transpose(0,1), enc_output)[-1]\n",
        "        return preds, None"
      ]
    },
    {
      "cell_type": "markdown",
      "metadata": {
        "id": "Vsdsm8jk2YHl"
      },
      "source": [
        "The code below runs a sanity check for your `TransformerDecoder` class. The tests are similar to the hidden ones in Gradescope. However, note that passing the sanity check does <b>not</b> guarantee that you will pass the autograder; it is intended to help you debug."
      ]
    },
    {
      "cell_type": "code",
      "execution_count": null,
      "metadata": {
        "id": "1W093yUg25an"
      },
      "outputs": [],
      "source": [
        "### DO NOT EDIT ###\n",
        "\n",
        "def sanityCheckTransformerDecoderModelForward(inputs, NN, expected_outputs):\n",
        "    print('--- TEST: Output shape of forward(...) ---\\n')\n",
        "    msg = ''\n",
        "    for i, inp in enumerate(inputs):\n",
        "        input_rep = '{'\n",
        "        for k,v in inp.items():\n",
        "            if torch.is_tensor(v):\n",
        "                input_rep += str(k) + ': ' + 'Tensor with shape ' + str(v.size()) + ', '\n",
        "            else:\n",
        "                input_rep += str(k) + ': ' + str(v) + ', '\n",
        "        input_rep += '}'\n",
        "        dec = NN(trg_vocab=inp['trg_vocab'],embedding_dim=inp['embedding_dim'],num_heads=inp['num_heads'],num_layers=inp['num_layers'],dim_feedforward=inp['dim_feedforward'],max_len_trg=inp['max_len_trg'],device=inp['device'])\n",
        "        dec_in = torch.randint(low=0,high=len(inputs[0]['trg_vocab']),size=(inp['max_len_trg'], inp['batch_size']))\n",
        "        enc_out = torch.rand(inp['max_len_trg'], inp['batch_size'], inp['embedding_dim'])\n",
        "        inp['encoder_outputs'] = enc_out\n",
        "        with torch.no_grad():\n",
        "            stu_out = dec(enc_out=enc_out, dec_in=dec_in)\n",
        "        del dec\n",
        "        has_passed = True\n",
        "        if not torch.is_tensor(stu_out):\n",
        "            has_passed = False\n",
        "            msg = 'Output must be a torch.Tensor; received ' + str(type(stu_out))\n",
        "        status = 'PASSED' if has_passed else 'FAILED'\n",
        "        if not has_passed:\n",
        "            message = '\\t' + status + \"\\t Init Input: \" + input_rep + '\\tForward Input Shape (dec_in): ' + str(dec_in.shape) + '\\tExpected Output Shape: ' + str(expected_outputs[i]) + '\\t' + msg\n",
        "            print(message)\n",
        "            continue\n",
        "\n",
        "        has_passed = stu_out.size() == expected_outputs[i]\n",
        "        msg = 'Your Output Shape: ' + str(stu_out.size())\n",
        "        status = 'PASSED' if has_passed else 'FAILED'\n",
        "        message = '\\t' + status + \"\\t Init Input: \" + input_rep + '\\tForward Input Shape (dec_in): ' + str(dec_in.shape) + '\\tExpected Output Shape: ' + str(expected_outputs[i]) + '\\t' + msg\n",
        "        print(message)\n",
        "\n"
      ]
    },
    {
      "cell_type": "code",
      "execution_count": null,
      "metadata": {
        "id": "2dIb90hi3fC0"
      },
      "outputs": [],
      "source": [
        "### DO NOT EDIT ###\n",
        "\n",
        "if __name__ == '__main__':\n",
        "    # Set random seed\n",
        "    torch.manual_seed(42)\n",
        "    # Create test inputs\n",
        "    hidden_units = [50, 100, 200]\n",
        "    embedding_dim = [8, 16]\n",
        "    num_heads = [1, 2]\n",
        "    dim_feedforward = [50, 100]\n",
        "    num_layers = [1, 2]\n",
        "    max_lens = 64\n",
        "    sanity_vocab = Vocab_Lang(vocab=[\"a\", \"aa\", \"aaa\"])\n",
        "    params = []\n",
        "    inputs = []\n",
        "    for ed in embedding_dim:\n",
        "        for df in dim_feedforward:\n",
        "            for nh in num_heads:\n",
        "                for nl in num_layers:\n",
        "                    inp = {}\n",
        "                    inp['trg_vocab'] = sanity_vocab\n",
        "                    inp['embedding_dim'] = ed\n",
        "                    inp['num_heads'] = nh\n",
        "                    inp['num_layers'] = nl\n",
        "                    inp['dim_feedforward'] = df\n",
        "                    inp['max_len_trg'] = max_lens\n",
        "                    inp['device'] = DEVICE\n",
        "                    inputs.append(inp)\n",
        "    # Test init\n",
        "    expected_outputs = [1567, 3049, 1567, 3049, 2417, 4749, 2417, 4749]\n",
        "    sanityCheckModel(inputs, TransformerDecoder, expected_outputs, \"init\")\n",
        "    print()\n",
        "\n",
        "    # Test forward\n",
        "    inputs = []\n",
        "    batch_sizes = [1, 2, 4]\n",
        "    num_heads = 2\n",
        "    num_layers = 1\n",
        "    embedding_dims = iter([100, 100, 200, 200, 200, 400, 400, 800, 800])\n",
        "    max_lens = iter([16, 16, 16, 32, 32, 32, 64, 64, 128])\n",
        "    expected_outputs = [torch.Size([16, 1, 5]),torch.Size([16, 2, 5]),torch.Size([16, 4, 5]),torch.Size([32, 1, 5]),torch.Size([32, 2, 5]),torch.Size([32, 4, 5]),torch.Size([64, 1, 5]),torch.Size([64, 2, 5]),torch.Size([128, 4, 5])]\n",
        "\n",
        "    for hu in hidden_units:\n",
        "        for b in batch_sizes:\n",
        "            inp = {}\n",
        "            edim = next(embedding_dims)\n",
        "            inp['embedding_dim'] = edim\n",
        "            inp['trg_vocab'] = sanity_vocab\n",
        "            inp['num_heads'] = num_heads\n",
        "            inp['num_layers'] = num_layers\n",
        "            inp[\"batch_size\"] = b\n",
        "            inp['dim_feedforward'] = hu\n",
        "            inp['max_len_trg'] = next(max_lens)\n",
        "            inp['device'] = DEVICE\n",
        "            inputs.append(inp)\n",
        "\n",
        "    sanityCheckTransformerDecoderModelForward(inputs, TransformerDecoder, expected_outputs)\n"
      ]
    },
    {
      "cell_type": "markdown",
      "metadata": {
        "id": "g3zXR9gYMgek"
      },
      "source": [
        "## Train Transformer Model\n",
        "\n",
        "Like the RNN, we train the encoder and decoder using cross-entropy loss."
      ]
    },
    {
      "cell_type": "code",
      "execution_count": null,
      "metadata": {
        "id": "dN6rnn4N3vcc"
      },
      "outputs": [],
      "source": [
        "### DO NOT EDIT ###\n",
        "\n",
        "def train_transformer_model(encoder, decoder, optimizer, device, n_epochs):\n",
        "    encoder.train()\n",
        "    decoder.train()\n",
        "    criterion = nn.CrossEntropyLoss(ignore_index=0)\n",
        "    for epoch in range(n_epochs):\n",
        "        start = time.time()\n",
        "        losses = []\n",
        "\n",
        "        for src, trg in tqdm(train_dataset):\n",
        "\n",
        "            src = src.to(device).transpose(0,1) # [max_src_length, batch_size]\n",
        "            trg = trg.to(device).transpose(0,1) # [max_trg_length, batch_size]\n",
        "\n",
        "            enc_out = encoder(src)\n",
        "            output = decoder(trg[:-1, :], enc_out)\n",
        "\n",
        "            output = output.reshape(-1, output.shape[2])\n",
        "            trg = trg[1:].reshape(-1)\n",
        "\n",
        "            optimizer.zero_grad()\n",
        "\n",
        "            loss = criterion(output, trg)\n",
        "            losses.append(loss.item())\n",
        "\n",
        "            loss.backward()\n",
        "\n",
        "            # Clip to avoid exploding grading issues\n",
        "            torch.nn.utils.clip_grad_norm_(encoder.parameters(), max_norm=1)\n",
        "            torch.nn.utils.clip_grad_norm_(decoder.parameters(), max_norm=1)\n",
        "\n",
        "            optimizer.step()\n",
        "\n",
        "        mean_loss = sum(losses) / len(losses)\n",
        "        print('Epoch:{:2d}/{}\\t Loss:{:.4f} ({:.2f}s)'.format(epoch + 1, n_epochs, mean_loss, time.time() - start))\n"
      ]
    },
    {
      "cell_type": "code",
      "execution_count": null,
      "metadata": {
        "id": "B15xUHct1fuw"
      },
      "outputs": [],
      "source": [
        "### DO NOT EDIT ###\n",
        "\n",
        "if __name__ == '__main__':\n",
        "    # HYPERPARAMETERS - feel free to change\n",
        "    LEARNING_RATE = 0.001\n",
        "    DIM_FEEDFORWARD=512\n",
        "    N_EPOCHS=10\n",
        "    N_HEADS=2\n",
        "    N_LAYERS=2\n",
        "    DROPOUT=0.1\n",
        "\n",
        "    transformer_encoder = TransformerEncoder(src_vocab, EMBEDDING_DIM, N_HEADS,\n",
        "                                 N_LAYERS,DIM_FEEDFORWARD,\n",
        "                                 max_length_src, DEVICE, DROPOUT).to(DEVICE)\n",
        "    transformer_decoder = TransformerDecoder(trg_vocab, EMBEDDING_DIM, N_HEADS,\n",
        "                              N_LAYERS,DIM_FEEDFORWARD,\n",
        "                              max_length_trg, DEVICE, DROPOUT).to(DEVICE)\n",
        "\n",
        "    transformer_model_params = list(transformer_encoder.parameters()) + list(transformer_decoder.parameters())\n",
        "    optimizer = torch.optim.Adam(transformer_model_params, lr=LEARNING_RATE)\n",
        "\n",
        "    print('Encoder and Decoder models initialized!')"
      ]
    },
    {
      "cell_type": "code",
      "execution_count": null,
      "metadata": {
        "id": "ur0ucStn3vi5"
      },
      "outputs": [],
      "source": [
        "### DO NOT EDIT ###\n",
        "\n",
        "if __name__ == '__main__':\n",
        "    train_transformer_model(transformer_encoder, transformer_decoder, optimizer, DEVICE, N_EPOCHS)"
      ]
    },
    {
      "cell_type": "markdown",
      "metadata": {
        "id": "LbwJp2AMM0bz"
      },
      "source": [
        "## Inference\n",
        "\n",
        "Now that we have trained the model, we can use it on test data. Since you have already written the sampling and decoding function, we can call them on the transformers.\n",
        "\n",
        "You can run the cell below to qualitatively compare some of the sentences your model generates with the some of the correct translations."
      ]
    },
    {
      "cell_type": "code",
      "execution_count": null,
      "metadata": {
        "id": "yv3OYDbaWfGd"
      },
      "outputs": [],
      "source": [
        "### DO NOT EDIT ###\n",
        "\n",
        "if __name__ == '__main__':\n",
        "    transformer_encoder.eval()\n",
        "    transformer_decoder.eval()\n",
        "    idxes = random.choices(range(len(test_dataset.dataset)), k=5)\n",
        "    src, trg =  train_dataset.dataset[idxes]\n",
        "    results = {}\n",
        "    for temp in [0.01, 1.0, 2.0]:\n",
        "        results[temp] = sample_model(transformer_encoder, transformer_decoder, src.transpose(0,1).to(DEVICE), trg.size(1), temp)\n",
        "    for i in range(len(src)):\n",
        "        print(\"Source sentence:\\t\\t\", ' '.join([x for x in [src_vocab.idx2word[j.item()] for j in src[i]] if x != '<pad>']))\n",
        "        print(\"Target sentence:\\t\\t\", ' '.join([x for x in [trg_vocab.idx2word[j.item()] for j in trg[i]] if x != '<pad>']))\n",
        "        for temp in results:\n",
        "            print(\"Sampled sentence (T=\"+str(temp)+\"):\\t\", ' '.join([x for x in [trg_vocab.idx2word[j] for j in results[temp][i]] if x != '<pad>']))\n",
        "        print(\"----------------\")"
      ]
    },
    {
      "cell_type": "code",
      "execution_count": null,
      "metadata": {
        "id": "sjIH9i8ycOSm"
      },
      "outputs": [],
      "source": [
        "### DO NOT EDIT ###\n",
        "\n",
        "if __name__ == '__main__':\n",
        "    transformer_encoder.eval()\n",
        "    transformer_decoder.eval()\n",
        "    for h in range(5): # Do whole thing 5 times here, since doing batch size of 1 for beam search\n",
        "        idxes = random.choices(range(len(test_dataset.dataset)), k=1)\n",
        "        src, trg =  train_dataset.dataset[idxes]\n",
        "        beam_size = 5\n",
        "        alphas = [0.6, 100]\n",
        "        beam_result = [beam_decode_model(transformer_encoder, transformer_decoder, src.transpose(0,1).to(DEVICE), trg.size(1), beam_size,alpha=alpha) for alpha in alphas]\n",
        "        greedy_result = beam_decode_model(transformer_encoder, transformer_decoder, src.transpose(0,1).to(DEVICE), trg.size(1), 1,alpha=0)\n",
        "\n",
        "        print(\"Source sentence:\\t\\t\\t\\t\", ' '.join([x for x in [src_vocab.idx2word[j.item()] for j in src[0]] if x != '<pad>']))\n",
        "        print(\"Target sentence:\\t\\t\\t\\t\", ' '.join([x for x in [trg_vocab.idx2word[j.item()] for j in trg[0]] if x != '<pad>']))\n",
        "        print(\"Predicted sentence (greedy search):\\t\\t\", ' '.join([x for x in [trg_vocab.idx2word[j] for j in greedy_result] if x != '<pad>']))\n",
        "        for i in range(len(alphas)):\n",
        "            print(\"Predicted sentence (beam search, alpha=\"+str(alphas[i])+\"):\\t\", ' '.join([x for x in [trg_vocab.idx2word[j] for j in beam_result[i]] if x != '<pad>']))\n",
        "        print(\"----------------\")"
      ]
    },
    {
      "cell_type": "markdown",
      "metadata": {
        "id": "W3KeBgqjoVP-"
      },
      "source": [
        "## Evaluate Transformer Model [8 points]\n",
        "\n",
        "Now we can run the test set through the transformer model. We expect your BLEU scores to satisfy the following conditions:\n",
        "\n",
        "*   BLEU-1 > 0.290\n",
        "*   BLEU-2 > 0.081\n",
        "*   BLEU-3 > 0.059\n",
        "*   BLEU-4 > 0.056\n"
      ]
    },
    {
      "cell_type": "code",
      "execution_count": null,
      "metadata": {
        "id": "UaIW7SmMEBZ_"
      },
      "outputs": [],
      "source": [
        "### DO NOT EDIT ###\n",
        "\n",
        "if __name__ == '__main__':\n",
        "    transformer_save_candidate, transformer_scores = evaluate_model(transformer_encoder, transformer_decoder, test_dataset, trg_tensor_val, DEVICE)"
      ]
    },
    {
      "cell_type": "markdown",
      "metadata": {
        "id": "nYKSWRO93Mjz"
      },
      "source": [
        "# What to Submit\n",
        "\n",
        "To submit the assignment, download this notebook as a <TT>.py</TT> file. You can do this by going to <TT>File > Download > Download .py</TT>. Then rename it to `hwk3.py`.\n",
        "\n",
        "You will also need to save the `rnn_encoder`, `rnn_decoder`, `transformer_encoder` and `transformer_decoder`. You can run the cell below to do this. After you save the files to your Google Drive, you need to manually download the files to your computer, and then submit them to the autograder.\n",
        "\n",
        "You will submit the following files to the autograder:\n",
        "1.   `hwk3.py`, the download of this notebook as a `.py` file (**not** a `.ipynb` file)\n",
        "1.   `rnn_encoder.pt`, the saved version of your `rnn_encoder`\n",
        "1.   `rnn_decoder.pt`, the saved version of your `rnn_decoder`\n",
        "1.   `transformer_encoder.pt`, the saved version of your `transformer_encoder`\n",
        "1.   `transformer_decoder.pt`, the saved version of your `transformer_decoder`\n",
        "\n",
        "**Reminder: Make sure that you access the Gradescope submission page via the corresponding assignment in Coursera!** Failure to do so may result in the inability to push your grades to Coursera. (The same goes for quizzes!)"
      ]
    },
    {
      "cell_type": "code",
      "execution_count": null,
      "metadata": {
        "id": "3HbvhiamQKSQ"
      },
      "outputs": [],
      "source": [
        "### DO NOT EDIT ###\n",
        "\n",
        "import pickle"
      ]
    },
    {
      "cell_type": "code",
      "execution_count": null,
      "metadata": {
        "id": "R2Jnt32ItMA7"
      },
      "outputs": [],
      "source": [
        "### DO NOT EDIT ###\n",
        "\n",
        "if __name__=='__main__':\n",
        "    from google.colab import drive\n",
        "    drive.mount('/content/drive')\n",
        "    print()\n",
        "    if rnn_encoder is not None and rnn_encoder is not None:\n",
        "        print(\"Saving RNN model....\")\n",
        "        torch.save(rnn_encoder, 'drive/My Drive/rnn_encoder.pt')\n",
        "        torch.save(rnn_decoder, 'drive/My Drive/rnn_decoder.pt')\n",
        "    if transformer_encoder is not None and transformer_decoder is not None:\n",
        "        print(\"Saving Transformer model....\")\n",
        "        torch.save(transformer_encoder, 'drive/My Drive/transformer_encoder.pt')\n",
        "        torch.save(transformer_decoder, 'drive/My Drive/transformer_decoder.pt')"
      ]
    }
  ],
  "metadata": {
    "accelerator": "GPU",
    "colab": {
      "gpuType": "T4",
      "provenance": [],
      "toc_visible": true
    },
    "kernelspec": {
      "display_name": "Python 3",
      "name": "python3"
    },
    "widgets": {
      "application/vnd.jupyter.widget-state+json": {}
    }
  },
  "nbformat": 4,
  "nbformat_minor": 0
}
